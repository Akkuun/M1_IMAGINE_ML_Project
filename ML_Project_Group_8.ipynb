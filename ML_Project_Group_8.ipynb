{
  "cells": [
    {
      "cell_type": "markdown",
      "metadata": {
        "id": "view-in-github",
        "colab_type": "text"
      },
      "source": [
        "<a href=\"https://colab.research.google.com/github/Akkuun/M1_IMAGINE_ML_Project/blob/main/ML_Project_Group_8.ipynb\" target=\"_parent\"><img src=\"https://colab.research.google.com/assets/colab-badge.svg\" alt=\"Open In Colab\"/></a>"
      ]
    },
    {
      "cell_type": "markdown",
      "metadata": {
        "id": "8TrS005tL4IK"
      },
      "source": [
        "<H1>Projet Machine Learning</H1>\n",
        "<H2>HAI817I - 2024/2025</H2>\n",
        "<H3>Classification d'assertions venant d’X (Twitter) selon leur rapport à la science </H3>\n",
        "\n"
      ]
    },
    {
      "cell_type": "markdown",
      "source": [
        "<H1>Groupe 8 </H1>\n",
        "<br>\n",
        "\n",
        "Duban Mathis: 22102226\n",
        "\n",
        "Gonzalez Oropeza Gilles : 21602817\n",
        "\n",
        "Bernardon Vincent : 22009116  \n",
        "\n",
        "\n"
      ],
      "metadata": {
        "id": "z0NOOF9G5pcn"
      }
    },
    {
      "cell_type": "markdown",
      "source": [
        "<H2> Sujet </H2>\n",
        "\n",
        "Ce projet s’inscrit dans le contexte de l’apprentissage supervisé, i.e. les données possèdent des\n",
        "labels. Il vise à trouver les modèles les plus performants pour prédire si des assertions (une\n",
        "assertion est une proposition que l'on avance et que l'on soutient comme vraie) faites par des\n",
        "hommes politiques (par exemple) sont vraies ou fausses."
      ],
      "metadata": {
        "id": "UM40RUam6XKY"
      }
    },
    {
      "cell_type": "markdown",
      "metadata": {
        "id": "nSelmNSfL4IN"
      },
      "source": [
        "\n",
        "\n",
        "\n",
        "---\n",
        "\n"
      ]
    },
    {
      "cell_type": "markdown",
      "source": [
        "<H1>Tables des matières </H1>\n",
        "\n",
        "\n",
        "\n",
        "*   Installation\n",
        "\n",
        "\n",
        "\n"
      ],
      "metadata": {
        "id": "1BXkJCCP7QDL"
      }
    },
    {
      "cell_type": "markdown",
      "source": [
        "## **Installation**\n"
      ],
      "metadata": {
        "id": "0ipZpM6RMEV7"
      }
    },
    {
      "cell_type": "markdown",
      "source": [
        "Dans cette partie, nous allons installer toutes les librairies que nous allons avoir besoin pour notre projet.\n",
        "\n",
        "\n"
      ],
      "metadata": {
        "id": "y-Q8HasoMUjG"
      }
    },
    {
      "cell_type": "code",
      "source": [
        "# Installation des librairies pour le projet\n",
        "!pip install pandas numpy\n",
        "# Importation des différentes librairies utiles pour le notebook\n",
        "\n",
        "import warnings # Supprime les warnings\n",
        "warnings.filterwarnings(\"ignore\", category=FutureWarning)\n",
        "\n",
        "# librairies de manipulation de données (graphique, lecture de données,ect...)\n",
        "import pandas as pd # Lecture de données\n",
        "import numpy as np # Array\n",
        "import seaborn as sns #\n",
        "import matplotlib.pyplot as plt # Graphique\n",
        "import sys"
      ],
      "metadata": {
        "id": "gJXkCVWmMfvW",
        "colab": {
          "base_uri": "https://localhost:8080/"
        },
        "outputId": "fdf79b7d-2e07-4ec0-9192-b4601a9fad8a"
      },
      "execution_count": 4,
      "outputs": [
        {
          "output_type": "stream",
          "name": "stdout",
          "text": [
            "Requirement already satisfied: pandas in /usr/local/lib/python3.11/dist-packages (2.2.2)\n",
            "Requirement already satisfied: numpy in /usr/local/lib/python3.11/dist-packages (1.26.4)\n",
            "Requirement already satisfied: python-dateutil>=2.8.2 in /usr/local/lib/python3.11/dist-packages (from pandas) (2.8.2)\n",
            "Requirement already satisfied: pytz>=2020.1 in /usr/local/lib/python3.11/dist-packages (from pandas) (2025.1)\n",
            "Requirement already satisfied: tzdata>=2022.7 in /usr/local/lib/python3.11/dist-packages (from pandas) (2025.1)\n",
            "Requirement already satisfied: six>=1.5 in /usr/local/lib/python3.11/dist-packages (from python-dateutil>=2.8.2->pandas) (1.17.0)\n"
          ]
        }
      ]
    },
    {
      "cell_type": "markdown",
      "source": [
        "Importation du répertoire de travail sur Google Drive\n"
      ],
      "metadata": {
        "id": "uJyoB1FiNAkI"
      }
    },
    {
      "cell_type": "code",
      "source": [
        "from google.colab import drive\n",
        "drive.mount('/content/gdrive/')\n",
        "path='/content/gdrive/My Drive/M1_IMAGINE_ML/ML_Project/'\n",
        "sys.path.append(path)\n",
        "%cd $path\n",
        "%pwd"
      ],
      "metadata": {
        "colab": {
          "base_uri": "https://localhost:8080/",
          "height": 69
        },
        "id": "vQZtvdqANBtj",
        "outputId": "11aafd47-4a1b-4a10-c46c-b24ae083f69d"
      },
      "execution_count": 12,
      "outputs": [
        {
          "output_type": "stream",
          "name": "stdout",
          "text": [
            "Drive already mounted at /content/gdrive/; to attempt to forcibly remount, call drive.mount(\"/content/gdrive/\", force_remount=True).\n",
            "/content/gdrive/My Drive/M1_IMAGINE_ML/ML_Project\n"
          ]
        },
        {
          "output_type": "execute_result",
          "data": {
            "text/plain": [
              "'/content/gdrive/My Drive/M1_IMAGINE_ML/ML_Project'"
            ],
            "application/vnd.google.colaboratory.intrinsic+json": {
              "type": "string"
            }
          },
          "metadata": {},
          "execution_count": 12
        }
      ]
    },
    {
      "cell_type": "markdown",
      "source": [
        "Récupération des données du dataSet présent sur le répertoire Google Drive en ligne\n"
      ],
      "metadata": {
        "id": "4Uf38WR6AAp1"
      }
    },
    {
      "cell_type": "code",
      "source": [
        "# Importation des données\n",
        "df=pd.read_csv('dataSet/data.csv', sep='\\t')\n",
        "# Lecture des 5 premières lignes pour confirmer la bonne récupération des données\n",
        "display (df.head())"
      ],
      "metadata": {
        "colab": {
          "base_uri": "https://localhost:8080/",
          "height": 310
        },
        "id": "Pbvd4Y3yAHfk",
        "outputId": "2f317090-b450-4171-8902-ade5e011ddba"
      },
      "execution_count": 14,
      "outputs": [
        {
          "output_type": "display_data",
          "data": {
            "text/plain": [
              "   Unnamed: 0            tweet_id  \\\n",
              "0           0  316669998137483264   \n",
              "1           1  319090866545385472   \n",
              "2           2  322030931022065664   \n",
              "3           3  322694830620807168   \n",
              "4           4  328524426658328576   \n",
              "\n",
              "                                                text  science_related  \\\n",
              "0  Knees are a bit sore. i guess that's a sign th...                0   \n",
              "1          McDonald's breakfast stop then the gym 🏀💪                0   \n",
              "2  Can any Gynecologist with Cancer Experience ex...                1   \n",
              "3  Couch-lock highs lead to sleeping in the couch...                1   \n",
              "4  Does daily routine help prevent problems with ...                1   \n",
              "\n",
              "   scientific_claim  scientific_reference  scientific_context  \n",
              "0               0.0                   0.0                 0.0  \n",
              "1               0.0                   0.0                 0.0  \n",
              "2               1.0                   0.0                 0.0  \n",
              "3               1.0                   0.0                 0.0  \n",
              "4               1.0                   0.0                 0.0  "
            ],
            "text/html": [
              "\n",
              "  <div id=\"df-34894679-a978-4e04-9336-5629755d0f91\" class=\"colab-df-container\">\n",
              "    <div>\n",
              "<style scoped>\n",
              "    .dataframe tbody tr th:only-of-type {\n",
              "        vertical-align: middle;\n",
              "    }\n",
              "\n",
              "    .dataframe tbody tr th {\n",
              "        vertical-align: top;\n",
              "    }\n",
              "\n",
              "    .dataframe thead th {\n",
              "        text-align: right;\n",
              "    }\n",
              "</style>\n",
              "<table border=\"1\" class=\"dataframe\">\n",
              "  <thead>\n",
              "    <tr style=\"text-align: right;\">\n",
              "      <th></th>\n",
              "      <th>Unnamed: 0</th>\n",
              "      <th>tweet_id</th>\n",
              "      <th>text</th>\n",
              "      <th>science_related</th>\n",
              "      <th>scientific_claim</th>\n",
              "      <th>scientific_reference</th>\n",
              "      <th>scientific_context</th>\n",
              "    </tr>\n",
              "  </thead>\n",
              "  <tbody>\n",
              "    <tr>\n",
              "      <th>0</th>\n",
              "      <td>0</td>\n",
              "      <td>316669998137483264</td>\n",
              "      <td>Knees are a bit sore. i guess that's a sign th...</td>\n",
              "      <td>0</td>\n",
              "      <td>0.0</td>\n",
              "      <td>0.0</td>\n",
              "      <td>0.0</td>\n",
              "    </tr>\n",
              "    <tr>\n",
              "      <th>1</th>\n",
              "      <td>1</td>\n",
              "      <td>319090866545385472</td>\n",
              "      <td>McDonald's breakfast stop then the gym 🏀💪</td>\n",
              "      <td>0</td>\n",
              "      <td>0.0</td>\n",
              "      <td>0.0</td>\n",
              "      <td>0.0</td>\n",
              "    </tr>\n",
              "    <tr>\n",
              "      <th>2</th>\n",
              "      <td>2</td>\n",
              "      <td>322030931022065664</td>\n",
              "      <td>Can any Gynecologist with Cancer Experience ex...</td>\n",
              "      <td>1</td>\n",
              "      <td>1.0</td>\n",
              "      <td>0.0</td>\n",
              "      <td>0.0</td>\n",
              "    </tr>\n",
              "    <tr>\n",
              "      <th>3</th>\n",
              "      <td>3</td>\n",
              "      <td>322694830620807168</td>\n",
              "      <td>Couch-lock highs lead to sleeping in the couch...</td>\n",
              "      <td>1</td>\n",
              "      <td>1.0</td>\n",
              "      <td>0.0</td>\n",
              "      <td>0.0</td>\n",
              "    </tr>\n",
              "    <tr>\n",
              "      <th>4</th>\n",
              "      <td>4</td>\n",
              "      <td>328524426658328576</td>\n",
              "      <td>Does daily routine help prevent problems with ...</td>\n",
              "      <td>1</td>\n",
              "      <td>1.0</td>\n",
              "      <td>0.0</td>\n",
              "      <td>0.0</td>\n",
              "    </tr>\n",
              "  </tbody>\n",
              "</table>\n",
              "</div>\n",
              "    <div class=\"colab-df-buttons\">\n",
              "\n",
              "  <div class=\"colab-df-container\">\n",
              "    <button class=\"colab-df-convert\" onclick=\"convertToInteractive('df-34894679-a978-4e04-9336-5629755d0f91')\"\n",
              "            title=\"Convert this dataframe to an interactive table.\"\n",
              "            style=\"display:none;\">\n",
              "\n",
              "  <svg xmlns=\"http://www.w3.org/2000/svg\" height=\"24px\" viewBox=\"0 -960 960 960\">\n",
              "    <path d=\"M120-120v-720h720v720H120Zm60-500h600v-160H180v160Zm220 220h160v-160H400v160Zm0 220h160v-160H400v160ZM180-400h160v-160H180v160Zm440 0h160v-160H620v160ZM180-180h160v-160H180v160Zm440 0h160v-160H620v160Z\"/>\n",
              "  </svg>\n",
              "    </button>\n",
              "\n",
              "  <style>\n",
              "    .colab-df-container {\n",
              "      display:flex;\n",
              "      gap: 12px;\n",
              "    }\n",
              "\n",
              "    .colab-df-convert {\n",
              "      background-color: #E8F0FE;\n",
              "      border: none;\n",
              "      border-radius: 50%;\n",
              "      cursor: pointer;\n",
              "      display: none;\n",
              "      fill: #1967D2;\n",
              "      height: 32px;\n",
              "      padding: 0 0 0 0;\n",
              "      width: 32px;\n",
              "    }\n",
              "\n",
              "    .colab-df-convert:hover {\n",
              "      background-color: #E2EBFA;\n",
              "      box-shadow: 0px 1px 2px rgba(60, 64, 67, 0.3), 0px 1px 3px 1px rgba(60, 64, 67, 0.15);\n",
              "      fill: #174EA6;\n",
              "    }\n",
              "\n",
              "    .colab-df-buttons div {\n",
              "      margin-bottom: 4px;\n",
              "    }\n",
              "\n",
              "    [theme=dark] .colab-df-convert {\n",
              "      background-color: #3B4455;\n",
              "      fill: #D2E3FC;\n",
              "    }\n",
              "\n",
              "    [theme=dark] .colab-df-convert:hover {\n",
              "      background-color: #434B5C;\n",
              "      box-shadow: 0px 1px 3px 1px rgba(0, 0, 0, 0.15);\n",
              "      filter: drop-shadow(0px 1px 2px rgba(0, 0, 0, 0.3));\n",
              "      fill: #FFFFFF;\n",
              "    }\n",
              "  </style>\n",
              "\n",
              "    <script>\n",
              "      const buttonEl =\n",
              "        document.querySelector('#df-34894679-a978-4e04-9336-5629755d0f91 button.colab-df-convert');\n",
              "      buttonEl.style.display =\n",
              "        google.colab.kernel.accessAllowed ? 'block' : 'none';\n",
              "\n",
              "      async function convertToInteractive(key) {\n",
              "        const element = document.querySelector('#df-34894679-a978-4e04-9336-5629755d0f91');\n",
              "        const dataTable =\n",
              "          await google.colab.kernel.invokeFunction('convertToInteractive',\n",
              "                                                    [key], {});\n",
              "        if (!dataTable) return;\n",
              "\n",
              "        const docLinkHtml = 'Like what you see? Visit the ' +\n",
              "          '<a target=\"_blank\" href=https://colab.research.google.com/notebooks/data_table.ipynb>data table notebook</a>'\n",
              "          + ' to learn more about interactive tables.';\n",
              "        element.innerHTML = '';\n",
              "        dataTable['output_type'] = 'display_data';\n",
              "        await google.colab.output.renderOutput(dataTable, element);\n",
              "        const docLink = document.createElement('div');\n",
              "        docLink.innerHTML = docLinkHtml;\n",
              "        element.appendChild(docLink);\n",
              "      }\n",
              "    </script>\n",
              "  </div>\n",
              "\n",
              "\n",
              "<div id=\"df-e1508adf-da6b-4b4f-97cd-598d17ce4d48\">\n",
              "  <button class=\"colab-df-quickchart\" onclick=\"quickchart('df-e1508adf-da6b-4b4f-97cd-598d17ce4d48')\"\n",
              "            title=\"Suggest charts\"\n",
              "            style=\"display:none;\">\n",
              "\n",
              "<svg xmlns=\"http://www.w3.org/2000/svg\" height=\"24px\"viewBox=\"0 0 24 24\"\n",
              "     width=\"24px\">\n",
              "    <g>\n",
              "        <path d=\"M19 3H5c-1.1 0-2 .9-2 2v14c0 1.1.9 2 2 2h14c1.1 0 2-.9 2-2V5c0-1.1-.9-2-2-2zM9 17H7v-7h2v7zm4 0h-2V7h2v10zm4 0h-2v-4h2v4z\"/>\n",
              "    </g>\n",
              "</svg>\n",
              "  </button>\n",
              "\n",
              "<style>\n",
              "  .colab-df-quickchart {\n",
              "      --bg-color: #E8F0FE;\n",
              "      --fill-color: #1967D2;\n",
              "      --hover-bg-color: #E2EBFA;\n",
              "      --hover-fill-color: #174EA6;\n",
              "      --disabled-fill-color: #AAA;\n",
              "      --disabled-bg-color: #DDD;\n",
              "  }\n",
              "\n",
              "  [theme=dark] .colab-df-quickchart {\n",
              "      --bg-color: #3B4455;\n",
              "      --fill-color: #D2E3FC;\n",
              "      --hover-bg-color: #434B5C;\n",
              "      --hover-fill-color: #FFFFFF;\n",
              "      --disabled-bg-color: #3B4455;\n",
              "      --disabled-fill-color: #666;\n",
              "  }\n",
              "\n",
              "  .colab-df-quickchart {\n",
              "    background-color: var(--bg-color);\n",
              "    border: none;\n",
              "    border-radius: 50%;\n",
              "    cursor: pointer;\n",
              "    display: none;\n",
              "    fill: var(--fill-color);\n",
              "    height: 32px;\n",
              "    padding: 0;\n",
              "    width: 32px;\n",
              "  }\n",
              "\n",
              "  .colab-df-quickchart:hover {\n",
              "    background-color: var(--hover-bg-color);\n",
              "    box-shadow: 0 1px 2px rgba(60, 64, 67, 0.3), 0 1px 3px 1px rgba(60, 64, 67, 0.15);\n",
              "    fill: var(--button-hover-fill-color);\n",
              "  }\n",
              "\n",
              "  .colab-df-quickchart-complete:disabled,\n",
              "  .colab-df-quickchart-complete:disabled:hover {\n",
              "    background-color: var(--disabled-bg-color);\n",
              "    fill: var(--disabled-fill-color);\n",
              "    box-shadow: none;\n",
              "  }\n",
              "\n",
              "  .colab-df-spinner {\n",
              "    border: 2px solid var(--fill-color);\n",
              "    border-color: transparent;\n",
              "    border-bottom-color: var(--fill-color);\n",
              "    animation:\n",
              "      spin 1s steps(1) infinite;\n",
              "  }\n",
              "\n",
              "  @keyframes spin {\n",
              "    0% {\n",
              "      border-color: transparent;\n",
              "      border-bottom-color: var(--fill-color);\n",
              "      border-left-color: var(--fill-color);\n",
              "    }\n",
              "    20% {\n",
              "      border-color: transparent;\n",
              "      border-left-color: var(--fill-color);\n",
              "      border-top-color: var(--fill-color);\n",
              "    }\n",
              "    30% {\n",
              "      border-color: transparent;\n",
              "      border-left-color: var(--fill-color);\n",
              "      border-top-color: var(--fill-color);\n",
              "      border-right-color: var(--fill-color);\n",
              "    }\n",
              "    40% {\n",
              "      border-color: transparent;\n",
              "      border-right-color: var(--fill-color);\n",
              "      border-top-color: var(--fill-color);\n",
              "    }\n",
              "    60% {\n",
              "      border-color: transparent;\n",
              "      border-right-color: var(--fill-color);\n",
              "    }\n",
              "    80% {\n",
              "      border-color: transparent;\n",
              "      border-right-color: var(--fill-color);\n",
              "      border-bottom-color: var(--fill-color);\n",
              "    }\n",
              "    90% {\n",
              "      border-color: transparent;\n",
              "      border-bottom-color: var(--fill-color);\n",
              "    }\n",
              "  }\n",
              "</style>\n",
              "\n",
              "  <script>\n",
              "    async function quickchart(key) {\n",
              "      const quickchartButtonEl =\n",
              "        document.querySelector('#' + key + ' button');\n",
              "      quickchartButtonEl.disabled = true;  // To prevent multiple clicks.\n",
              "      quickchartButtonEl.classList.add('colab-df-spinner');\n",
              "      try {\n",
              "        const charts = await google.colab.kernel.invokeFunction(\n",
              "            'suggestCharts', [key], {});\n",
              "      } catch (error) {\n",
              "        console.error('Error during call to suggestCharts:', error);\n",
              "      }\n",
              "      quickchartButtonEl.classList.remove('colab-df-spinner');\n",
              "      quickchartButtonEl.classList.add('colab-df-quickchart-complete');\n",
              "    }\n",
              "    (() => {\n",
              "      let quickchartButtonEl =\n",
              "        document.querySelector('#df-e1508adf-da6b-4b4f-97cd-598d17ce4d48 button');\n",
              "      quickchartButtonEl.style.display =\n",
              "        google.colab.kernel.accessAllowed ? 'block' : 'none';\n",
              "    })();\n",
              "  </script>\n",
              "</div>\n",
              "\n",
              "    </div>\n",
              "  </div>\n"
            ],
            "application/vnd.google.colaboratory.intrinsic+json": {
              "type": "dataframe",
              "summary": "{\n  \"name\": \"display (df\",\n  \"rows\": 5,\n  \"fields\": [\n    {\n      \"column\": \"Unnamed: 0\",\n      \"properties\": {\n        \"dtype\": \"number\",\n        \"std\": 1,\n        \"min\": 0,\n        \"max\": 4,\n        \"num_unique_values\": 5,\n        \"samples\": [\n          1,\n          4,\n          2\n        ],\n        \"semantic_type\": \"\",\n        \"description\": \"\"\n      }\n    },\n    {\n      \"column\": \"tweet_id\",\n      \"properties\": {\n        \"dtype\": \"number\",\n        \"std\": 4464534231327270,\n        \"min\": 316669998137483264,\n        \"max\": 328524426658328576,\n        \"num_unique_values\": 5,\n        \"samples\": [\n          319090866545385472,\n          328524426658328576,\n          322030931022065664\n        ],\n        \"semantic_type\": \"\",\n        \"description\": \"\"\n      }\n    },\n    {\n      \"column\": \"text\",\n      \"properties\": {\n        \"dtype\": \"string\",\n        \"num_unique_values\": 5,\n        \"samples\": [\n          \"McDonald's breakfast stop then the gym \\ud83c\\udfc0\\ud83d\\udcaa\",\n          \"Does daily routine help prevent problems with bipolar disorder http://t.co/XGUfUDoLJB\",\n          \"Can any Gynecologist with Cancer Experience explain the dangers of Transvaginal Douching with Fluoride or other toxins such as Dioxin? #PDX\"\n        ],\n        \"semantic_type\": \"\",\n        \"description\": \"\"\n      }\n    },\n    {\n      \"column\": \"science_related\",\n      \"properties\": {\n        \"dtype\": \"number\",\n        \"std\": 0,\n        \"min\": 0,\n        \"max\": 1,\n        \"num_unique_values\": 2,\n        \"samples\": [\n          1,\n          0\n        ],\n        \"semantic_type\": \"\",\n        \"description\": \"\"\n      }\n    },\n    {\n      \"column\": \"scientific_claim\",\n      \"properties\": {\n        \"dtype\": \"number\",\n        \"std\": 0.5477225575051662,\n        \"min\": 0.0,\n        \"max\": 1.0,\n        \"num_unique_values\": 2,\n        \"samples\": [\n          1.0,\n          0.0\n        ],\n        \"semantic_type\": \"\",\n        \"description\": \"\"\n      }\n    },\n    {\n      \"column\": \"scientific_reference\",\n      \"properties\": {\n        \"dtype\": \"number\",\n        \"std\": 0.0,\n        \"min\": 0.0,\n        \"max\": 0.0,\n        \"num_unique_values\": 1,\n        \"samples\": [\n          0.0\n        ],\n        \"semantic_type\": \"\",\n        \"description\": \"\"\n      }\n    },\n    {\n      \"column\": \"scientific_context\",\n      \"properties\": {\n        \"dtype\": \"number\",\n        \"std\": 0.0,\n        \"min\": 0.0,\n        \"max\": 0.0,\n        \"num_unique_values\": 1,\n        \"samples\": [\n          0.0\n        ],\n        \"semantic_type\": \"\",\n        \"description\": \"\"\n      }\n    }\n  ]\n}"
            }
          },
          "metadata": {}
        }
      ]
    },
    {
      "cell_type": "markdown",
      "source": [
        "## **Ingénierie des données**\n",
        "\n",
        "Dans cette partie, on s'intérssèe au pré-traitement des données. Afin que chaque éléments de notre base soit utilisable et pertinent on va nettoyer, normaliser et transofmrer nos données afin qu'elle soit préparées et optimale pour nos analyses.\n",
        "\n",
        "\n",
        "<br>\n",
        "\n",
        "On va ici répertorier tous les éléments qui doivent être traité :\n",
        "\n",
        "\n",
        "| Élément | Exemple | Élément de remplacement | Exemple après traitement |\n",
        "|---|---|---|---|\n",
        "| Emojis | 🏀💪 |  \"\" |  |\n",
        "|  Mention Twitter | @username  |  \"\" |   |\n",
        "|  Hashtag | #example | \"\" |  |\n",
        "| URL | http://t.co/XGUfUDoLJB| \"\" |\n",
        "| Chiffre    | 12    | transformation en String    | douze\n",
        "| Majuscules    |  Toto   |  suppression de la majuscule   | toto\n",
        "| Ponctuation | ! | suppression de la ponctuation | \"\"\n",
        "\n",
        "\n",
        "\n",
        "Emoji  display(df.iloc[1])\n",
        "\n",
        "URL    display(df.iloc[4])\n",
        "\n",
        "Mention TWITTER display(df.iloc[7])\n",
        "\n",
        "HashTab display(df.iloc[15])\n",
        "\n",
        "\n",
        "\n",
        "<br> Afin de préparer nos données, on va créer une fonction **prepareText** permettant de préparer toutes nos données\n",
        "\n",
        "\n"
      ],
      "metadata": {
        "id": "wkSIFeb3NYyP"
      }
    },
    {
      "cell_type": "code",
      "source": [
        "#show all the data's row\n",
        "display(df.shape)\n",
        "pd.set_option('display.max_colwidth', None)\n",
        "\n",
        "# Afficher la colonne 'text'\n",
        "\n",
        "\n",
        "#display id 1\n",
        "display(df.iloc[10:17][\"text\"])"
      ],
      "metadata": {
        "colab": {
          "base_uri": "https://localhost:8080/",
          "height": 321
        },
        "id": "PaSyw_DVEdqP",
        "outputId": "82652c20-9945-40d6-c6f9-d14db8336831"
      },
      "execution_count": 35,
      "outputs": [
        {
          "output_type": "display_data",
          "data": {
            "text/plain": [
              "(1140, 7)"
            ]
          },
          "metadata": {}
        },
        {
          "output_type": "display_data",
          "data": {
            "text/plain": [
              "10                    #bbcsportsday Honestly think Liverpool are a left back and a right wing away from CL. Fabio Coentrao and James Rodriguez?\n",
              "11                                         @bpkelly12 if that damn book lady decides to stop being a fuckin retard ill be out of here in 2 days\n",
              "12                                                                                                                               Science sucks.\n",
              "13                                                                         http://t.co/eJlnUg0Gog Pay attention to classification essays format\n",
              "14          @RepCohen @SenAlexander @SenBobCorker pls support #NIH funding to help fight #pancreaticcancer @PanCAN @PanCANMemphis #ifight4MyDad\n",
              "15                                                                             Poverty is the greatest cause behind child labour. #RisePakistan\n",
              "16    \"@TheFactsBook: Drinking chocolate milk has been proven to help relieve muscle soreness after a workout.\"@dietervoigtsa dink jy dis waar?\n",
              "Name: text, dtype: object"
            ],
            "text/html": [
              "<div>\n",
              "<style scoped>\n",
              "    .dataframe tbody tr th:only-of-type {\n",
              "        vertical-align: middle;\n",
              "    }\n",
              "\n",
              "    .dataframe tbody tr th {\n",
              "        vertical-align: top;\n",
              "    }\n",
              "\n",
              "    .dataframe thead th {\n",
              "        text-align: right;\n",
              "    }\n",
              "</style>\n",
              "<table border=\"1\" class=\"dataframe\">\n",
              "  <thead>\n",
              "    <tr style=\"text-align: right;\">\n",
              "      <th></th>\n",
              "      <th>text</th>\n",
              "    </tr>\n",
              "  </thead>\n",
              "  <tbody>\n",
              "    <tr>\n",
              "      <th>10</th>\n",
              "      <td>#bbcsportsday Honestly think Liverpool are a left back and a right wing away from CL. Fabio Coentrao and James Rodriguez?</td>\n",
              "    </tr>\n",
              "    <tr>\n",
              "      <th>11</th>\n",
              "      <td>@bpkelly12 if that damn book lady decides to stop being a fuckin retard ill be out of here in 2 days</td>\n",
              "    </tr>\n",
              "    <tr>\n",
              "      <th>12</th>\n",
              "      <td>Science sucks.</td>\n",
              "    </tr>\n",
              "    <tr>\n",
              "      <th>13</th>\n",
              "      <td>http://t.co/eJlnUg0Gog Pay attention to classification essays format</td>\n",
              "    </tr>\n",
              "    <tr>\n",
              "      <th>14</th>\n",
              "      <td>@RepCohen @SenAlexander @SenBobCorker pls support #NIH funding to help fight #pancreaticcancer @PanCAN @PanCANMemphis #ifight4MyDad</td>\n",
              "    </tr>\n",
              "    <tr>\n",
              "      <th>15</th>\n",
              "      <td>Poverty is the greatest cause behind child labour. #RisePakistan</td>\n",
              "    </tr>\n",
              "    <tr>\n",
              "      <th>16</th>\n",
              "      <td>\"@TheFactsBook: Drinking chocolate milk has been proven to help relieve muscle soreness after a workout.\"@dietervoigtsa dink jy dis waar?</td>\n",
              "    </tr>\n",
              "  </tbody>\n",
              "</table>\n",
              "</div><br><label><b>dtype:</b> object</label>"
            ]
          },
          "metadata": {}
        }
      ]
    }
  ],
  "metadata": {
    "kernelspec": {
      "display_name": "Python 3",
      "language": "python",
      "name": "python3"
    },
    "language_info": {
      "codemirror_mode": {
        "name": "ipython",
        "version": 3
      },
      "file_extension": ".py",
      "mimetype": "text/x-python",
      "name": "python",
      "nbconvert_exporter": "python",
      "pygments_lexer": "ipython3",
      "version": "3.6.4"
    },
    "colab": {
      "provenance": [],
      "include_colab_link": true
    }
  },
  "nbformat": 4,
  "nbformat_minor": 0
}