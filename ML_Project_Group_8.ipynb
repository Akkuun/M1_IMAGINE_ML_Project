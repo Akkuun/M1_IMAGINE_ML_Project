{
  "cells": [
    {
      "cell_type": "markdown",
      "metadata": {
        "id": "view-in-github",
        "colab_type": "text"
      },
      "source": [
        "<a href=\"https://colab.research.google.com/github/Akkuun/M1_IMAGINE_ML_Project/blob/main/ML_Project_Group_8.ipynb\" target=\"_parent\"><img src=\"https://colab.research.google.com/assets/colab-badge.svg\" alt=\"Open In Colab\"/></a>"
      ]
    },
    {
      "cell_type": "markdown",
      "metadata": {
        "id": "8TrS005tL4IK"
      },
      "source": [
        "<H1>Projet Machine Learning</H1>\n",
        "<H2>HAI817I - 2024/2025</H2>\n",
        "<H3>Classification d'assertions venant d’X (Twitter) selon leur rapport à la science </H3>\n",
        "\n"
      ]
    },
    {
      "cell_type": "markdown",
      "metadata": {
        "id": "z0NOOF9G5pcn"
      },
      "source": [
        "<H1>Groupe 8 </H1>\n",
        "<br>\n",
        "\n",
        "Duban Mathis: 22102226\n",
        "\n",
        "Gonzalez Oropeza Gilles : 21602817\n",
        "\n",
        "Bernardon Vincent : 22009116\n",
        "\n",
        "LONGLADE Mickaël : 22105047\n",
        "\n",
        "\n"
      ]
    },
    {
      "cell_type": "markdown",
      "metadata": {
        "id": "UM40RUam6XKY"
      },
      "source": [
        "<H2> Sujet </H2>\n",
        "\n",
        "Ce projet s’inscrit dans le contexte de l’apprentissage supervisé, i.e. les données possèdent des\n",
        "labels. Il vise à trouver les modèles les plus performants pour prédire si des assertions (une\n",
        "assertion est une proposition que l'on avance et que l'on soutient comme vraie) faites par des\n",
        "hommes politiques (par exemple) sont vraies ou fausses."
      ]
    },
    {
      "cell_type": "markdown",
      "metadata": {
        "id": "nSelmNSfL4IN"
      },
      "source": [
        "\n",
        "\n",
        "\n",
        "---\n",
        "\n"
      ]
    },
    {
      "cell_type": "markdown",
      "metadata": {
        "id": "1BXkJCCP7QDL"
      },
      "source": [
        "<H1>Tables des matières </H1>\n",
        "\n",
        "\n",
        "\n",
        "*   Installation\n",
        "\n",
        "\n",
        "\n"
      ]
    },
    {
      "cell_type": "markdown",
      "metadata": {
        "id": "0ipZpM6RMEV7"
      },
      "source": [
        "## **Installation**\n"
      ]
    },
    {
      "cell_type": "markdown",
      "metadata": {
        "id": "y-Q8HasoMUjG"
      },
      "source": [
        "Dans cette partie, nous allons installer toutes les librairies que nous allons avoir besoin pour notre projet.\n",
        "\n",
        "\n"
      ]
    },
    {
      "cell_type": "code",
      "execution_count": 43,
      "metadata": {
        "colab": {
          "base_uri": "https://localhost:8080/"
        },
        "id": "gJXkCVWmMfvW",
        "outputId": "7d232eee-ba0e-4cf8-dc94-693ab35a89b0"
      },
      "outputs": [
        {
          "output_type": "stream",
          "name": "stdout",
          "text": [
            "Requirement already satisfied: pandas in /usr/local/lib/python3.11/dist-packages (2.2.2)\n",
            "Requirement already satisfied: numpy in /usr/local/lib/python3.11/dist-packages (2.0.2)\n",
            "Requirement already satisfied: emoji in /usr/local/lib/python3.11/dist-packages (2.14.1)\n",
            "Requirement already satisfied: nltk in /usr/local/lib/python3.11/dist-packages (3.9.1)\n",
            "Requirement already satisfied: matplotlib in /usr/local/lib/python3.11/dist-packages (3.10.0)\n",
            "Requirement already satisfied: seaborn in /usr/local/lib/python3.11/dist-packages (0.13.2)\n",
            "Requirement already satisfied: scikit-learn in /usr/local/lib/python3.11/dist-packages (1.6.1)\n",
            "Requirement already satisfied: inflect in /usr/local/lib/python3.11/dist-packages (7.5.0)\n",
            "Requirement already satisfied: googletrans==4.0.0-rc1 in /usr/local/lib/python3.11/dist-packages (4.0.0rc1)\n",
            "Requirement already satisfied: contractions in /usr/local/lib/python3.11/dist-packages (0.1.73)\n",
            "Requirement already satisfied: pyspellchecker in /usr/local/lib/python3.11/dist-packages (0.8.2)\n",
            "Collecting sklearn\n",
            "  Using cached sklearn-0.0.post12.tar.gz (2.6 kB)\n",
            "  \u001b[1;31merror\u001b[0m: \u001b[1msubprocess-exited-with-error\u001b[0m\n",
            "  \n",
            "  \u001b[31m×\u001b[0m \u001b[32mpython setup.py egg_info\u001b[0m did not run successfully.\n",
            "  \u001b[31m│\u001b[0m exit code: \u001b[1;36m1\u001b[0m\n",
            "  \u001b[31m╰─>\u001b[0m See above for output.\n",
            "  \n",
            "  \u001b[1;35mnote\u001b[0m: This error originates from a subprocess, and is likely not a problem with pip.\n",
            "  Preparing metadata (setup.py) ... \u001b[?25l\u001b[?25herror\n",
            "\u001b[1;31merror\u001b[0m: \u001b[1mmetadata-generation-failed\u001b[0m\n",
            "\n",
            "\u001b[31m×\u001b[0m Encountered error while generating package metadata.\n",
            "\u001b[31m╰─>\u001b[0m See above for output.\n",
            "\n",
            "\u001b[1;35mnote\u001b[0m: This is an issue with the package mentioned above, not pip.\n",
            "\u001b[1;36mhint\u001b[0m: See above for details.\n"
          ]
        },
        {
          "output_type": "stream",
          "name": "stderr",
          "text": [
            "[nltk_data] Downloading package stopwords to /root/nltk_data...\n",
            "[nltk_data]   Package stopwords is already up-to-date!\n",
            "[nltk_data] Downloading package wordnet to /root/nltk_data...\n",
            "[nltk_data]   Package wordnet is already up-to-date!\n",
            "[nltk_data] Downloading package punkt to /root/nltk_data...\n",
            "[nltk_data]   Package punkt is already up-to-date!\n",
            "[nltk_data] Downloading package punkt_tab to /root/nltk_data...\n",
            "[nltk_data]   Package punkt_tab is already up-to-date!\n",
            "[nltk_data] Downloading package averaged_perceptron_tagger to\n",
            "[nltk_data]     /root/nltk_data...\n",
            "[nltk_data]   Package averaged_perceptron_tagger is already up-to-\n",
            "[nltk_data]       date!\n",
            "[nltk_data] Downloading package averaged_perceptron_tagger_eng to\n",
            "[nltk_data]     /root/nltk_data...\n",
            "[nltk_data]   Package averaged_perceptron_tagger_eng is already up-to-\n",
            "[nltk_data]       date!\n"
          ]
        }
      ],
      "source": [
        "# Installation des librairies pour le projet\n",
        "!pip install pandas numpy emoji nltk matplotlib seaborn scikit-learn inflect googletrans==4.0.0-rc1 contractions pyspellchecker\n",
        "\n",
        "import warnings # Supprime les warnings\n",
        "warnings.filterwarnings(\"ignore\", category=FutureWarning)\n",
        "\n",
        "# Librairies de manipulation de données (graphique, lecture de données,ect...)\n",
        "import pandas as pd # Lecture de données\n",
        "import numpy as np # Array\n",
        "import seaborn as sns #\n",
        "import matplotlib.pyplot as plt # Graphique\n",
        "import sys\n",
        "\n",
        "# Librairies pour la fonction prepareText\n",
        "import re # Regular expression\n",
        "import nltk\n",
        "from nltk.corpus import stopwords #English stopwords\n",
        "nltk.download('stopwords') # Téléchargement des stopwords (une seule fois)\n",
        "from nltk.corpus import wordnet #Mots pour vérifier les suppressions de lettres répétées\n",
        "nltk.download('wordnet') # Téléchargement de mots existants\n",
        "import emoji\n",
        "import inflect # Transformation des chiffres en mots\n",
        "import re\n",
        "from googletrans import Translator # Traduction de langues\n",
        "from nltk.stem import WordNetLemmatizer # Lemmatisation des mots\n",
        "from nltk.stem import PorterStemmer # Racinanisation des mots\n",
        "nltk.download('punkt') #Tagetisation des mots\n",
        "nltk.download('punkt_tab') # Tokenisation des mots\n",
        "nltk.download('averaged_perceptron_tagger')\n",
        "nltk.download('averaged_perceptron_tagger_eng')\n",
        "from nltk import pos_tag # Tagination des mots\n",
        "from nltk.tokenize import word_tokenize\n",
        "from nltk import pos_tag\n",
        "import unicodedata # Suppresion d'accent\n",
        "import contractions # Transformation des contractions\n",
        "\n",
        "#Libraries pour l'entraînement du modèle\n",
        "from sklearn.feature_extraction.text import TfidfVectorizer # Vectorisation\n",
        "from sklearn.preprocessing import MaxAbsScaler  # Vectorisation\n",
        "from spellchecker import SpellChecker # dictionnaire phonétique\n",
        "from sklearn.feature_extraction.text import CountVectorizer # Topic modelling\n",
        "from sklearn.decomposition import LatentDirichletAllocation #LDA\n",
        "from sklearn import preprocessing # Upsampling\n",
        "from sklearn.preprocessing import StandardScaler # Upsampling\n",
        "from imblearn.over_sampling import SMOTE # Upsampling\n",
        "from sklearn.utils import resample #Label encoder\n",
        "from sklearn.preprocessing import LabelEncoder #Label encoder\n",
        "from sklearn.tree import DecisionTreeClassifier # Decision TREE classifier\n",
        "colors = ['#1f77b4', '#ff7f0e', '#2ca02c', '#d62728', '#9467bd', '#8c564b', '#e377c2', '#7f7f7f', '#bcbd22', '#17becf'] # couleur pour les graphiques"
      ]
    },
    {
      "cell_type": "markdown",
      "metadata": {
        "id": "uJyoB1FiNAkI"
      },
      "source": [
        "Importation du répertoire de travail sur Google Drive\n"
      ]
    },
    {
      "cell_type": "code",
      "execution_count": 17,
      "metadata": {
        "colab": {
          "base_uri": "https://localhost:8080/",
          "height": 90
        },
        "id": "vQZtvdqANBtj",
        "outputId": "43c85df6-f58c-4c3d-e245-3b7df67890db"
      },
      "outputs": [
        {
          "output_type": "stream",
          "name": "stdout",
          "text": [
            "Drive already mounted at /content/gdrive/; to attempt to forcibly remount, call drive.mount(\"/content/gdrive/\", force_remount=True).\n",
            "/content/gdrive/My Drive/M1_IMAGINE_ML/ML_Project\n"
          ]
        },
        {
          "output_type": "execute_result",
          "data": {
            "text/plain": [
              "'/content/gdrive/My Drive/M1_IMAGINE_ML/ML_Project'"
            ],
            "application/vnd.google.colaboratory.intrinsic+json": {
              "type": "string"
            }
          },
          "metadata": {},
          "execution_count": 17
        }
      ],
      "source": [
        "from google.colab import drive\n",
        "drive.mount('/content/gdrive/')\n",
        "path='/content/gdrive/My Drive/M1_IMAGINE_ML/ML_Project/'\n",
        "sys.path.append(path)\n",
        "%cd $path\n",
        "%pwd"
      ]
    },
    {
      "cell_type": "markdown",
      "metadata": {
        "id": "4Uf38WR6AAp1"
      },
      "source": [
        "Récupération des données du dataSet présent sur le répertoire Google Drive en ligne\n"
      ]
    },
    {
      "cell_type": "code",
      "execution_count": 18,
      "metadata": {
        "colab": {
          "base_uri": "https://localhost:8080/",
          "height": 556
        },
        "id": "Pbvd4Y3yAHfk",
        "outputId": "32a60d37-20ee-464c-a3cc-1ede8926285e"
      },
      "outputs": [
        {
          "output_type": "display_data",
          "data": {
            "text/plain": [
              "   Unnamed: 0            tweet_id  \\\n",
              "0           0  316669998137483264   \n",
              "1           1  319090866545385472   \n",
              "2           2  322030931022065664   \n",
              "3           3  322694830620807168   \n",
              "4           4  328524426658328576   \n",
              "\n",
              "                                                text  science_related  \\\n",
              "0  Knees are a bit sore. i guess that's a sign th...                0   \n",
              "1          McDonald's breakfast stop then the gym 🏀💪                0   \n",
              "2  Can any Gynecologist with Cancer Experience ex...                1   \n",
              "3  Couch-lock highs lead to sleeping in the couch...                1   \n",
              "4  Does daily routine help prevent problems with ...                1   \n",
              "\n",
              "   scientific_claim  scientific_reference  scientific_context  \n",
              "0               0.0                   0.0                 0.0  \n",
              "1               0.0                   0.0                 0.0  \n",
              "2               1.0                   0.0                 0.0  \n",
              "3               1.0                   0.0                 0.0  \n",
              "4               1.0                   0.0                 0.0  "
            ],
            "text/html": [
              "\n",
              "  <div id=\"df-56206521-acf7-4b73-a27d-37147fcd6556\" class=\"colab-df-container\">\n",
              "    <div>\n",
              "<style scoped>\n",
              "    .dataframe tbody tr th:only-of-type {\n",
              "        vertical-align: middle;\n",
              "    }\n",
              "\n",
              "    .dataframe tbody tr th {\n",
              "        vertical-align: top;\n",
              "    }\n",
              "\n",
              "    .dataframe thead th {\n",
              "        text-align: right;\n",
              "    }\n",
              "</style>\n",
              "<table border=\"1\" class=\"dataframe\">\n",
              "  <thead>\n",
              "    <tr style=\"text-align: right;\">\n",
              "      <th></th>\n",
              "      <th>Unnamed: 0</th>\n",
              "      <th>tweet_id</th>\n",
              "      <th>text</th>\n",
              "      <th>science_related</th>\n",
              "      <th>scientific_claim</th>\n",
              "      <th>scientific_reference</th>\n",
              "      <th>scientific_context</th>\n",
              "    </tr>\n",
              "  </thead>\n",
              "  <tbody>\n",
              "    <tr>\n",
              "      <th>0</th>\n",
              "      <td>0</td>\n",
              "      <td>316669998137483264</td>\n",
              "      <td>Knees are a bit sore. i guess that's a sign th...</td>\n",
              "      <td>0</td>\n",
              "      <td>0.0</td>\n",
              "      <td>0.0</td>\n",
              "      <td>0.0</td>\n",
              "    </tr>\n",
              "    <tr>\n",
              "      <th>1</th>\n",
              "      <td>1</td>\n",
              "      <td>319090866545385472</td>\n",
              "      <td>McDonald's breakfast stop then the gym 🏀💪</td>\n",
              "      <td>0</td>\n",
              "      <td>0.0</td>\n",
              "      <td>0.0</td>\n",
              "      <td>0.0</td>\n",
              "    </tr>\n",
              "    <tr>\n",
              "      <th>2</th>\n",
              "      <td>2</td>\n",
              "      <td>322030931022065664</td>\n",
              "      <td>Can any Gynecologist with Cancer Experience ex...</td>\n",
              "      <td>1</td>\n",
              "      <td>1.0</td>\n",
              "      <td>0.0</td>\n",
              "      <td>0.0</td>\n",
              "    </tr>\n",
              "    <tr>\n",
              "      <th>3</th>\n",
              "      <td>3</td>\n",
              "      <td>322694830620807168</td>\n",
              "      <td>Couch-lock highs lead to sleeping in the couch...</td>\n",
              "      <td>1</td>\n",
              "      <td>1.0</td>\n",
              "      <td>0.0</td>\n",
              "      <td>0.0</td>\n",
              "    </tr>\n",
              "    <tr>\n",
              "      <th>4</th>\n",
              "      <td>4</td>\n",
              "      <td>328524426658328576</td>\n",
              "      <td>Does daily routine help prevent problems with ...</td>\n",
              "      <td>1</td>\n",
              "      <td>1.0</td>\n",
              "      <td>0.0</td>\n",
              "      <td>0.0</td>\n",
              "    </tr>\n",
              "  </tbody>\n",
              "</table>\n",
              "</div>\n",
              "    <div class=\"colab-df-buttons\">\n",
              "\n",
              "  <div class=\"colab-df-container\">\n",
              "    <button class=\"colab-df-convert\" onclick=\"convertToInteractive('df-56206521-acf7-4b73-a27d-37147fcd6556')\"\n",
              "            title=\"Convert this dataframe to an interactive table.\"\n",
              "            style=\"display:none;\">\n",
              "\n",
              "  <svg xmlns=\"http://www.w3.org/2000/svg\" height=\"24px\" viewBox=\"0 -960 960 960\">\n",
              "    <path d=\"M120-120v-720h720v720H120Zm60-500h600v-160H180v160Zm220 220h160v-160H400v160Zm0 220h160v-160H400v160ZM180-400h160v-160H180v160Zm440 0h160v-160H620v160ZM180-180h160v-160H180v160Zm440 0h160v-160H620v160Z\"/>\n",
              "  </svg>\n",
              "    </button>\n",
              "\n",
              "  <style>\n",
              "    .colab-df-container {\n",
              "      display:flex;\n",
              "      gap: 12px;\n",
              "    }\n",
              "\n",
              "    .colab-df-convert {\n",
              "      background-color: #E8F0FE;\n",
              "      border: none;\n",
              "      border-radius: 50%;\n",
              "      cursor: pointer;\n",
              "      display: none;\n",
              "      fill: #1967D2;\n",
              "      height: 32px;\n",
              "      padding: 0 0 0 0;\n",
              "      width: 32px;\n",
              "    }\n",
              "\n",
              "    .colab-df-convert:hover {\n",
              "      background-color: #E2EBFA;\n",
              "      box-shadow: 0px 1px 2px rgba(60, 64, 67, 0.3), 0px 1px 3px 1px rgba(60, 64, 67, 0.15);\n",
              "      fill: #174EA6;\n",
              "    }\n",
              "\n",
              "    .colab-df-buttons div {\n",
              "      margin-bottom: 4px;\n",
              "    }\n",
              "\n",
              "    [theme=dark] .colab-df-convert {\n",
              "      background-color: #3B4455;\n",
              "      fill: #D2E3FC;\n",
              "    }\n",
              "\n",
              "    [theme=dark] .colab-df-convert:hover {\n",
              "      background-color: #434B5C;\n",
              "      box-shadow: 0px 1px 3px 1px rgba(0, 0, 0, 0.15);\n",
              "      filter: drop-shadow(0px 1px 2px rgba(0, 0, 0, 0.3));\n",
              "      fill: #FFFFFF;\n",
              "    }\n",
              "  </style>\n",
              "\n",
              "    <script>\n",
              "      const buttonEl =\n",
              "        document.querySelector('#df-56206521-acf7-4b73-a27d-37147fcd6556 button.colab-df-convert');\n",
              "      buttonEl.style.display =\n",
              "        google.colab.kernel.accessAllowed ? 'block' : 'none';\n",
              "\n",
              "      async function convertToInteractive(key) {\n",
              "        const element = document.querySelector('#df-56206521-acf7-4b73-a27d-37147fcd6556');\n",
              "        const dataTable =\n",
              "          await google.colab.kernel.invokeFunction('convertToInteractive',\n",
              "                                                    [key], {});\n",
              "        if (!dataTable) return;\n",
              "\n",
              "        const docLinkHtml = 'Like what you see? Visit the ' +\n",
              "          '<a target=\"_blank\" href=https://colab.research.google.com/notebooks/data_table.ipynb>data table notebook</a>'\n",
              "          + ' to learn more about interactive tables.';\n",
              "        element.innerHTML = '';\n",
              "        dataTable['output_type'] = 'display_data';\n",
              "        await google.colab.output.renderOutput(dataTable, element);\n",
              "        const docLink = document.createElement('div');\n",
              "        docLink.innerHTML = docLinkHtml;\n",
              "        element.appendChild(docLink);\n",
              "      }\n",
              "    </script>\n",
              "  </div>\n",
              "\n",
              "\n",
              "<div id=\"df-77c20c27-0e9d-40f3-a5d6-3ad4b70461e8\">\n",
              "  <button class=\"colab-df-quickchart\" onclick=\"quickchart('df-77c20c27-0e9d-40f3-a5d6-3ad4b70461e8')\"\n",
              "            title=\"Suggest charts\"\n",
              "            style=\"display:none;\">\n",
              "\n",
              "<svg xmlns=\"http://www.w3.org/2000/svg\" height=\"24px\"viewBox=\"0 0 24 24\"\n",
              "     width=\"24px\">\n",
              "    <g>\n",
              "        <path d=\"M19 3H5c-1.1 0-2 .9-2 2v14c0 1.1.9 2 2 2h14c1.1 0 2-.9 2-2V5c0-1.1-.9-2-2-2zM9 17H7v-7h2v7zm4 0h-2V7h2v10zm4 0h-2v-4h2v4z\"/>\n",
              "    </g>\n",
              "</svg>\n",
              "  </button>\n",
              "\n",
              "<style>\n",
              "  .colab-df-quickchart {\n",
              "      --bg-color: #E8F0FE;\n",
              "      --fill-color: #1967D2;\n",
              "      --hover-bg-color: #E2EBFA;\n",
              "      --hover-fill-color: #174EA6;\n",
              "      --disabled-fill-color: #AAA;\n",
              "      --disabled-bg-color: #DDD;\n",
              "  }\n",
              "\n",
              "  [theme=dark] .colab-df-quickchart {\n",
              "      --bg-color: #3B4455;\n",
              "      --fill-color: #D2E3FC;\n",
              "      --hover-bg-color: #434B5C;\n",
              "      --hover-fill-color: #FFFFFF;\n",
              "      --disabled-bg-color: #3B4455;\n",
              "      --disabled-fill-color: #666;\n",
              "  }\n",
              "\n",
              "  .colab-df-quickchart {\n",
              "    background-color: var(--bg-color);\n",
              "    border: none;\n",
              "    border-radius: 50%;\n",
              "    cursor: pointer;\n",
              "    display: none;\n",
              "    fill: var(--fill-color);\n",
              "    height: 32px;\n",
              "    padding: 0;\n",
              "    width: 32px;\n",
              "  }\n",
              "\n",
              "  .colab-df-quickchart:hover {\n",
              "    background-color: var(--hover-bg-color);\n",
              "    box-shadow: 0 1px 2px rgba(60, 64, 67, 0.3), 0 1px 3px 1px rgba(60, 64, 67, 0.15);\n",
              "    fill: var(--button-hover-fill-color);\n",
              "  }\n",
              "\n",
              "  .colab-df-quickchart-complete:disabled,\n",
              "  .colab-df-quickchart-complete:disabled:hover {\n",
              "    background-color: var(--disabled-bg-color);\n",
              "    fill: var(--disabled-fill-color);\n",
              "    box-shadow: none;\n",
              "  }\n",
              "\n",
              "  .colab-df-spinner {\n",
              "    border: 2px solid var(--fill-color);\n",
              "    border-color: transparent;\n",
              "    border-bottom-color: var(--fill-color);\n",
              "    animation:\n",
              "      spin 1s steps(1) infinite;\n",
              "  }\n",
              "\n",
              "  @keyframes spin {\n",
              "    0% {\n",
              "      border-color: transparent;\n",
              "      border-bottom-color: var(--fill-color);\n",
              "      border-left-color: var(--fill-color);\n",
              "    }\n",
              "    20% {\n",
              "      border-color: transparent;\n",
              "      border-left-color: var(--fill-color);\n",
              "      border-top-color: var(--fill-color);\n",
              "    }\n",
              "    30% {\n",
              "      border-color: transparent;\n",
              "      border-left-color: var(--fill-color);\n",
              "      border-top-color: var(--fill-color);\n",
              "      border-right-color: var(--fill-color);\n",
              "    }\n",
              "    40% {\n",
              "      border-color: transparent;\n",
              "      border-right-color: var(--fill-color);\n",
              "      border-top-color: var(--fill-color);\n",
              "    }\n",
              "    60% {\n",
              "      border-color: transparent;\n",
              "      border-right-color: var(--fill-color);\n",
              "    }\n",
              "    80% {\n",
              "      border-color: transparent;\n",
              "      border-right-color: var(--fill-color);\n",
              "      border-bottom-color: var(--fill-color);\n",
              "    }\n",
              "    90% {\n",
              "      border-color: transparent;\n",
              "      border-bottom-color: var(--fill-color);\n",
              "    }\n",
              "  }\n",
              "</style>\n",
              "\n",
              "  <script>\n",
              "    async function quickchart(key) {\n",
              "      const quickchartButtonEl =\n",
              "        document.querySelector('#' + key + ' button');\n",
              "      quickchartButtonEl.disabled = true;  // To prevent multiple clicks.\n",
              "      quickchartButtonEl.classList.add('colab-df-spinner');\n",
              "      try {\n",
              "        const charts = await google.colab.kernel.invokeFunction(\n",
              "            'suggestCharts', [key], {});\n",
              "      } catch (error) {\n",
              "        console.error('Error during call to suggestCharts:', error);\n",
              "      }\n",
              "      quickchartButtonEl.classList.remove('colab-df-spinner');\n",
              "      quickchartButtonEl.classList.add('colab-df-quickchart-complete');\n",
              "    }\n",
              "    (() => {\n",
              "      let quickchartButtonEl =\n",
              "        document.querySelector('#df-77c20c27-0e9d-40f3-a5d6-3ad4b70461e8 button');\n",
              "      quickchartButtonEl.style.display =\n",
              "        google.colab.kernel.accessAllowed ? 'block' : 'none';\n",
              "    })();\n",
              "  </script>\n",
              "</div>\n",
              "\n",
              "    </div>\n",
              "  </div>\n"
            ],
            "application/vnd.google.colaboratory.intrinsic+json": {
              "type": "dataframe",
              "summary": "{\n  \"name\": \"display (df\",\n  \"rows\": 5,\n  \"fields\": [\n    {\n      \"column\": \"Unnamed: 0\",\n      \"properties\": {\n        \"dtype\": \"number\",\n        \"std\": 1,\n        \"min\": 0,\n        \"max\": 4,\n        \"num_unique_values\": 5,\n        \"samples\": [\n          1,\n          4,\n          2\n        ],\n        \"semantic_type\": \"\",\n        \"description\": \"\"\n      }\n    },\n    {\n      \"column\": \"tweet_id\",\n      \"properties\": {\n        \"dtype\": \"number\",\n        \"std\": 4464534231327270,\n        \"min\": 316669998137483264,\n        \"max\": 328524426658328576,\n        \"num_unique_values\": 5,\n        \"samples\": [\n          319090866545385472,\n          328524426658328576,\n          322030931022065664\n        ],\n        \"semantic_type\": \"\",\n        \"description\": \"\"\n      }\n    },\n    {\n      \"column\": \"text\",\n      \"properties\": {\n        \"dtype\": \"string\",\n        \"num_unique_values\": 5,\n        \"samples\": [\n          \"McDonald's breakfast stop then the gym \\ud83c\\udfc0\\ud83d\\udcaa\",\n          \"Does daily routine help prevent problems with bipolar disorder http://t.co/XGUfUDoLJB\",\n          \"Can any Gynecologist with Cancer Experience explain the dangers of Transvaginal Douching with Fluoride or other toxins such as Dioxin? #PDX\"\n        ],\n        \"semantic_type\": \"\",\n        \"description\": \"\"\n      }\n    },\n    {\n      \"column\": \"science_related\",\n      \"properties\": {\n        \"dtype\": \"number\",\n        \"std\": 0,\n        \"min\": 0,\n        \"max\": 1,\n        \"num_unique_values\": 2,\n        \"samples\": [\n          1,\n          0\n        ],\n        \"semantic_type\": \"\",\n        \"description\": \"\"\n      }\n    },\n    {\n      \"column\": \"scientific_claim\",\n      \"properties\": {\n        \"dtype\": \"number\",\n        \"std\": 0.5477225575051662,\n        \"min\": 0.0,\n        \"max\": 1.0,\n        \"num_unique_values\": 2,\n        \"samples\": [\n          1.0,\n          0.0\n        ],\n        \"semantic_type\": \"\",\n        \"description\": \"\"\n      }\n    },\n    {\n      \"column\": \"scientific_reference\",\n      \"properties\": {\n        \"dtype\": \"number\",\n        \"std\": 0.0,\n        \"min\": 0.0,\n        \"max\": 0.0,\n        \"num_unique_values\": 1,\n        \"samples\": [\n          0.0\n        ],\n        \"semantic_type\": \"\",\n        \"description\": \"\"\n      }\n    },\n    {\n      \"column\": \"scientific_context\",\n      \"properties\": {\n        \"dtype\": \"number\",\n        \"std\": 0.0,\n        \"min\": 0.0,\n        \"max\": 0.0,\n        \"num_unique_values\": 1,\n        \"samples\": [\n          0.0\n        ],\n        \"semantic_type\": \"\",\n        \"description\": \"\"\n      }\n    }\n  ]\n}"
            }
          },
          "metadata": {}
        }
      ],
      "source": [
        "# Importation des données\n",
        "df=pd.read_csv('dataSet/data.csv', sep='\\t')\n",
        "# Lecture des 5 premières lignes pour confirmer la bonne récupération des données\n",
        "display (df.head())"
      ]
    },
    {
      "cell_type": "markdown",
      "metadata": {
        "id": "_TnTd8uTHBCJ"
      },
      "source": [
        "Récupération de nos dictionnaires :"
      ]
    },
    {
      "cell_type": "code",
      "execution_count": 19,
      "metadata": {
        "colab": {
          "base_uri": "https://localhost:8080/",
          "height": 395
        },
        "id": "Mpu8FHwZG712",
        "outputId": "17b09c82-8f36-4d8f-b962-86225c68aa48"
      },
      "outputs": [
        {
          "output_type": "display_data",
          "data": {
            "text/plain": [
              "  Currency Symbol Currency Name\n",
              "0               $        dollar\n",
              "1               €          euro\n",
              "2               £         pound\n",
              "3               ¥           yen\n",
              "4               ₹  indian rupee"
            ],
            "text/html": [
              "\n",
              "  <div id=\"df-66c9bbb3-5983-47b0-b69d-529e481e86c0\" class=\"colab-df-container\">\n",
              "    <div>\n",
              "<style scoped>\n",
              "    .dataframe tbody tr th:only-of-type {\n",
              "        vertical-align: middle;\n",
              "    }\n",
              "\n",
              "    .dataframe tbody tr th {\n",
              "        vertical-align: top;\n",
              "    }\n",
              "\n",
              "    .dataframe thead th {\n",
              "        text-align: right;\n",
              "    }\n",
              "</style>\n",
              "<table border=\"1\" class=\"dataframe\">\n",
              "  <thead>\n",
              "    <tr style=\"text-align: right;\">\n",
              "      <th></th>\n",
              "      <th>Currency Symbol</th>\n",
              "      <th>Currency Name</th>\n",
              "    </tr>\n",
              "  </thead>\n",
              "  <tbody>\n",
              "    <tr>\n",
              "      <th>0</th>\n",
              "      <td>$</td>\n",
              "      <td>dollar</td>\n",
              "    </tr>\n",
              "    <tr>\n",
              "      <th>1</th>\n",
              "      <td>€</td>\n",
              "      <td>euro</td>\n",
              "    </tr>\n",
              "    <tr>\n",
              "      <th>2</th>\n",
              "      <td>£</td>\n",
              "      <td>pound</td>\n",
              "    </tr>\n",
              "    <tr>\n",
              "      <th>3</th>\n",
              "      <td>¥</td>\n",
              "      <td>yen</td>\n",
              "    </tr>\n",
              "    <tr>\n",
              "      <th>4</th>\n",
              "      <td>₹</td>\n",
              "      <td>indian rupee</td>\n",
              "    </tr>\n",
              "  </tbody>\n",
              "</table>\n",
              "</div>\n",
              "    <div class=\"colab-df-buttons\">\n",
              "\n",
              "  <div class=\"colab-df-container\">\n",
              "    <button class=\"colab-df-convert\" onclick=\"convertToInteractive('df-66c9bbb3-5983-47b0-b69d-529e481e86c0')\"\n",
              "            title=\"Convert this dataframe to an interactive table.\"\n",
              "            style=\"display:none;\">\n",
              "\n",
              "  <svg xmlns=\"http://www.w3.org/2000/svg\" height=\"24px\" viewBox=\"0 -960 960 960\">\n",
              "    <path d=\"M120-120v-720h720v720H120Zm60-500h600v-160H180v160Zm220 220h160v-160H400v160Zm0 220h160v-160H400v160ZM180-400h160v-160H180v160Zm440 0h160v-160H620v160ZM180-180h160v-160H180v160Zm440 0h160v-160H620v160Z\"/>\n",
              "  </svg>\n",
              "    </button>\n",
              "\n",
              "  <style>\n",
              "    .colab-df-container {\n",
              "      display:flex;\n",
              "      gap: 12px;\n",
              "    }\n",
              "\n",
              "    .colab-df-convert {\n",
              "      background-color: #E8F0FE;\n",
              "      border: none;\n",
              "      border-radius: 50%;\n",
              "      cursor: pointer;\n",
              "      display: none;\n",
              "      fill: #1967D2;\n",
              "      height: 32px;\n",
              "      padding: 0 0 0 0;\n",
              "      width: 32px;\n",
              "    }\n",
              "\n",
              "    .colab-df-convert:hover {\n",
              "      background-color: #E2EBFA;\n",
              "      box-shadow: 0px 1px 2px rgba(60, 64, 67, 0.3), 0px 1px 3px 1px rgba(60, 64, 67, 0.15);\n",
              "      fill: #174EA6;\n",
              "    }\n",
              "\n",
              "    .colab-df-buttons div {\n",
              "      margin-bottom: 4px;\n",
              "    }\n",
              "\n",
              "    [theme=dark] .colab-df-convert {\n",
              "      background-color: #3B4455;\n",
              "      fill: #D2E3FC;\n",
              "    }\n",
              "\n",
              "    [theme=dark] .colab-df-convert:hover {\n",
              "      background-color: #434B5C;\n",
              "      box-shadow: 0px 1px 3px 1px rgba(0, 0, 0, 0.15);\n",
              "      filter: drop-shadow(0px 1px 2px rgba(0, 0, 0, 0.3));\n",
              "      fill: #FFFFFF;\n",
              "    }\n",
              "  </style>\n",
              "\n",
              "    <script>\n",
              "      const buttonEl =\n",
              "        document.querySelector('#df-66c9bbb3-5983-47b0-b69d-529e481e86c0 button.colab-df-convert');\n",
              "      buttonEl.style.display =\n",
              "        google.colab.kernel.accessAllowed ? 'block' : 'none';\n",
              "\n",
              "      async function convertToInteractive(key) {\n",
              "        const element = document.querySelector('#df-66c9bbb3-5983-47b0-b69d-529e481e86c0');\n",
              "        const dataTable =\n",
              "          await google.colab.kernel.invokeFunction('convertToInteractive',\n",
              "                                                    [key], {});\n",
              "        if (!dataTable) return;\n",
              "\n",
              "        const docLinkHtml = 'Like what you see? Visit the ' +\n",
              "          '<a target=\"_blank\" href=https://colab.research.google.com/notebooks/data_table.ipynb>data table notebook</a>'\n",
              "          + ' to learn more about interactive tables.';\n",
              "        element.innerHTML = '';\n",
              "        dataTable['output_type'] = 'display_data';\n",
              "        await google.colab.output.renderOutput(dataTable, element);\n",
              "        const docLink = document.createElement('div');\n",
              "        docLink.innerHTML = docLinkHtml;\n",
              "        element.appendChild(docLink);\n",
              "      }\n",
              "    </script>\n",
              "  </div>\n",
              "\n",
              "\n",
              "<div id=\"df-e1234bca-f201-4308-b347-90aa8b0285cf\">\n",
              "  <button class=\"colab-df-quickchart\" onclick=\"quickchart('df-e1234bca-f201-4308-b347-90aa8b0285cf')\"\n",
              "            title=\"Suggest charts\"\n",
              "            style=\"display:none;\">\n",
              "\n",
              "<svg xmlns=\"http://www.w3.org/2000/svg\" height=\"24px\"viewBox=\"0 0 24 24\"\n",
              "     width=\"24px\">\n",
              "    <g>\n",
              "        <path d=\"M19 3H5c-1.1 0-2 .9-2 2v14c0 1.1.9 2 2 2h14c1.1 0 2-.9 2-2V5c0-1.1-.9-2-2-2zM9 17H7v-7h2v7zm4 0h-2V7h2v10zm4 0h-2v-4h2v4z\"/>\n",
              "    </g>\n",
              "</svg>\n",
              "  </button>\n",
              "\n",
              "<style>\n",
              "  .colab-df-quickchart {\n",
              "      --bg-color: #E8F0FE;\n",
              "      --fill-color: #1967D2;\n",
              "      --hover-bg-color: #E2EBFA;\n",
              "      --hover-fill-color: #174EA6;\n",
              "      --disabled-fill-color: #AAA;\n",
              "      --disabled-bg-color: #DDD;\n",
              "  }\n",
              "\n",
              "  [theme=dark] .colab-df-quickchart {\n",
              "      --bg-color: #3B4455;\n",
              "      --fill-color: #D2E3FC;\n",
              "      --hover-bg-color: #434B5C;\n",
              "      --hover-fill-color: #FFFFFF;\n",
              "      --disabled-bg-color: #3B4455;\n",
              "      --disabled-fill-color: #666;\n",
              "  }\n",
              "\n",
              "  .colab-df-quickchart {\n",
              "    background-color: var(--bg-color);\n",
              "    border: none;\n",
              "    border-radius: 50%;\n",
              "    cursor: pointer;\n",
              "    display: none;\n",
              "    fill: var(--fill-color);\n",
              "    height: 32px;\n",
              "    padding: 0;\n",
              "    width: 32px;\n",
              "  }\n",
              "\n",
              "  .colab-df-quickchart:hover {\n",
              "    background-color: var(--hover-bg-color);\n",
              "    box-shadow: 0 1px 2px rgba(60, 64, 67, 0.3), 0 1px 3px 1px rgba(60, 64, 67, 0.15);\n",
              "    fill: var(--button-hover-fill-color);\n",
              "  }\n",
              "\n",
              "  .colab-df-quickchart-complete:disabled,\n",
              "  .colab-df-quickchart-complete:disabled:hover {\n",
              "    background-color: var(--disabled-bg-color);\n",
              "    fill: var(--disabled-fill-color);\n",
              "    box-shadow: none;\n",
              "  }\n",
              "\n",
              "  .colab-df-spinner {\n",
              "    border: 2px solid var(--fill-color);\n",
              "    border-color: transparent;\n",
              "    border-bottom-color: var(--fill-color);\n",
              "    animation:\n",
              "      spin 1s steps(1) infinite;\n",
              "  }\n",
              "\n",
              "  @keyframes spin {\n",
              "    0% {\n",
              "      border-color: transparent;\n",
              "      border-bottom-color: var(--fill-color);\n",
              "      border-left-color: var(--fill-color);\n",
              "    }\n",
              "    20% {\n",
              "      border-color: transparent;\n",
              "      border-left-color: var(--fill-color);\n",
              "      border-top-color: var(--fill-color);\n",
              "    }\n",
              "    30% {\n",
              "      border-color: transparent;\n",
              "      border-left-color: var(--fill-color);\n",
              "      border-top-color: var(--fill-color);\n",
              "      border-right-color: var(--fill-color);\n",
              "    }\n",
              "    40% {\n",
              "      border-color: transparent;\n",
              "      border-right-color: var(--fill-color);\n",
              "      border-top-color: var(--fill-color);\n",
              "    }\n",
              "    60% {\n",
              "      border-color: transparent;\n",
              "      border-right-color: var(--fill-color);\n",
              "    }\n",
              "    80% {\n",
              "      border-color: transparent;\n",
              "      border-right-color: var(--fill-color);\n",
              "      border-bottom-color: var(--fill-color);\n",
              "    }\n",
              "    90% {\n",
              "      border-color: transparent;\n",
              "      border-bottom-color: var(--fill-color);\n",
              "    }\n",
              "  }\n",
              "</style>\n",
              "\n",
              "  <script>\n",
              "    async function quickchart(key) {\n",
              "      const quickchartButtonEl =\n",
              "        document.querySelector('#' + key + ' button');\n",
              "      quickchartButtonEl.disabled = true;  // To prevent multiple clicks.\n",
              "      quickchartButtonEl.classList.add('colab-df-spinner');\n",
              "      try {\n",
              "        const charts = await google.colab.kernel.invokeFunction(\n",
              "            'suggestCharts', [key], {});\n",
              "      } catch (error) {\n",
              "        console.error('Error during call to suggestCharts:', error);\n",
              "      }\n",
              "      quickchartButtonEl.classList.remove('colab-df-spinner');\n",
              "      quickchartButtonEl.classList.add('colab-df-quickchart-complete');\n",
              "    }\n",
              "    (() => {\n",
              "      let quickchartButtonEl =\n",
              "        document.querySelector('#df-e1234bca-f201-4308-b347-90aa8b0285cf button');\n",
              "      quickchartButtonEl.style.display =\n",
              "        google.colab.kernel.accessAllowed ? 'block' : 'none';\n",
              "    })();\n",
              "  </script>\n",
              "</div>\n",
              "\n",
              "    </div>\n",
              "  </div>\n"
            ],
            "application/vnd.google.colaboratory.intrinsic+json": {
              "type": "dataframe",
              "summary": "{\n  \"name\": \"slang_dict = dict(zip(slang_file['Abbreviation'], slang_file['Meaning']))\",\n  \"rows\": 5,\n  \"fields\": [\n    {\n      \"column\": \"Currency Symbol\",\n      \"properties\": {\n        \"dtype\": \"string\",\n        \"num_unique_values\": 5,\n        \"samples\": [\n          \"\\u20ac\",\n          \"\\u20b9\",\n          \"\\u00a3\"\n        ],\n        \"semantic_type\": \"\",\n        \"description\": \"\"\n      }\n    },\n    {\n      \"column\": \"Currency Name\",\n      \"properties\": {\n        \"dtype\": \"string\",\n        \"num_unique_values\": 5,\n        \"samples\": [\n          \"euro\",\n          \"indian rupee\",\n          \"pound\"\n        ],\n        \"semantic_type\": \"\",\n        \"description\": \"\"\n      }\n    }\n  ]\n}"
            }
          },
          "metadata": {}
        },
        {
          "output_type": "display_data",
          "data": {
            "text/plain": [
              "  Abbreviation                    Meaning\n",
              "0          4ao            for adults only\n",
              "1          a.m              before midday\n",
              "2           a3  anytime anywhere anyplace\n",
              "3        aamof        as a matter of fact\n",
              "4         acct                    account"
            ],
            "text/html": [
              "\n",
              "  <div id=\"df-f4e6586c-a2f2-480d-9449-c79f860d95fc\" class=\"colab-df-container\">\n",
              "    <div>\n",
              "<style scoped>\n",
              "    .dataframe tbody tr th:only-of-type {\n",
              "        vertical-align: middle;\n",
              "    }\n",
              "\n",
              "    .dataframe tbody tr th {\n",
              "        vertical-align: top;\n",
              "    }\n",
              "\n",
              "    .dataframe thead th {\n",
              "        text-align: right;\n",
              "    }\n",
              "</style>\n",
              "<table border=\"1\" class=\"dataframe\">\n",
              "  <thead>\n",
              "    <tr style=\"text-align: right;\">\n",
              "      <th></th>\n",
              "      <th>Abbreviation</th>\n",
              "      <th>Meaning</th>\n",
              "    </tr>\n",
              "  </thead>\n",
              "  <tbody>\n",
              "    <tr>\n",
              "      <th>0</th>\n",
              "      <td>4ao</td>\n",
              "      <td>for adults only</td>\n",
              "    </tr>\n",
              "    <tr>\n",
              "      <th>1</th>\n",
              "      <td>a.m</td>\n",
              "      <td>before midday</td>\n",
              "    </tr>\n",
              "    <tr>\n",
              "      <th>2</th>\n",
              "      <td>a3</td>\n",
              "      <td>anytime anywhere anyplace</td>\n",
              "    </tr>\n",
              "    <tr>\n",
              "      <th>3</th>\n",
              "      <td>aamof</td>\n",
              "      <td>as a matter of fact</td>\n",
              "    </tr>\n",
              "    <tr>\n",
              "      <th>4</th>\n",
              "      <td>acct</td>\n",
              "      <td>account</td>\n",
              "    </tr>\n",
              "  </tbody>\n",
              "</table>\n",
              "</div>\n",
              "    <div class=\"colab-df-buttons\">\n",
              "\n",
              "  <div class=\"colab-df-container\">\n",
              "    <button class=\"colab-df-convert\" onclick=\"convertToInteractive('df-f4e6586c-a2f2-480d-9449-c79f860d95fc')\"\n",
              "            title=\"Convert this dataframe to an interactive table.\"\n",
              "            style=\"display:none;\">\n",
              "\n",
              "  <svg xmlns=\"http://www.w3.org/2000/svg\" height=\"24px\" viewBox=\"0 -960 960 960\">\n",
              "    <path d=\"M120-120v-720h720v720H120Zm60-500h600v-160H180v160Zm220 220h160v-160H400v160Zm0 220h160v-160H400v160ZM180-400h160v-160H180v160Zm440 0h160v-160H620v160ZM180-180h160v-160H180v160Zm440 0h160v-160H620v160Z\"/>\n",
              "  </svg>\n",
              "    </button>\n",
              "\n",
              "  <style>\n",
              "    .colab-df-container {\n",
              "      display:flex;\n",
              "      gap: 12px;\n",
              "    }\n",
              "\n",
              "    .colab-df-convert {\n",
              "      background-color: #E8F0FE;\n",
              "      border: none;\n",
              "      border-radius: 50%;\n",
              "      cursor: pointer;\n",
              "      display: none;\n",
              "      fill: #1967D2;\n",
              "      height: 32px;\n",
              "      padding: 0 0 0 0;\n",
              "      width: 32px;\n",
              "    }\n",
              "\n",
              "    .colab-df-convert:hover {\n",
              "      background-color: #E2EBFA;\n",
              "      box-shadow: 0px 1px 2px rgba(60, 64, 67, 0.3), 0px 1px 3px 1px rgba(60, 64, 67, 0.15);\n",
              "      fill: #174EA6;\n",
              "    }\n",
              "\n",
              "    .colab-df-buttons div {\n",
              "      margin-bottom: 4px;\n",
              "    }\n",
              "\n",
              "    [theme=dark] .colab-df-convert {\n",
              "      background-color: #3B4455;\n",
              "      fill: #D2E3FC;\n",
              "    }\n",
              "\n",
              "    [theme=dark] .colab-df-convert:hover {\n",
              "      background-color: #434B5C;\n",
              "      box-shadow: 0px 1px 3px 1px rgba(0, 0, 0, 0.15);\n",
              "      filter: drop-shadow(0px 1px 2px rgba(0, 0, 0, 0.3));\n",
              "      fill: #FFFFFF;\n",
              "    }\n",
              "  </style>\n",
              "\n",
              "    <script>\n",
              "      const buttonEl =\n",
              "        document.querySelector('#df-f4e6586c-a2f2-480d-9449-c79f860d95fc button.colab-df-convert');\n",
              "      buttonEl.style.display =\n",
              "        google.colab.kernel.accessAllowed ? 'block' : 'none';\n",
              "\n",
              "      async function convertToInteractive(key) {\n",
              "        const element = document.querySelector('#df-f4e6586c-a2f2-480d-9449-c79f860d95fc');\n",
              "        const dataTable =\n",
              "          await google.colab.kernel.invokeFunction('convertToInteractive',\n",
              "                                                    [key], {});\n",
              "        if (!dataTable) return;\n",
              "\n",
              "        const docLinkHtml = 'Like what you see? Visit the ' +\n",
              "          '<a target=\"_blank\" href=https://colab.research.google.com/notebooks/data_table.ipynb>data table notebook</a>'\n",
              "          + ' to learn more about interactive tables.';\n",
              "        element.innerHTML = '';\n",
              "        dataTable['output_type'] = 'display_data';\n",
              "        await google.colab.output.renderOutput(dataTable, element);\n",
              "        const docLink = document.createElement('div');\n",
              "        docLink.innerHTML = docLinkHtml;\n",
              "        element.appendChild(docLink);\n",
              "      }\n",
              "    </script>\n",
              "  </div>\n",
              "\n",
              "\n",
              "<div id=\"df-71915b8c-c003-42dc-bed5-c447448c4602\">\n",
              "  <button class=\"colab-df-quickchart\" onclick=\"quickchart('df-71915b8c-c003-42dc-bed5-c447448c4602')\"\n",
              "            title=\"Suggest charts\"\n",
              "            style=\"display:none;\">\n",
              "\n",
              "<svg xmlns=\"http://www.w3.org/2000/svg\" height=\"24px\"viewBox=\"0 0 24 24\"\n",
              "     width=\"24px\">\n",
              "    <g>\n",
              "        <path d=\"M19 3H5c-1.1 0-2 .9-2 2v14c0 1.1.9 2 2 2h14c1.1 0 2-.9 2-2V5c0-1.1-.9-2-2-2zM9 17H7v-7h2v7zm4 0h-2V7h2v10zm4 0h-2v-4h2v4z\"/>\n",
              "    </g>\n",
              "</svg>\n",
              "  </button>\n",
              "\n",
              "<style>\n",
              "  .colab-df-quickchart {\n",
              "      --bg-color: #E8F0FE;\n",
              "      --fill-color: #1967D2;\n",
              "      --hover-bg-color: #E2EBFA;\n",
              "      --hover-fill-color: #174EA6;\n",
              "      --disabled-fill-color: #AAA;\n",
              "      --disabled-bg-color: #DDD;\n",
              "  }\n",
              "\n",
              "  [theme=dark] .colab-df-quickchart {\n",
              "      --bg-color: #3B4455;\n",
              "      --fill-color: #D2E3FC;\n",
              "      --hover-bg-color: #434B5C;\n",
              "      --hover-fill-color: #FFFFFF;\n",
              "      --disabled-bg-color: #3B4455;\n",
              "      --disabled-fill-color: #666;\n",
              "  }\n",
              "\n",
              "  .colab-df-quickchart {\n",
              "    background-color: var(--bg-color);\n",
              "    border: none;\n",
              "    border-radius: 50%;\n",
              "    cursor: pointer;\n",
              "    display: none;\n",
              "    fill: var(--fill-color);\n",
              "    height: 32px;\n",
              "    padding: 0;\n",
              "    width: 32px;\n",
              "  }\n",
              "\n",
              "  .colab-df-quickchart:hover {\n",
              "    background-color: var(--hover-bg-color);\n",
              "    box-shadow: 0 1px 2px rgba(60, 64, 67, 0.3), 0 1px 3px 1px rgba(60, 64, 67, 0.15);\n",
              "    fill: var(--button-hover-fill-color);\n",
              "  }\n",
              "\n",
              "  .colab-df-quickchart-complete:disabled,\n",
              "  .colab-df-quickchart-complete:disabled:hover {\n",
              "    background-color: var(--disabled-bg-color);\n",
              "    fill: var(--disabled-fill-color);\n",
              "    box-shadow: none;\n",
              "  }\n",
              "\n",
              "  .colab-df-spinner {\n",
              "    border: 2px solid var(--fill-color);\n",
              "    border-color: transparent;\n",
              "    border-bottom-color: var(--fill-color);\n",
              "    animation:\n",
              "      spin 1s steps(1) infinite;\n",
              "  }\n",
              "\n",
              "  @keyframes spin {\n",
              "    0% {\n",
              "      border-color: transparent;\n",
              "      border-bottom-color: var(--fill-color);\n",
              "      border-left-color: var(--fill-color);\n",
              "    }\n",
              "    20% {\n",
              "      border-color: transparent;\n",
              "      border-left-color: var(--fill-color);\n",
              "      border-top-color: var(--fill-color);\n",
              "    }\n",
              "    30% {\n",
              "      border-color: transparent;\n",
              "      border-left-color: var(--fill-color);\n",
              "      border-top-color: var(--fill-color);\n",
              "      border-right-color: var(--fill-color);\n",
              "    }\n",
              "    40% {\n",
              "      border-color: transparent;\n",
              "      border-right-color: var(--fill-color);\n",
              "      border-top-color: var(--fill-color);\n",
              "    }\n",
              "    60% {\n",
              "      border-color: transparent;\n",
              "      border-right-color: var(--fill-color);\n",
              "    }\n",
              "    80% {\n",
              "      border-color: transparent;\n",
              "      border-right-color: var(--fill-color);\n",
              "      border-bottom-color: var(--fill-color);\n",
              "    }\n",
              "    90% {\n",
              "      border-color: transparent;\n",
              "      border-bottom-color: var(--fill-color);\n",
              "    }\n",
              "  }\n",
              "</style>\n",
              "\n",
              "  <script>\n",
              "    async function quickchart(key) {\n",
              "      const quickchartButtonEl =\n",
              "        document.querySelector('#' + key + ' button');\n",
              "      quickchartButtonEl.disabled = true;  // To prevent multiple clicks.\n",
              "      quickchartButtonEl.classList.add('colab-df-spinner');\n",
              "      try {\n",
              "        const charts = await google.colab.kernel.invokeFunction(\n",
              "            'suggestCharts', [key], {});\n",
              "      } catch (error) {\n",
              "        console.error('Error during call to suggestCharts:', error);\n",
              "      }\n",
              "      quickchartButtonEl.classList.remove('colab-df-spinner');\n",
              "      quickchartButtonEl.classList.add('colab-df-quickchart-complete');\n",
              "    }\n",
              "    (() => {\n",
              "      let quickchartButtonEl =\n",
              "        document.querySelector('#df-71915b8c-c003-42dc-bed5-c447448c4602 button');\n",
              "      quickchartButtonEl.style.display =\n",
              "        google.colab.kernel.accessAllowed ? 'block' : 'none';\n",
              "    })();\n",
              "  </script>\n",
              "</div>\n",
              "\n",
              "    </div>\n",
              "  </div>\n"
            ],
            "application/vnd.google.colaboratory.intrinsic+json": {
              "type": "dataframe",
              "summary": "{\n  \"name\": \"slang_dict = dict(zip(slang_file['Abbreviation'], slang_file['Meaning']))\",\n  \"rows\": 5,\n  \"fields\": [\n    {\n      \"column\": \"Abbreviation\",\n      \"properties\": {\n        \"dtype\": \"string\",\n        \"num_unique_values\": 5,\n        \"samples\": [\n          \"a.m\",\n          \"acct\",\n          \"a3\"\n        ],\n        \"semantic_type\": \"\",\n        \"description\": \"\"\n      }\n    },\n    {\n      \"column\": \"Meaning\",\n      \"properties\": {\n        \"dtype\": \"string\",\n        \"num_unique_values\": 5,\n        \"samples\": [\n          \"before midday\",\n          \"account\",\n          \"anytime anywhere anyplace\"\n        ],\n        \"semantic_type\": \"\",\n        \"description\": \"\"\n      }\n    }\n  ]\n}"
            }
          },
          "metadata": {}
        }
      ],
      "source": [
        "# Récupération des monaies\n",
        "currency_file=pd.read_csv('dataSet/currency_translation.csv')\n",
        "display (currency_file.head())\n",
        "# Création d'un objet dictionnaire pour réportorier les objets\n",
        "currency_dict = dict(zip(currency_file['Currency Symbol'], currency_file['Currency Name']))\n",
        "# Récupération des abbréviations (Slang)\n",
        "slang_file=pd.read_csv('dataSet/slang_translation.csv')\n",
        "display (slang_file.head())\n",
        "# Création d'un objet dictionnaire pour réportorier les objets\n",
        "slang_dict = dict(zip(slang_file['Abbreviation'], slang_file['Meaning']))"
      ]
    },
    {
      "cell_type": "markdown",
      "metadata": {
        "id": "wkSIFeb3NYyP"
      },
      "source": [
        "## **Ingénierie des données**\n",
        "\n",
        "Dans cette partie, on s'interéssèe au pré-traitement des données. Afin que chaque éléments de notre base soit utilisable et pertinent on va nettoyer, normaliser et transformer nos données afin qu'elle soit préparées et optimale pour nos analyses.\n",
        "\n",
        "\n",
        "<br>\n",
        "\n",
        "On va ici répertorier tous les éléments qui doivent être traité :\n",
        "\n",
        "<br>\n",
        "\n",
        "\n",
        "| Élément            | Exemple                 | Traitement à effectuer | Exemple après traitement |\n",
        "|--------------------|------------------------|-------------------------|--------------------------|\n",
        "| Emojis            | 🏀                     | Suppression des émojis ou remplacement par leur signification |  basketball |\n",
        "| Mention Twitter   | @username               | Remplacement par un Token |  @MENTION |\n",
        "| Hashtag           | #example                |  Remplacement par un Token | @HASHTAG |\n",
        "| URL               | http://t.co/XGUfUDoLJB  | Suppression de l'URL | \"\" |\n",
        "| Chiffre           | 13                      | Transformation en String | thirdteen |\n",
        "| Majuscules        | Hello                    | Suppression de la majuscule | hello |\n",
        "| Ponctuation       | !                        | Suppression de la ponctuation | \"\" |\n",
        "| Mots répétés      | cool cool cool         | Normalisation en une seule occurrence | cool |\n",
        "| Lettres répétées  | that's greeeeeeeat!        | Réduction des répétitions excessives | that's great! |\n",
        "| Abréviations      | ngl, fr | Remplacement par la version complète | not gonna lie, for real |\n",
        "| Stopwords (déterminants)         | the, and, a  | Suppression si non pertinent | \"\" |\n",
        "| Slang (Argot)     | gonna, dunno, wanna           | Remplacement par des mots standards | going to, do not know, want to |\n",
        "| Langue étrangère  | bonjour, gracias          | Détection et traduction éventuelle | hello, thank you |\n",
        "| Caractères spéciaux | §, $, ^                | Suppression des charactères | \"\" |\n",
        "| Expressions courantes | btw, lol    | Remplacement par la version complète | by the way, laughing out loud|\n",
        "| Négation mal formatée | ain't, dunno          | Correction grammaticale | am not, do not know |\n",
        "| Émojis en Unicode | `\\U0001F60D` (😍)      | Conversion en texte lisible | smiling_face_with_hearteyes |\n",
        "| Symboles de devises |    10\\$, 10€               | Normalisation (ex: \"10 euros\") | 10 dollars, 10 euros |\n",
        "| Accents |    cliché              | Normalisation | cliche |\n",
        "| Heures |    10AM, 13:30              | Remplacement par un token | @TIME  |\n",
        "| Numéro de téléphone |  +339208373  | Remplacement par un token | @PHONENUMBER  |\n",
        "| Expression flottante |  14,34 10,000  | Conversion en texte lisible | fourteen thirty-four,  ten thousand |\n",
        "\n",
        "\n",
        "\n",
        "\n",
        "\n"
      ]
    },
    {
      "cell_type": "markdown",
      "metadata": {
        "id": "Eg65KOG5Vtcy"
      },
      "source": [
        "On implémente ici nos fonctions que nous allons utiliser par la suite :"
      ]
    },
    {
      "cell_type": "code",
      "execution_count": 20,
      "metadata": {
        "id": "r2ud2vq0kZ4b"
      },
      "outputs": [],
      "source": [
        "#Fonction permettant de supprimer les numéros de téléphones\n",
        "def removeSpecialCharacters(word, keepTokens):\n",
        "    # Replace '+' followed by digits (potential phone numbers) with 'PHONE_NUMBER'\n",
        "    if keepTokens:\n",
        "        word = re.sub(r'\\+\\d+', 'TOKENPHONENUMBER', word)\n",
        "    else:\n",
        "        word = re.sub(r'\\+\\d+', '', word)\n",
        "\n",
        "    # remove / between numbers : 10/10 -> 10 out of 10\n",
        "    word = re.sub(r'(\\d+)/(\\d+)', r'\\1 out of \\2', word)\n",
        "\n",
        "    # Replace time expressions in HH:MM format\n",
        "    if keepTokens:\n",
        "        word = re.sub(r'\\b\\d{1,2}:\\d{2}\\b', 'TOKENTIME', word)\n",
        "    else:\n",
        "        word = re.sub(r'\\b\\d{1,2}:\\d{2}\\b', '', word)\n",
        "\n",
        "    # Replace numbers followed by 'k' with their full value (e.g., 41916514k → 41916514000 ,  or 5.5k -> 5500)\n",
        "    word = re.sub(r'(\\d+)k\\b', lambda m: str(int(m.group(1)) * 1000), word)\n",
        "    return word\n",
        "\n",
        "#Fonction permet de supprmimer les répétitions succésive de lettres (cas particulier rencontré)\n",
        "def fixRepeat(word):\n",
        "    # Reduce excessive repetition to exactly 2 occurrences\n",
        "    repeat_regexp = re.compile(r'(\\w*)(\\w)\\2{2,}(\\w*)')\n",
        "    repl = r'\\1\\2\\2\\3'\n",
        "\n",
        "    if wordnet.synsets(word):\n",
        "        return word\n",
        "\n",
        "    repl_word = repeat_regexp.sub(repl, word)\n",
        "    if repl_word != word:\n",
        "        return fixRepeat(repl_word)\n",
        "\n",
        "    # Try all combinations of removing one duplicate letter at a time\n",
        "    candidates = set()\n",
        "    for i in range(len(repl_word) - 1):\n",
        "        if repl_word[i] == repl_word[i + 1]:\n",
        "            candidates.add(repl_word[:i] + repl_word[i+1:])\n",
        "\n",
        "    # Check if any of the candidates is a valid word\n",
        "    for candidate in candidates:\n",
        "        if wordnet.synsets(candidate):\n",
        "            return candidate\n",
        "\n",
        "    # No valid word is found, return the single-letter version\n",
        "    single_letter_version = re.sub(r'(.)\\1', r'\\1', repl_word)\n",
        "    return single_letter_version\n",
        "\n",
        "# Fonction permettant de supprimer les accents\n",
        "def remove_accents(text):\n",
        "    return ''.join(c for c in unicodedata.normalize('NFD', text) if unicodedata.category(c) != 'Mn')"
      ]
    },
    {
      "cell_type": "markdown",
      "metadata": {
        "id": "MVJYHuhokbJT"
      },
      "source": [
        "On créer donc notre fonction **prepareText** permettant de preparer nos données brutes afin de les reformater correctement :"
      ]
    },
    {
      "cell_type": "code",
      "execution_count": 21,
      "metadata": {
        "id": "PaSyw_DVEdqP"
      },
      "outputs": [],
      "source": [
        "stop_words_set = set(stopwords.words('english'))\n",
        "translator = Translator() # initialisation du traducteur\n",
        "lemmatizer = WordNetLemmatizer() # initialisation du lematiseur\n",
        "stemmer = PorterStemmer() # initialisation du taggeisteur\n",
        "tokens = {\"MENTION\", \"HASHTAG\", \"TIME\", \"PHONENUMBER\"} # liste de nos token à identifier\n",
        "\n",
        "# Fonction permettant de préparer la chaîne de charactères passé en paramètre\n",
        "def prepareText(text, keepTokens: bool = True, keepEmojis: bool = True, numbersAsTokens: bool = False, translate = True):\n",
        "    \"\"\"\n",
        "    Prépare la chaîne de caractère passée en paramètre\n",
        "\n",
        "    Parameters\n",
        "    ----------\n",
        "    text : str\n",
        "        La chaîne de caractères\n",
        "    keepTokens : bool, optional\n",
        "        True si on doit garder les token, False si on doit les supprimer (defaut : True)\n",
        "    keepEmojis : bool, optional\n",
        "        True si on doit garder les emojis, False si on doit les supprimer (defaut : True)\n",
        "    numbersAsTokens : bool, optional\n",
        "        True si on doit transformer les chiffres en token, False si on doit les supprimer (defaut : False)\n",
        "         Ce token n'est pas supprimé si keepToken vaut False\n",
        "    translate : bool, optional\n",
        "        True si on doit traduire le texte en anglais, False si on ne le fait pas (defaut : True)\n",
        "\n",
        "    Returns\n",
        "    -------\n",
        "    str\n",
        "        La chaîne de caractère préparée\n",
        "    \"\"\"\n",
        "    #Majuscule, suppression\n",
        "    data = str(text).lower()\n",
        "\n",
        "    #Suppresion d'accent\n",
        "    data = remove_accents(data)\n",
        "\n",
        "    #Contraction, on corrige\n",
        "    data = contractions.fix(data)\n",
        "\n",
        "    #Emoji, transformation en String\n",
        "    if (keepEmojis):\n",
        "        data = emoji.demojize(data)\n",
        "    else:\n",
        "        data = emoji.replace_emoji(data, replace='')\n",
        "\n",
        "    #Mention Twitter, transformation en Token\n",
        "    if (keepTokens):\n",
        "        data = re.sub(r'@\\w+', 'TOKENMENTION', data)\n",
        "    else:\n",
        "        data = re.sub(r'@\\w+', '', data)\n",
        "\n",
        "    #Hashtag, transformation en Token\n",
        "    if (keepTokens):\n",
        "        data = re.sub(r'#\\w+', 'TOKENHASHTAG', data)\n",
        "    else:\n",
        "        data = re.sub(r'#\\w+', '', data)\n",
        "\n",
        "    #URL, on supprime\n",
        "    data = re.sub(r'https?://\\S+|www\\.\\S+', '', data)\n",
        "\n",
        "\n",
        "    #Devise, remplacement par sa chaîne de charactere\n",
        "    for symbol, name in currency_dict.items():\n",
        "        data = re.sub(rf'(\\d+){re.escape(symbol)}', r'\\1 ' + name, data)\n",
        "\n",
        "\n",
        "    #Special caracters that requires more attention than just remove\n",
        "    data = removeSpecialCharacters(data, keepTokens)\n",
        "\n",
        "    #Keep rating expressions (ex : 10/10)\n",
        "    rating_expressions = {}\n",
        "\n",
        "    def replace_match(match):\n",
        "        key = f\"RATING_{len(rating_expressions)}\"  # Unique placeholder\n",
        "        rating_expressions[key] = match.group(0)   # Store full match\n",
        "        return key\n",
        "\n",
        "    # Replace rating expressions with placeholders\n",
        "    data = re.sub(r'(\\d+|ten|nine|eight|seven|six|five|four|three|two|one) out of (\\d+|ten|nine|eight|seven|six|five|four|three|two|one)', replace_match, data)\n",
        "\n",
        "\n",
        "    #Stopwords, suppression\n",
        "    data = ' '.join([word for word in data.split() if word not in stop_words_set])\n",
        "\n",
        "    # Restore full rating expressions\n",
        "    for key, value in rating_expressions.items():\n",
        "        data = data.replace(key, value)\n",
        "\n",
        "    #Ponctuation & charactères spéciaux, suppression\n",
        "    data = re.sub(r'[^\\w\\s]', '', data)\n",
        "\n",
        "    #Chiffre, transformation en String\n",
        "    if (numbersAsTokens):\n",
        "        words = data.split()\n",
        "        data = ' '.join([\"number\" if word.isdigit() else word for word in words])\n",
        "    else:\n",
        "        words = data.split()\n",
        "        data = ' '.join([inflect.engine().number_to_words(word) if word.isdigit() else word for word in words])\n",
        "\n",
        "\n",
        "\n",
        "    #Heures, transformation en token\n",
        "    if keepTokens:\n",
        "        data = re.sub(r'\\b(\\d{1,2}([:h]\\d{2})?\\s*(am|pm)?)\\b', 'TOKENTIME', data)\n",
        "    else:\n",
        "        data = re.sub(r'\\b(\\d{1,2}([:h]\\d{2})?\\s*(am|pm)?)\\b', '', data)\n",
        "\n",
        "\n",
        "    #Abréviation (Slang)\n",
        "    data = ' '.join([slang_dict.get(word, word) for word in data.split()])\n",
        "\n",
        "    #Mots répétés\n",
        "    data = re.sub(r'\\b(\\w+)(\\s+\\1\\b)+', r'\\1', data)\n",
        "    #Lettres répétés\n",
        "    data = ' '.join([fixRepeat(word) for word in data.split()])\n",
        "\n",
        "    #remplacer TOKEN par @TOKENxxxx correspondant\n",
        "    if (keepTokens):\n",
        "        for token in tokens:\n",
        "            data = re.sub(rf'TOKEN{token}', f'@{token}', data)\n",
        "\n",
        "    #Traduction du tweet\n",
        "    if translate:\n",
        "        try:\n",
        "            data = translator.translate(data, dest='en').text\n",
        "        except Exception as e:\n",
        "            pass\n",
        "\n",
        "    return data"
      ]
    },
    {
      "cell_type": "markdown",
      "metadata": {
        "id": "UNJf6liXNE9y"
      },
      "source": [
        "Exemple du passage de notre fonction\n"
      ]
    },
    {
      "cell_type": "code",
      "execution_count": 22,
      "metadata": {
        "colab": {
          "base_uri": "https://localhost:8080/",
          "height": 1000
        },
        "id": "40PSIzEmNJqA",
        "outputId": "5083c69e-24ad-47c1-8bad-acf15189fa64"
      },
      "outputs": [
        {
          "output_type": "display_data",
          "data": {
            "text/plain": [
              "'http://t.co/XGUfUDoLJB'"
            ],
            "application/vnd.google.colaboratory.intrinsic+json": {
              "type": "string"
            }
          },
          "metadata": {}
        },
        {
          "output_type": "display_data",
          "data": {
            "text/plain": [
              "''"
            ],
            "application/vnd.google.colaboratory.intrinsic+json": {
              "type": "string"
            }
          },
          "metadata": {}
        },
        {
          "output_type": "stream",
          "name": "stdout",
          "text": [
            "\n",
            "\n"
          ]
        },
        {
          "output_type": "display_data",
          "data": {
            "text/plain": [
              "'3'"
            ],
            "application/vnd.google.colaboratory.intrinsic+json": {
              "type": "string"
            }
          },
          "metadata": {}
        },
        {
          "output_type": "display_data",
          "data": {
            "text/plain": [
              "'three'"
            ],
            "application/vnd.google.colaboratory.intrinsic+json": {
              "type": "string"
            }
          },
          "metadata": {}
        },
        {
          "output_type": "stream",
          "name": "stdout",
          "text": [
            "\n",
            "\n"
          ]
        },
        {
          "output_type": "display_data",
          "data": {
            "text/plain": [
              "'Hello'"
            ],
            "application/vnd.google.colaboratory.intrinsic+json": {
              "type": "string"
            }
          },
          "metadata": {}
        },
        {
          "output_type": "display_data",
          "data": {
            "text/plain": [
              "'hello'"
            ],
            "application/vnd.google.colaboratory.intrinsic+json": {
              "type": "string"
            }
          },
          "metadata": {}
        },
        {
          "output_type": "stream",
          "name": "stdout",
          "text": [
            "\n",
            "\n"
          ]
        },
        {
          "output_type": "display_data",
          "data": {
            "text/plain": [
              "'Hello!'"
            ],
            "application/vnd.google.colaboratory.intrinsic+json": {
              "type": "string"
            }
          },
          "metadata": {}
        },
        {
          "output_type": "display_data",
          "data": {
            "text/plain": [
              "'hello'"
            ],
            "application/vnd.google.colaboratory.intrinsic+json": {
              "type": "string"
            }
          },
          "metadata": {}
        },
        {
          "output_type": "stream",
          "name": "stdout",
          "text": [
            "\n",
            "\n"
          ]
        },
        {
          "output_type": "display_data",
          "data": {
            "text/plain": [
              "'lol'"
            ],
            "application/vnd.google.colaboratory.intrinsic+json": {
              "type": "string"
            }
          },
          "metadata": {}
        },
        {
          "output_type": "display_data",
          "data": {
            "text/plain": [
              "'laughing out loud'"
            ],
            "application/vnd.google.colaboratory.intrinsic+json": {
              "type": "string"
            }
          },
          "metadata": {}
        },
        {
          "output_type": "stream",
          "name": "stdout",
          "text": [
            "\n",
            "\n"
          ]
        },
        {
          "output_type": "display_data",
          "data": {
            "text/plain": [
              "'After planning the project, she carefully researched each step, ensuring the execution was smooth and timely'"
            ],
            "application/vnd.google.colaboratory.intrinsic+json": {
              "type": "string"
            }
          },
          "metadata": {}
        },
        {
          "output_type": "display_data",
          "data": {
            "text/plain": [
              "'planning project carefully researched step ensuring execution smooth timely'"
            ],
            "application/vnd.google.colaboratory.intrinsic+json": {
              "type": "string"
            }
          },
          "metadata": {}
        },
        {
          "output_type": "stream",
          "name": "stdout",
          "text": [
            "\n",
            "\n"
          ]
        },
        {
          "output_type": "display_data",
          "data": {
            "text/plain": [
              "'😍'"
            ],
            "application/vnd.google.colaboratory.intrinsic+json": {
              "type": "string"
            }
          },
          "metadata": {}
        },
        {
          "output_type": "display_data",
          "data": {
            "text/plain": [
              "'keepEmojis=True : smiling_face_with_hearteyes'"
            ],
            "application/vnd.google.colaboratory.intrinsic+json": {
              "type": "string"
            }
          },
          "metadata": {}
        },
        {
          "output_type": "display_data",
          "data": {
            "text/plain": [
              "'keepEmojis=False : '"
            ],
            "application/vnd.google.colaboratory.intrinsic+json": {
              "type": "string"
            }
          },
          "metadata": {}
        },
        {
          "output_type": "stream",
          "name": "stdout",
          "text": [
            "\n",
            "\n"
          ]
        },
        {
          "output_type": "display_data",
          "data": {
            "text/plain": [
              "'我今天去超市买了一些水果'"
            ],
            "application/vnd.google.colaboratory.intrinsic+json": {
              "type": "string"
            }
          },
          "metadata": {}
        },
        {
          "output_type": "display_data",
          "data": {
            "text/plain": [
              "'translate=True : I went to the supermarket today to buy some fruit'"
            ],
            "application/vnd.google.colaboratory.intrinsic+json": {
              "type": "string"
            }
          },
          "metadata": {}
        },
        {
          "output_type": "display_data",
          "data": {
            "text/plain": [
              "'translate=False : 我今天去超市买了一些水果'"
            ],
            "application/vnd.google.colaboratory.intrinsic+json": {
              "type": "string"
            }
          },
          "metadata": {}
        },
        {
          "output_type": "stream",
          "name": "stdout",
          "text": [
            "\n",
            "\n"
          ]
        },
        {
          "output_type": "display_data",
          "data": {
            "text/plain": [
              "\"as @username said it's bad !\""
            ],
            "application/vnd.google.colaboratory.intrinsic+json": {
              "type": "string"
            }
          },
          "metadata": {}
        },
        {
          "output_type": "display_data",
          "data": {
            "text/plain": [
              "'keepTokens=True : @MENTION said bad'"
            ],
            "application/vnd.google.colaboratory.intrinsic+json": {
              "type": "string"
            }
          },
          "metadata": {}
        },
        {
          "output_type": "display_data",
          "data": {
            "text/plain": [
              "'keepTokens=False : said bad'"
            ],
            "application/vnd.google.colaboratory.intrinsic+json": {
              "type": "string"
            }
          },
          "metadata": {}
        },
        {
          "output_type": "stream",
          "name": "stdout",
          "text": [
            "\n",
            "\n"
          ]
        },
        {
          "output_type": "display_data",
          "data": {
            "text/plain": [
              "'I went to the theater to see Dune 2 #Dune'"
            ],
            "application/vnd.google.colaboratory.intrinsic+json": {
              "type": "string"
            }
          },
          "metadata": {}
        },
        {
          "output_type": "display_data",
          "data": {
            "text/plain": [
              "'went theater see dune two @HASHTAG'"
            ],
            "application/vnd.google.colaboratory.intrinsic+json": {
              "type": "string"
            }
          },
          "metadata": {}
        },
        {
          "output_type": "stream",
          "name": "stdout",
          "text": [
            "\n",
            "\n"
          ]
        },
        {
          "output_type": "display_data",
          "data": {
            "text/plain": [
              "'§$£'"
            ],
            "application/vnd.google.colaboratory.intrinsic+json": {
              "type": "string"
            }
          },
          "metadata": {}
        },
        {
          "output_type": "display_data",
          "data": {
            "text/plain": [
              "''"
            ],
            "application/vnd.google.colaboratory.intrinsic+json": {
              "type": "string"
            }
          },
          "metadata": {}
        },
        {
          "output_type": "stream",
          "name": "stdout",
          "text": [
            "\n",
            "\n"
          ]
        },
        {
          "output_type": "display_data",
          "data": {
            "text/plain": [
              "'10$ 10£ 10€'"
            ],
            "application/vnd.google.colaboratory.intrinsic+json": {
              "type": "string"
            }
          },
          "metadata": {}
        },
        {
          "output_type": "display_data",
          "data": {
            "text/plain": [
              "'ten dollar ten pound ten euro'"
            ],
            "application/vnd.google.colaboratory.intrinsic+json": {
              "type": "string"
            }
          },
          "metadata": {}
        },
        {
          "output_type": "stream",
          "name": "stdout",
          "text": [
            "\n",
            "\n"
          ]
        },
        {
          "output_type": "display_data",
          "data": {
            "text/plain": [
              "'Cool Cool Cool Cool Hot Hot Hot'"
            ],
            "application/vnd.google.colaboratory.intrinsic+json": {
              "type": "string"
            }
          },
          "metadata": {}
        },
        {
          "output_type": "display_data",
          "data": {
            "text/plain": [
              "'cool hot'"
            ],
            "application/vnd.google.colaboratory.intrinsic+json": {
              "type": "string"
            }
          },
          "metadata": {}
        },
        {
          "output_type": "stream",
          "name": "stdout",
          "text": [
            "\n",
            "\n"
          ]
        },
        {
          "output_type": "display_data",
          "data": {
            "text/plain": [
              "'Steaaaaaaaak tendeeeeers beeeeer goooooose   threeeeeeee woooooooooood aggggggggressive'"
            ],
            "application/vnd.google.colaboratory.intrinsic+json": {
              "type": "string"
            }
          },
          "metadata": {}
        },
        {
          "output_type": "display_data",
          "data": {
            "text/plain": [
              "'steak tenders beer goose three wood aggressive'"
            ],
            "application/vnd.google.colaboratory.intrinsic+json": {
              "type": "string"
            }
          },
          "metadata": {}
        },
        {
          "output_type": "stream",
          "name": "stdout",
          "text": [
            "\n",
            "\n"
          ]
        },
        {
          "output_type": "display_data",
          "data": {
            "text/plain": [
              "'cliché'"
            ],
            "application/vnd.google.colaboratory.intrinsic+json": {
              "type": "string"
            }
          },
          "metadata": {}
        },
        {
          "output_type": "display_data",
          "data": {
            "text/plain": [
              "'cliche'"
            ],
            "application/vnd.google.colaboratory.intrinsic+json": {
              "type": "string"
            }
          },
          "metadata": {}
        },
        {
          "output_type": "stream",
          "name": "stdout",
          "text": [
            "\n",
            "\n"
          ]
        },
        {
          "output_type": "display_data",
          "data": {
            "text/plain": [
              "'10AM computer 10:30 potatoes 10h30'"
            ],
            "application/vnd.google.colaboratory.intrinsic+json": {
              "type": "string"
            }
          },
          "metadata": {}
        },
        {
          "output_type": "display_data",
          "data": {
            "text/plain": [
              "'@TIME computer @TIME potatoes @TIME'"
            ],
            "application/vnd.google.colaboratory.intrinsic+json": {
              "type": "string"
            }
          },
          "metadata": {}
        },
        {
          "output_type": "stream",
          "name": "stdout",
          "text": [
            "\n",
            "\n"
          ]
        },
        {
          "output_type": "display_data",
          "data": {
            "text/plain": [
              "'+33123456789'"
            ],
            "application/vnd.google.colaboratory.intrinsic+json": {
              "type": "string"
            }
          },
          "metadata": {}
        },
        {
          "output_type": "display_data",
          "data": {
            "text/plain": [
              "'@PHONENUMBER'"
            ],
            "application/vnd.google.colaboratory.intrinsic+json": {
              "type": "string"
            }
          },
          "metadata": {}
        },
        {
          "output_type": "stream",
          "name": "stdout",
          "text": [
            "\n",
            "\n"
          ]
        },
        {
          "output_type": "display_data",
          "data": {
            "text/plain": [
              "'14,34 10,000'"
            ],
            "application/vnd.google.colaboratory.intrinsic+json": {
              "type": "string"
            }
          },
          "metadata": {}
        },
        {
          "output_type": "display_data",
          "data": {
            "text/plain": [
              "'numbersAsTokens=True : number'"
            ],
            "application/vnd.google.colaboratory.intrinsic+json": {
              "type": "string"
            }
          },
          "metadata": {}
        },
        {
          "output_type": "display_data",
          "data": {
            "text/plain": [
              "'numbersAsTokens=True : one thousand, four hundred and thirty-four ten thousand'"
            ],
            "application/vnd.google.colaboratory.intrinsic+json": {
              "type": "string"
            }
          },
          "metadata": {}
        },
        {
          "output_type": "stream",
          "name": "stdout",
          "text": [
            "\n",
            "\n"
          ]
        },
        {
          "output_type": "display_data",
          "data": {
            "text/plain": [
              "'10/10'"
            ],
            "application/vnd.google.colaboratory.intrinsic+json": {
              "type": "string"
            }
          },
          "metadata": {}
        },
        {
          "output_type": "display_data",
          "data": {
            "text/plain": [
              "'ten out of ten'"
            ],
            "application/vnd.google.colaboratory.intrinsic+json": {
              "type": "string"
            }
          },
          "metadata": {}
        },
        {
          "output_type": "stream",
          "name": "stdout",
          "text": [
            "\n",
            "\n"
          ]
        },
        {
          "output_type": "display_data",
          "data": {
            "text/plain": [
              "'N. Lutz '"
            ],
            "application/vnd.google.colaboratory.intrinsic+json": {
              "type": "string"
            }
          },
          "metadata": {}
        },
        {
          "output_type": "display_data",
          "data": {
            "text/plain": [
              "'n lutz'"
            ],
            "application/vnd.google.colaboratory.intrinsic+json": {
              "type": "string"
            }
          },
          "metadata": {}
        },
        {
          "output_type": "stream",
          "name": "stdout",
          "text": [
            "\n",
            "\n"
          ]
        }
      ],
      "source": [
        "#URL\n",
        "display(\"http://t.co/XGUfUDoLJB\")\n",
        "display(prepareText(\"http://t.co/XGUfUDoLJB\"))\n",
        "print(\"\\n\")\n",
        "#Chiffre\n",
        "display(\"3\")\n",
        "display(prepareText(\"3\"))\n",
        "print(\"\\n\")\n",
        "#Majuscule\n",
        "display(\"Hello\")\n",
        "display(prepareText(\"Hello\"))\n",
        "print(\"\\n\")\n",
        "#Ponctuation\n",
        "display(\"Hello!\")\n",
        "display(prepareText(\"Hello!\"))\n",
        "print(\"\\n\")\n",
        "#Abréviation\n",
        "display(\"lol\")\n",
        "display(prepareText(\"lol\"))\n",
        "print(\"\\n\")\n",
        "#StepWord\n",
        "display(\"After planning the project, she carefully researched each step, ensuring the execution was smooth and timely\")\n",
        "display(prepareText(\"After planning the project, she carefully researched each step, ensuring the execution was smooth and timely\"))\n",
        "print(\"\\n\")\n",
        "#Emojis\n",
        "display(\"😍\")\n",
        "display(\"keepEmojis=True : \" + prepareText(\"😍\", keepEmojis=True))\n",
        "display(\"keepEmojis=False : \" + prepareText(\"😍\", keepEmojis=False))\n",
        "print(\"\\n\")\n",
        "#Traductions (dernière étape)\n",
        "display(\"我今天去超市买了一些水果\")\n",
        "display(\"translate=True : \" + prepareText(\"我今天去超市买了一些水果\", translate=True))\n",
        "display(\"translate=False : \" + prepareText(\"我今天去超市买了一些水果\", translate=False))\n",
        "print(\"\\n\")\n",
        "#Mention Twitter\n",
        "display(\"as @username said it's bad !\")\n",
        "display(\"keepTokens=True : \" + prepareText(\"as @username said it's bad !\", keepTokens=True))\n",
        "display(\"keepTokens=False : \" + prepareText(\"as @username said it's bad !\", keepTokens=False))\n",
        "print(\"\\n\")\n",
        "#Hashtag\n",
        "display(\"I went to the theater to see Dune 2 #Dune\")\n",
        "display(prepareText(\"I went to the theater to see Dune 2 #Dune\"))\n",
        "print(\"\\n\")\n",
        "#Charactères spéciaux\n",
        "display(\"§$£\")\n",
        "display(prepareText(\"§$£\"))\n",
        "print(\"\\n\")\n",
        "#Devices\n",
        "display(\"10$ 10£ 10€\")\n",
        "display(prepareText(\"10$ 10£ 10€\"))\n",
        "print(\"\\n\")\n",
        "#Mot répétés\n",
        "display(\"Cool Cool Cool Cool Hot Hot Hot\")\n",
        "display(prepareText(\"Cool Cool Cool Cool Hot Hot Hot\"))\n",
        "print(\"\\n\")\n",
        "#Lettres répétées\n",
        "display(\"Steaaaaaaaak tendeeeeers beeeeer goooooose   threeeeeeee woooooooooood aggggggggressive\")\n",
        "display(prepareText(\"Steaaaaaaaak tendeeeeers beeeeer goooooose   threeeeeeee woooooooooood aggggggggressive\"))\n",
        "print(\"\\n\")\n",
        "#Accent\n",
        "display(\"cliché\")\n",
        "display(prepareText(\"cliché\"))\n",
        "print(\"\\n\")\n",
        "#Heures\n",
        "display(\"10AM computer 10:30 potatoes 10h30\")\n",
        "display(prepareText(\"10AM computer 10:30 potatoes 10h30\"))\n",
        "print(\"\\n\")\n",
        "#Numéro de téléphone\n",
        "display(\"+33123456789\")\n",
        "display(prepareText(\"+33123456789\"))\n",
        "print(\"\\n\")\n",
        "#Expression flottante\n",
        "display(\"14,34 10,000\")\n",
        "display(\"numbersAsTokens=True : \" + prepareText(\"14,34 10,000\", numbersAsTokens=True))\n",
        "display(\"numbersAsTokens=True : \" + prepareText(\"14,34 10,000\", numbersAsTokens=False))\n",
        "print(\"\\n\")\n",
        "# 10/10\n",
        "display(\"10/10\")\n",
        "display(prepareText(\"10/10\"))\n",
        "print(\"\\n\")\n",
        "#Charactères spéciaux (nuémro de téléphone, x/x , 10,0000)\n",
        "display(\"N. Lutz \")\n",
        "display(prepareText(\"N. Lutz\"))\n",
        "print(\"\\n\")"
      ]
    },
    {
      "cell_type": "markdown",
      "metadata": {
        "id": "QIzU7H-iQePr"
      },
      "source": [
        "On créé une copie de notre set de données de base et on applique notre fonction sur tout nos tweets /!\\ cette cellule prend un temps de calcul conséquent car elle créer une copie du CSV avec les données toutes formattées."
      ]
    },
    {
      "cell_type": "code",
      "execution_count": 23,
      "metadata": {
        "id": "PRkBCAtCuMRx"
      },
      "outputs": [],
      "source": [
        "# Création copie données\n",
        "dataPrepared =df.copy()\n",
        "# Application de notre fonction de preparation sur dataPrepared\n",
        "dataPrepared['text'] = dataPrepared['text'].apply(prepareText)"
      ]
    },
    {
      "cell_type": "markdown",
      "metadata": {
        "id": "TmXKNDwrV3a0"
      },
      "source": [
        "On supprime toutes les lignes contenant un tweet vide :"
      ]
    },
    {
      "cell_type": "code",
      "execution_count": 24,
      "metadata": {
        "colab": {
          "base_uri": "https://localhost:8080/",
          "height": 452
        },
        "id": "G401vfy4WCz2",
        "outputId": "7c476760-e18d-444d-b5bc-c9c10e624496"
      },
      "outputs": [
        {
          "output_type": "stream",
          "name": "stdout",
          "text": [
            "Nombre de lignes contenant un tweet vide :  0\n",
            "5 premières lignes du dataset :\n"
          ]
        },
        {
          "output_type": "display_data",
          "data": {
            "text/plain": [
              "   Unnamed: 0            tweet_id  \\\n",
              "0           0  316669998137483264   \n",
              "1           1  319090866545385472   \n",
              "2           2  322030931022065664   \n",
              "3           3  322694830620807168   \n",
              "4           4  328524426658328576   \n",
              "\n",
              "                                                text  science_related  \\\n",
              "0  knees bit sore guess sign recent treadmiling w...                0   \n",
              "1  mcdonalds breakfast stop gym basketbalflexed_b...                0   \n",
              "2  gynecologist cancer experience explain dangers...                1   \n",
              "3  couchlock highs lead sleeping couch got stop shit                1   \n",
              "4  daily routine help prevent problems bipolar di...                1   \n",
              "\n",
              "   scientific_claim  scientific_reference  scientific_context  \n",
              "0               0.0                   0.0                 0.0  \n",
              "1               0.0                   0.0                 0.0  \n",
              "2               1.0                   0.0                 0.0  \n",
              "3               1.0                   0.0                 0.0  \n",
              "4               1.0                   0.0                 0.0  "
            ],
            "text/html": [
              "\n",
              "  <div id=\"df-c5c3b467-9a11-4e55-bece-e3f8dce13562\" class=\"colab-df-container\">\n",
              "    <div>\n",
              "<style scoped>\n",
              "    .dataframe tbody tr th:only-of-type {\n",
              "        vertical-align: middle;\n",
              "    }\n",
              "\n",
              "    .dataframe tbody tr th {\n",
              "        vertical-align: top;\n",
              "    }\n",
              "\n",
              "    .dataframe thead th {\n",
              "        text-align: right;\n",
              "    }\n",
              "</style>\n",
              "<table border=\"1\" class=\"dataframe\">\n",
              "  <thead>\n",
              "    <tr style=\"text-align: right;\">\n",
              "      <th></th>\n",
              "      <th>Unnamed: 0</th>\n",
              "      <th>tweet_id</th>\n",
              "      <th>text</th>\n",
              "      <th>science_related</th>\n",
              "      <th>scientific_claim</th>\n",
              "      <th>scientific_reference</th>\n",
              "      <th>scientific_context</th>\n",
              "    </tr>\n",
              "  </thead>\n",
              "  <tbody>\n",
              "    <tr>\n",
              "      <th>0</th>\n",
              "      <td>0</td>\n",
              "      <td>316669998137483264</td>\n",
              "      <td>knees bit sore guess sign recent treadmiling w...</td>\n",
              "      <td>0</td>\n",
              "      <td>0.0</td>\n",
              "      <td>0.0</td>\n",
              "      <td>0.0</td>\n",
              "    </tr>\n",
              "    <tr>\n",
              "      <th>1</th>\n",
              "      <td>1</td>\n",
              "      <td>319090866545385472</td>\n",
              "      <td>mcdonalds breakfast stop gym basketbalflexed_b...</td>\n",
              "      <td>0</td>\n",
              "      <td>0.0</td>\n",
              "      <td>0.0</td>\n",
              "      <td>0.0</td>\n",
              "    </tr>\n",
              "    <tr>\n",
              "      <th>2</th>\n",
              "      <td>2</td>\n",
              "      <td>322030931022065664</td>\n",
              "      <td>gynecologist cancer experience explain dangers...</td>\n",
              "      <td>1</td>\n",
              "      <td>1.0</td>\n",
              "      <td>0.0</td>\n",
              "      <td>0.0</td>\n",
              "    </tr>\n",
              "    <tr>\n",
              "      <th>3</th>\n",
              "      <td>3</td>\n",
              "      <td>322694830620807168</td>\n",
              "      <td>couchlock highs lead sleeping couch got stop shit</td>\n",
              "      <td>1</td>\n",
              "      <td>1.0</td>\n",
              "      <td>0.0</td>\n",
              "      <td>0.0</td>\n",
              "    </tr>\n",
              "    <tr>\n",
              "      <th>4</th>\n",
              "      <td>4</td>\n",
              "      <td>328524426658328576</td>\n",
              "      <td>daily routine help prevent problems bipolar di...</td>\n",
              "      <td>1</td>\n",
              "      <td>1.0</td>\n",
              "      <td>0.0</td>\n",
              "      <td>0.0</td>\n",
              "    </tr>\n",
              "  </tbody>\n",
              "</table>\n",
              "</div>\n",
              "    <div class=\"colab-df-buttons\">\n",
              "\n",
              "  <div class=\"colab-df-container\">\n",
              "    <button class=\"colab-df-convert\" onclick=\"convertToInteractive('df-c5c3b467-9a11-4e55-bece-e3f8dce13562')\"\n",
              "            title=\"Convert this dataframe to an interactive table.\"\n",
              "            style=\"display:none;\">\n",
              "\n",
              "  <svg xmlns=\"http://www.w3.org/2000/svg\" height=\"24px\" viewBox=\"0 -960 960 960\">\n",
              "    <path d=\"M120-120v-720h720v720H120Zm60-500h600v-160H180v160Zm220 220h160v-160H400v160Zm0 220h160v-160H400v160ZM180-400h160v-160H180v160Zm440 0h160v-160H620v160ZM180-180h160v-160H180v160Zm440 0h160v-160H620v160Z\"/>\n",
              "  </svg>\n",
              "    </button>\n",
              "\n",
              "  <style>\n",
              "    .colab-df-container {\n",
              "      display:flex;\n",
              "      gap: 12px;\n",
              "    }\n",
              "\n",
              "    .colab-df-convert {\n",
              "      background-color: #E8F0FE;\n",
              "      border: none;\n",
              "      border-radius: 50%;\n",
              "      cursor: pointer;\n",
              "      display: none;\n",
              "      fill: #1967D2;\n",
              "      height: 32px;\n",
              "      padding: 0 0 0 0;\n",
              "      width: 32px;\n",
              "    }\n",
              "\n",
              "    .colab-df-convert:hover {\n",
              "      background-color: #E2EBFA;\n",
              "      box-shadow: 0px 1px 2px rgba(60, 64, 67, 0.3), 0px 1px 3px 1px rgba(60, 64, 67, 0.15);\n",
              "      fill: #174EA6;\n",
              "    }\n",
              "\n",
              "    .colab-df-buttons div {\n",
              "      margin-bottom: 4px;\n",
              "    }\n",
              "\n",
              "    [theme=dark] .colab-df-convert {\n",
              "      background-color: #3B4455;\n",
              "      fill: #D2E3FC;\n",
              "    }\n",
              "\n",
              "    [theme=dark] .colab-df-convert:hover {\n",
              "      background-color: #434B5C;\n",
              "      box-shadow: 0px 1px 3px 1px rgba(0, 0, 0, 0.15);\n",
              "      filter: drop-shadow(0px 1px 2px rgba(0, 0, 0, 0.3));\n",
              "      fill: #FFFFFF;\n",
              "    }\n",
              "  </style>\n",
              "\n",
              "    <script>\n",
              "      const buttonEl =\n",
              "        document.querySelector('#df-c5c3b467-9a11-4e55-bece-e3f8dce13562 button.colab-df-convert');\n",
              "      buttonEl.style.display =\n",
              "        google.colab.kernel.accessAllowed ? 'block' : 'none';\n",
              "\n",
              "      async function convertToInteractive(key) {\n",
              "        const element = document.querySelector('#df-c5c3b467-9a11-4e55-bece-e3f8dce13562');\n",
              "        const dataTable =\n",
              "          await google.colab.kernel.invokeFunction('convertToInteractive',\n",
              "                                                    [key], {});\n",
              "        if (!dataTable) return;\n",
              "\n",
              "        const docLinkHtml = 'Like what you see? Visit the ' +\n",
              "          '<a target=\"_blank\" href=https://colab.research.google.com/notebooks/data_table.ipynb>data table notebook</a>'\n",
              "          + ' to learn more about interactive tables.';\n",
              "        element.innerHTML = '';\n",
              "        dataTable['output_type'] = 'display_data';\n",
              "        await google.colab.output.renderOutput(dataTable, element);\n",
              "        const docLink = document.createElement('div');\n",
              "        docLink.innerHTML = docLinkHtml;\n",
              "        element.appendChild(docLink);\n",
              "      }\n",
              "    </script>\n",
              "  </div>\n",
              "\n",
              "\n",
              "<div id=\"df-4a9330d9-89eb-46c3-bb4f-423a0af64dbc\">\n",
              "  <button class=\"colab-df-quickchart\" onclick=\"quickchart('df-4a9330d9-89eb-46c3-bb4f-423a0af64dbc')\"\n",
              "            title=\"Suggest charts\"\n",
              "            style=\"display:none;\">\n",
              "\n",
              "<svg xmlns=\"http://www.w3.org/2000/svg\" height=\"24px\"viewBox=\"0 0 24 24\"\n",
              "     width=\"24px\">\n",
              "    <g>\n",
              "        <path d=\"M19 3H5c-1.1 0-2 .9-2 2v14c0 1.1.9 2 2 2h14c1.1 0 2-.9 2-2V5c0-1.1-.9-2-2-2zM9 17H7v-7h2v7zm4 0h-2V7h2v10zm4 0h-2v-4h2v4z\"/>\n",
              "    </g>\n",
              "</svg>\n",
              "  </button>\n",
              "\n",
              "<style>\n",
              "  .colab-df-quickchart {\n",
              "      --bg-color: #E8F0FE;\n",
              "      --fill-color: #1967D2;\n",
              "      --hover-bg-color: #E2EBFA;\n",
              "      --hover-fill-color: #174EA6;\n",
              "      --disabled-fill-color: #AAA;\n",
              "      --disabled-bg-color: #DDD;\n",
              "  }\n",
              "\n",
              "  [theme=dark] .colab-df-quickchart {\n",
              "      --bg-color: #3B4455;\n",
              "      --fill-color: #D2E3FC;\n",
              "      --hover-bg-color: #434B5C;\n",
              "      --hover-fill-color: #FFFFFF;\n",
              "      --disabled-bg-color: #3B4455;\n",
              "      --disabled-fill-color: #666;\n",
              "  }\n",
              "\n",
              "  .colab-df-quickchart {\n",
              "    background-color: var(--bg-color);\n",
              "    border: none;\n",
              "    border-radius: 50%;\n",
              "    cursor: pointer;\n",
              "    display: none;\n",
              "    fill: var(--fill-color);\n",
              "    height: 32px;\n",
              "    padding: 0;\n",
              "    width: 32px;\n",
              "  }\n",
              "\n",
              "  .colab-df-quickchart:hover {\n",
              "    background-color: var(--hover-bg-color);\n",
              "    box-shadow: 0 1px 2px rgba(60, 64, 67, 0.3), 0 1px 3px 1px rgba(60, 64, 67, 0.15);\n",
              "    fill: var(--button-hover-fill-color);\n",
              "  }\n",
              "\n",
              "  .colab-df-quickchart-complete:disabled,\n",
              "  .colab-df-quickchart-complete:disabled:hover {\n",
              "    background-color: var(--disabled-bg-color);\n",
              "    fill: var(--disabled-fill-color);\n",
              "    box-shadow: none;\n",
              "  }\n",
              "\n",
              "  .colab-df-spinner {\n",
              "    border: 2px solid var(--fill-color);\n",
              "    border-color: transparent;\n",
              "    border-bottom-color: var(--fill-color);\n",
              "    animation:\n",
              "      spin 1s steps(1) infinite;\n",
              "  }\n",
              "\n",
              "  @keyframes spin {\n",
              "    0% {\n",
              "      border-color: transparent;\n",
              "      border-bottom-color: var(--fill-color);\n",
              "      border-left-color: var(--fill-color);\n",
              "    }\n",
              "    20% {\n",
              "      border-color: transparent;\n",
              "      border-left-color: var(--fill-color);\n",
              "      border-top-color: var(--fill-color);\n",
              "    }\n",
              "    30% {\n",
              "      border-color: transparent;\n",
              "      border-left-color: var(--fill-color);\n",
              "      border-top-color: var(--fill-color);\n",
              "      border-right-color: var(--fill-color);\n",
              "    }\n",
              "    40% {\n",
              "      border-color: transparent;\n",
              "      border-right-color: var(--fill-color);\n",
              "      border-top-color: var(--fill-color);\n",
              "    }\n",
              "    60% {\n",
              "      border-color: transparent;\n",
              "      border-right-color: var(--fill-color);\n",
              "    }\n",
              "    80% {\n",
              "      border-color: transparent;\n",
              "      border-right-color: var(--fill-color);\n",
              "      border-bottom-color: var(--fill-color);\n",
              "    }\n",
              "    90% {\n",
              "      border-color: transparent;\n",
              "      border-bottom-color: var(--fill-color);\n",
              "    }\n",
              "  }\n",
              "</style>\n",
              "\n",
              "  <script>\n",
              "    async function quickchart(key) {\n",
              "      const quickchartButtonEl =\n",
              "        document.querySelector('#' + key + ' button');\n",
              "      quickchartButtonEl.disabled = true;  // To prevent multiple clicks.\n",
              "      quickchartButtonEl.classList.add('colab-df-spinner');\n",
              "      try {\n",
              "        const charts = await google.colab.kernel.invokeFunction(\n",
              "            'suggestCharts', [key], {});\n",
              "      } catch (error) {\n",
              "        console.error('Error during call to suggestCharts:', error);\n",
              "      }\n",
              "      quickchartButtonEl.classList.remove('colab-df-spinner');\n",
              "      quickchartButtonEl.classList.add('colab-df-quickchart-complete');\n",
              "    }\n",
              "    (() => {\n",
              "      let quickchartButtonEl =\n",
              "        document.querySelector('#df-4a9330d9-89eb-46c3-bb4f-423a0af64dbc button');\n",
              "      quickchartButtonEl.style.display =\n",
              "        google.colab.kernel.accessAllowed ? 'block' : 'none';\n",
              "    })();\n",
              "  </script>\n",
              "</div>\n",
              "\n",
              "    </div>\n",
              "  </div>\n"
            ],
            "application/vnd.google.colaboratory.intrinsic+json": {
              "type": "dataframe",
              "summary": "{\n  \"name\": \"display(dataPrepared\",\n  \"rows\": 5,\n  \"fields\": [\n    {\n      \"column\": \"Unnamed: 0\",\n      \"properties\": {\n        \"dtype\": \"number\",\n        \"std\": 1,\n        \"min\": 0,\n        \"max\": 4,\n        \"num_unique_values\": 5,\n        \"samples\": [\n          1,\n          4,\n          2\n        ],\n        \"semantic_type\": \"\",\n        \"description\": \"\"\n      }\n    },\n    {\n      \"column\": \"tweet_id\",\n      \"properties\": {\n        \"dtype\": \"number\",\n        \"std\": 4464534231327270,\n        \"min\": 316669998137483264,\n        \"max\": 328524426658328576,\n        \"num_unique_values\": 5,\n        \"samples\": [\n          319090866545385472,\n          328524426658328576,\n          322030931022065664\n        ],\n        \"semantic_type\": \"\",\n        \"description\": \"\"\n      }\n    },\n    {\n      \"column\": \"text\",\n      \"properties\": {\n        \"dtype\": \"string\",\n        \"num_unique_values\": 5,\n        \"samples\": [\n          \"mcdonalds breakfast stop gym basketbalflexed_biceps\",\n          \"daily routine help prevent problems bipolar disorder\",\n          \"gynecologist cancer experience explain dangers transvaginal douching fluoride toxins dioxin @HASHTAG\"\n        ],\n        \"semantic_type\": \"\",\n        \"description\": \"\"\n      }\n    },\n    {\n      \"column\": \"science_related\",\n      \"properties\": {\n        \"dtype\": \"number\",\n        \"std\": 0,\n        \"min\": 0,\n        \"max\": 1,\n        \"num_unique_values\": 2,\n        \"samples\": [\n          1,\n          0\n        ],\n        \"semantic_type\": \"\",\n        \"description\": \"\"\n      }\n    },\n    {\n      \"column\": \"scientific_claim\",\n      \"properties\": {\n        \"dtype\": \"number\",\n        \"std\": 0.5477225575051662,\n        \"min\": 0.0,\n        \"max\": 1.0,\n        \"num_unique_values\": 2,\n        \"samples\": [\n          1.0,\n          0.0\n        ],\n        \"semantic_type\": \"\",\n        \"description\": \"\"\n      }\n    },\n    {\n      \"column\": \"scientific_reference\",\n      \"properties\": {\n        \"dtype\": \"number\",\n        \"std\": 0.0,\n        \"min\": 0.0,\n        \"max\": 0.0,\n        \"num_unique_values\": 1,\n        \"samples\": [\n          0.0\n        ],\n        \"semantic_type\": \"\",\n        \"description\": \"\"\n      }\n    },\n    {\n      \"column\": \"scientific_context\",\n      \"properties\": {\n        \"dtype\": \"number\",\n        \"std\": 0.0,\n        \"min\": 0.0,\n        \"max\": 0.0,\n        \"num_unique_values\": 1,\n        \"samples\": [\n          0.0\n        ],\n        \"semantic_type\": \"\",\n        \"description\": \"\"\n      }\n    }\n  ]\n}"
            }
          },
          "metadata": {}
        }
      ],
      "source": [
        "# Suppression de toutes les lignes vides\n",
        "dataPrepared = dataPrepared[dataPrepared['text'] != '']\n",
        "\n",
        "# Afficher le nombre de ligne ayant un tweet vide\n",
        "print(\"Nombre de lignes contenant un tweet vide : \", len(df[df['text'] == '']))\n",
        "\n",
        "# Afficher\n",
        "print(\"5 premières lignes du dataset :\")\n",
        "display(dataPrepared.head())\n"
      ]
    },
    {
      "cell_type": "markdown",
      "metadata": {
        "id": "EZWWHfx_VfOm"
      },
      "source": [
        "Une fois notre premier traitement effectué on va effecter la dernière partie des traitements des données brutes la lemmatisation, racinisation et tagination. Ces étapes permettent d'affiner le texte pour que chaque mot soit réduit à sa forme de base, ce qui est essentiel pour de nombreuses applications de traitement de texte, comme la recherche d'informations ou l'analyse de sentiments.\n",
        "\n",
        "Voici les étapes que l'on va faire après le formatage :\n",
        "\n",
        "Lemmatisation : Cette technique consiste à réduire un mot à sa forme canonique (ou lemmé), c'est-à-dire à la forme sous laquelle il apparaît dans le dictionnaire. Exemple better deviendra good.\n",
        "\n",
        "Racinisation : Cette méthode consiste à réduire un mot à sa racine, c'est-à-dire à enlever les suffixes (ou préfixes) pour obtenir une forme simplifiée du mot. Cela permet de mieux traiter les variations de mot comme runner qui devriendra run.\n",
        "\n",
        "Tagination (ou étiquetage de parties du discours) : Cette technique consiste à identifier et à étiqueter chaque mot d'un texte en fonction de sa catégorie grammaticale (nom, verbe, adjectif, etc.)\n",
        "\n",
        "<br>\n",
        "\n",
        "On va commencer par appliquer une tokenisation et une taggenisation sur chacun de nos tweets. Pour cela on va définir 2 fonctions :"
      ]
    },
    {
      "cell_type": "code",
      "execution_count": 25,
      "metadata": {
        "id": "haWBUC8hWMyr"
      },
      "outputs": [],
      "source": [
        "#Fonction permettant de récupérer le bon tag du mot passé en paramètre\n",
        "def get_wordnet_pos(word):\n",
        "    if word.startswith('J'):\n",
        "        return wordnet.ADJ\n",
        "    elif word.startswith('V'):\n",
        "        return wordnet.VERB\n",
        "    elif word.startswith('N'):\n",
        "        return wordnet.NOUN\n",
        "    elif word.startswith('R'):\n",
        "        return wordnet.ADV\n",
        "    else:\n",
        "        return wordnet.NOUN\n",
        "\n",
        "#Fonction qui applique la tokenisation et une taggenisation sur une phrase passée en paramètre\n",
        "def lemmatize_taggenize_sentence(sentence):\n",
        "    tokens = word_tokenize(sentence) # Tokenisation du texte\n",
        "    tagged_tokens = pos_tag(tokens) # Étiquetage des mots (POS tagging)\n",
        "    lemmatized = [lemmatizer.lemmatize(token, get_wordnet_pos(tag)) for token, tag in tagged_tokens]\n",
        "    return \" \".join(lemmatized)\n",
        "\n"
      ]
    },
    {
      "cell_type": "markdown",
      "metadata": {
        "id": "dITeyYruD1q6"
      },
      "source": [
        "Essayons notre fonction :"
      ]
    },
    {
      "cell_type": "code",
      "execution_count": 26,
      "metadata": {
        "colab": {
          "base_uri": "https://localhost:8080/"
        },
        "id": "JYwuVhlvD01F",
        "outputId": "493588f7-2702-4eab-de6b-7fff564b5d77"
      },
      "outputs": [
        {
          "output_type": "stream",
          "name": "stdout",
          "text": [
            "knees bit sore guess sign recent treadmiling working\n",
            "knee bite sore guess sign recent treadmiling work\n"
          ]
        }
      ],
      "source": [
        "print(dataPrepared['text'][0])\n",
        "print(lemmatize_taggenize_sentence(dataPrepared['text'][0]))"
      ]
    },
    {
      "cell_type": "markdown",
      "metadata": {
        "id": "j1KCzLNwEAts"
      },
      "source": [
        "On applique alors notre fonction sur nos données préparées :"
      ]
    },
    {
      "cell_type": "code",
      "execution_count": 27,
      "metadata": {
        "colab": {
          "base_uri": "https://localhost:8080/",
          "height": 458
        },
        "id": "X-lpjp3xELUF",
        "outputId": "69437410-558c-45a4-8963-d8815669911c"
      },
      "outputs": [
        {
          "output_type": "execute_result",
          "data": {
            "text/plain": [
              "0       knee bite sore guess sign recent treadmiling work\n",
              "1       mcdonalds breakfast stop gym basketbalflexed_b...\n",
              "2       gynecologist cancer experience explain danger ...\n",
              "3           couchlock high lead sleep couch get stop shit\n",
              "4       daily routine help prevent problem bipolar dis...\n",
              "                              ...                        \n",
              "1135    @ MENTION sorry one out of four million dead c...\n",
              "1136    dear @ HASHTAG applicant kindly download enrol...\n",
              "1137                      uber support team email address\n",
              "1138    house pass bill increase stimulus check two th...\n",
              "1139    @ MENTION @ HASHTAG renjun deserve well treatm...\n",
              "Name: text, Length: 1139, dtype: object"
            ],
            "text/html": [
              "<div>\n",
              "<style scoped>\n",
              "    .dataframe tbody tr th:only-of-type {\n",
              "        vertical-align: middle;\n",
              "    }\n",
              "\n",
              "    .dataframe tbody tr th {\n",
              "        vertical-align: top;\n",
              "    }\n",
              "\n",
              "    .dataframe thead th {\n",
              "        text-align: right;\n",
              "    }\n",
              "</style>\n",
              "<table border=\"1\" class=\"dataframe\">\n",
              "  <thead>\n",
              "    <tr style=\"text-align: right;\">\n",
              "      <th></th>\n",
              "      <th>text</th>\n",
              "    </tr>\n",
              "  </thead>\n",
              "  <tbody>\n",
              "    <tr>\n",
              "      <th>0</th>\n",
              "      <td>knee bite sore guess sign recent treadmiling work</td>\n",
              "    </tr>\n",
              "    <tr>\n",
              "      <th>1</th>\n",
              "      <td>mcdonalds breakfast stop gym basketbalflexed_b...</td>\n",
              "    </tr>\n",
              "    <tr>\n",
              "      <th>2</th>\n",
              "      <td>gynecologist cancer experience explain danger ...</td>\n",
              "    </tr>\n",
              "    <tr>\n",
              "      <th>3</th>\n",
              "      <td>couchlock high lead sleep couch get stop shit</td>\n",
              "    </tr>\n",
              "    <tr>\n",
              "      <th>4</th>\n",
              "      <td>daily routine help prevent problem bipolar dis...</td>\n",
              "    </tr>\n",
              "    <tr>\n",
              "      <th>...</th>\n",
              "      <td>...</td>\n",
              "    </tr>\n",
              "    <tr>\n",
              "      <th>1135</th>\n",
              "      <td>@ MENTION sorry one out of four million dead c...</td>\n",
              "    </tr>\n",
              "    <tr>\n",
              "      <th>1136</th>\n",
              "      <td>dear @ HASHTAG applicant kindly download enrol...</td>\n",
              "    </tr>\n",
              "    <tr>\n",
              "      <th>1137</th>\n",
              "      <td>uber support team email address</td>\n",
              "    </tr>\n",
              "    <tr>\n",
              "      <th>1138</th>\n",
              "      <td>house pass bill increase stimulus check two th...</td>\n",
              "    </tr>\n",
              "    <tr>\n",
              "      <th>1139</th>\n",
              "      <td>@ MENTION @ HASHTAG renjun deserve well treatm...</td>\n",
              "    </tr>\n",
              "  </tbody>\n",
              "</table>\n",
              "<p>1139 rows × 1 columns</p>\n",
              "</div><br><label><b>dtype:</b> object</label>"
            ]
          },
          "metadata": {},
          "execution_count": 27
        }
      ],
      "source": [
        "dataPrepared['text'].apply(lemmatize_taggenize_sentence)"
      ]
    },
    {
      "cell_type": "markdown",
      "metadata": {
        "id": "if702Tm6XoIp"
      },
      "source": [
        "On va ajouter dans notre DataFrame un attribut contenant les tweets correctement traités en appliquant les opérations suivantes :\n",
        "\n",
        "  - Normalisation du texte : suppression des variations morphologiques.\n",
        "\n",
        "  -Réduction de la dimensionnalité : un même concept est représenté par un seul mot.\n",
        "  \n",
        "  -Amélioration des performances des modèles : les algorithmes de Machine Learning comprennent mieux les relations entre les mots.\n",
        "\n",
        "  <br>\n",
        "\n",
        "  La partie subtile c'est que ce genre de traitement peuvent influencer complétement les mots post-traitement. Par exemple unhappiness doit devenir unhappy, pour éviter ce genre d'erreur on doit appliquer une dernière transformation :"
      ]
    },
    {
      "cell_type": "code",
      "execution_count": 28,
      "metadata": {
        "id": "cWmi0_QRFJ5D"
      },
      "outputs": [],
      "source": [
        "#Fonction qui permet de ne pas perdre le sens d'un mot traité (i.e unhap)\n",
        "def refine_stem_lemmatize(token, tag):\n",
        "    try:\n",
        "        # Ignorer les mots contenant des underscores, chiffres ou caractères spéciaux\n",
        "\n",
        "        # Racinisation\n",
        "        stemmed = stemmer.stem(token)\n",
        "\n",
        "        # Vérification du préfixe \"un\"\n",
        "        if stemmed.startswith(\"un\") and len(stemmed) > 2:  # Vérifie que \"un\" n'est pas seul\n",
        "            root = stemmed[2:]  # Retire le préfixe \"un\"\n",
        "            if wordnet.synsets(root):  # Vérifie si la racine sans \"un\" est valide dans WordNet\n",
        "                return f\"not {root}\"\n",
        "\n",
        "        # Vérification de validité du mot racinisé\n",
        "        if not wordnet.synsets(stemmed):\n",
        "            stemmed = token  # Si le mot racinisé est incompréhensible, garde l'original\n",
        "\n",
        "        # Lemmatisation\n",
        "        lemmatized = lemmatizer.lemmatize(stemmed, get_wordnet_pos(tag))\n",
        "        return lemmatized\n",
        "    except Exception as e:\n",
        "        # Afficher le mot problématique et son erreur\n",
        "        print(f\"Erreur avec le mot : '{token}' - Exception : {e}\")\n",
        "        raise e  # Propager l'exception pour un traitement éventuel\n",
        "\n",
        "\n",
        "\n",
        "#Fonction qui ajoute dans le dataSet un colonne contenant le texte traité\n",
        "def process_text_column(text):\n",
        "\n",
        "    # Tokenisation et traitement\n",
        "    tokens = word_tokenize(text)\n",
        "    tagged_tokens = pos_tag(tokens)\n",
        "    processed_tokens = [refine_stem_lemmatize(token, tag) for token, tag in tagged_tokens]\n",
        "    return \" \".join(processed_tokens)\n",
        "\n",
        "\n",
        "# Créer une colonne vide pour stocker les textes transformés\n",
        "dataPrepared['processed_text'] = \"\"\n",
        "\n",
        "# Boucle for avec iterrows\n",
        "for index, row in dataPrepared.iterrows():\n",
        "    text = row['text']  # Récupérer le texte original\n",
        "\n",
        "    if pd.notnull(text) and text.strip() != \"\":  # Vérifier que le texte est valide\n",
        "        try:\n",
        "            # Appliquer la fonction process_text_column\n",
        "            dataPrepared.at[index, 'processed_text'] = process_text_column(text)\n",
        "        except Exception as e:\n",
        "            print(f\"Erreur à l'index {index} avec le texte : {text}\")\n",
        "            print(f\"Exception : {e}\")\n",
        "            dataPrepared.at[index, 'processed_text'] = \"\"  # Insérer une chaîne vide en cas d'erreur\n",
        "    else:\n",
        "        dataPrepared.at[index, 'processed_text'] = \"\"  # Gérer les textes nuls ou vides\n"
      ]
    },
    {
      "cell_type": "markdown",
      "metadata": {
        "id": "3seOYvB2IMPa"
      },
      "source": [
        "On teste notre fonction de traitement final :"
      ]
    },
    {
      "cell_type": "code",
      "execution_count": 29,
      "metadata": {
        "colab": {
          "base_uri": "https://localhost:8080/"
        },
        "id": "aEmTMzwCHsdK",
        "outputId": "cd05dd14-99fc-4ea2-e7e6-9f1dd063c11a"
      },
      "outputs": [
        {
          "output_type": "stream",
          "name": "stdout",
          "text": [
            "racinetisation puis lemmatization : \n",
            "The runner be run faster than the dog unhappiness displacement inflexibility irresponsible kind impossible\n",
            "\n",
            "\n",
            "racinetisation : \n",
            "the runner were run faster than the dog unhappi displac inflex irrespons kind imposs\n",
            "\n",
            "\n",
            "lemmatization : \n",
            "The runner be run faster than the dog unhappiness displacement inflexibility irresponsible kindness impossible\n"
          ]
        }
      ],
      "source": [
        "text = \"The runners were running faster than the dogs unhappiness displacement inflexibility irresponsible kindness impossible\"\n",
        "tokens = word_tokenize(text)\n",
        "tagged_tokens = pos_tag(tokens)\n",
        "stemmed_then_lemmatized = [refine_stem_lemmatize(token, tag) for token, tag in tagged_tokens]\n",
        "print(\"racinetisation puis lemmatization : \")\n",
        "print(\" \".join(stemmed_then_lemmatized))\n",
        "print(\"\\n\")\n",
        "\n",
        "stemmed_tokens = [stemmer.stem(token) for token in tokens]\n",
        "lemmatized = [lemmatizer.lemmatize(token, get_wordnet_pos(tag)) for token, tag in tagged_tokens]\n",
        "print(\"racinetisation : \")\n",
        "print(\" \".join(stemmed_tokens))\n",
        "print(\"\\n\")\n",
        "print(\"lemmatization : \")\n",
        "print(\" \".join(lemmatized))"
      ]
    },
    {
      "cell_type": "markdown",
      "metadata": {
        "id": "QwixW1mZJ92-"
      },
      "source": [
        "On remplace dans notre dataSet la colonne processed_text contenant le texte filtré et traité par text afin d'obtenir qu'un seul attribut :"
      ]
    },
    {
      "cell_type": "code",
      "execution_count": 30,
      "metadata": {
        "colab": {
          "base_uri": "https://localhost:8080/",
          "height": 417
        },
        "id": "IQfYPaQBJ9Rc",
        "outputId": "b6436862-fbf0-4922-fdc0-218f7d7795c5"
      },
      "outputs": [
        {
          "output_type": "display_data",
          "data": {
            "text/plain": [
              "   Unnamed: 0            tweet_id  \\\n",
              "0           0  316669998137483264   \n",
              "1           1  319090866545385472   \n",
              "2           2  322030931022065664   \n",
              "3           3  322694830620807168   \n",
              "4           4  328524426658328576   \n",
              "\n",
              "                                                text  science_related  \\\n",
              "0  knee bite sore guess sign recent treadmiling work                0   \n",
              "1  mcdonalds breakfast stop gym basketbalflexed_b...                0   \n",
              "2  gynecologist cancer experience explain danger ...                1   \n",
              "3      couchlock high lead sleep couch get stop shit                1   \n",
              "4  daily routine help prevent problem bipolar dis...                1   \n",
              "\n",
              "   scientific_claim  scientific_reference  scientific_context  \n",
              "0               0.0                   0.0                 0.0  \n",
              "1               0.0                   0.0                 0.0  \n",
              "2               1.0                   0.0                 0.0  \n",
              "3               1.0                   0.0                 0.0  \n",
              "4               1.0                   0.0                 0.0  "
            ],
            "text/html": [
              "\n",
              "  <div id=\"df-9945ed8b-093e-4df1-94b6-063a027a4196\" class=\"colab-df-container\">\n",
              "    <div>\n",
              "<style scoped>\n",
              "    .dataframe tbody tr th:only-of-type {\n",
              "        vertical-align: middle;\n",
              "    }\n",
              "\n",
              "    .dataframe tbody tr th {\n",
              "        vertical-align: top;\n",
              "    }\n",
              "\n",
              "    .dataframe thead th {\n",
              "        text-align: right;\n",
              "    }\n",
              "</style>\n",
              "<table border=\"1\" class=\"dataframe\">\n",
              "  <thead>\n",
              "    <tr style=\"text-align: right;\">\n",
              "      <th></th>\n",
              "      <th>Unnamed: 0</th>\n",
              "      <th>tweet_id</th>\n",
              "      <th>text</th>\n",
              "      <th>science_related</th>\n",
              "      <th>scientific_claim</th>\n",
              "      <th>scientific_reference</th>\n",
              "      <th>scientific_context</th>\n",
              "    </tr>\n",
              "  </thead>\n",
              "  <tbody>\n",
              "    <tr>\n",
              "      <th>0</th>\n",
              "      <td>0</td>\n",
              "      <td>316669998137483264</td>\n",
              "      <td>knee bite sore guess sign recent treadmiling work</td>\n",
              "      <td>0</td>\n",
              "      <td>0.0</td>\n",
              "      <td>0.0</td>\n",
              "      <td>0.0</td>\n",
              "    </tr>\n",
              "    <tr>\n",
              "      <th>1</th>\n",
              "      <td>1</td>\n",
              "      <td>319090866545385472</td>\n",
              "      <td>mcdonalds breakfast stop gym basketbalflexed_b...</td>\n",
              "      <td>0</td>\n",
              "      <td>0.0</td>\n",
              "      <td>0.0</td>\n",
              "      <td>0.0</td>\n",
              "    </tr>\n",
              "    <tr>\n",
              "      <th>2</th>\n",
              "      <td>2</td>\n",
              "      <td>322030931022065664</td>\n",
              "      <td>gynecologist cancer experience explain danger ...</td>\n",
              "      <td>1</td>\n",
              "      <td>1.0</td>\n",
              "      <td>0.0</td>\n",
              "      <td>0.0</td>\n",
              "    </tr>\n",
              "    <tr>\n",
              "      <th>3</th>\n",
              "      <td>3</td>\n",
              "      <td>322694830620807168</td>\n",
              "      <td>couchlock high lead sleep couch get stop shit</td>\n",
              "      <td>1</td>\n",
              "      <td>1.0</td>\n",
              "      <td>0.0</td>\n",
              "      <td>0.0</td>\n",
              "    </tr>\n",
              "    <tr>\n",
              "      <th>4</th>\n",
              "      <td>4</td>\n",
              "      <td>328524426658328576</td>\n",
              "      <td>daily routine help prevent problem bipolar dis...</td>\n",
              "      <td>1</td>\n",
              "      <td>1.0</td>\n",
              "      <td>0.0</td>\n",
              "      <td>0.0</td>\n",
              "    </tr>\n",
              "  </tbody>\n",
              "</table>\n",
              "</div>\n",
              "    <div class=\"colab-df-buttons\">\n",
              "\n",
              "  <div class=\"colab-df-container\">\n",
              "    <button class=\"colab-df-convert\" onclick=\"convertToInteractive('df-9945ed8b-093e-4df1-94b6-063a027a4196')\"\n",
              "            title=\"Convert this dataframe to an interactive table.\"\n",
              "            style=\"display:none;\">\n",
              "\n",
              "  <svg xmlns=\"http://www.w3.org/2000/svg\" height=\"24px\" viewBox=\"0 -960 960 960\">\n",
              "    <path d=\"M120-120v-720h720v720H120Zm60-500h600v-160H180v160Zm220 220h160v-160H400v160Zm0 220h160v-160H400v160ZM180-400h160v-160H180v160Zm440 0h160v-160H620v160ZM180-180h160v-160H180v160Zm440 0h160v-160H620v160Z\"/>\n",
              "  </svg>\n",
              "    </button>\n",
              "\n",
              "  <style>\n",
              "    .colab-df-container {\n",
              "      display:flex;\n",
              "      gap: 12px;\n",
              "    }\n",
              "\n",
              "    .colab-df-convert {\n",
              "      background-color: #E8F0FE;\n",
              "      border: none;\n",
              "      border-radius: 50%;\n",
              "      cursor: pointer;\n",
              "      display: none;\n",
              "      fill: #1967D2;\n",
              "      height: 32px;\n",
              "      padding: 0 0 0 0;\n",
              "      width: 32px;\n",
              "    }\n",
              "\n",
              "    .colab-df-convert:hover {\n",
              "      background-color: #E2EBFA;\n",
              "      box-shadow: 0px 1px 2px rgba(60, 64, 67, 0.3), 0px 1px 3px 1px rgba(60, 64, 67, 0.15);\n",
              "      fill: #174EA6;\n",
              "    }\n",
              "\n",
              "    .colab-df-buttons div {\n",
              "      margin-bottom: 4px;\n",
              "    }\n",
              "\n",
              "    [theme=dark] .colab-df-convert {\n",
              "      background-color: #3B4455;\n",
              "      fill: #D2E3FC;\n",
              "    }\n",
              "\n",
              "    [theme=dark] .colab-df-convert:hover {\n",
              "      background-color: #434B5C;\n",
              "      box-shadow: 0px 1px 3px 1px rgba(0, 0, 0, 0.15);\n",
              "      filter: drop-shadow(0px 1px 2px rgba(0, 0, 0, 0.3));\n",
              "      fill: #FFFFFF;\n",
              "    }\n",
              "  </style>\n",
              "\n",
              "    <script>\n",
              "      const buttonEl =\n",
              "        document.querySelector('#df-9945ed8b-093e-4df1-94b6-063a027a4196 button.colab-df-convert');\n",
              "      buttonEl.style.display =\n",
              "        google.colab.kernel.accessAllowed ? 'block' : 'none';\n",
              "\n",
              "      async function convertToInteractive(key) {\n",
              "        const element = document.querySelector('#df-9945ed8b-093e-4df1-94b6-063a027a4196');\n",
              "        const dataTable =\n",
              "          await google.colab.kernel.invokeFunction('convertToInteractive',\n",
              "                                                    [key], {});\n",
              "        if (!dataTable) return;\n",
              "\n",
              "        const docLinkHtml = 'Like what you see? Visit the ' +\n",
              "          '<a target=\"_blank\" href=https://colab.research.google.com/notebooks/data_table.ipynb>data table notebook</a>'\n",
              "          + ' to learn more about interactive tables.';\n",
              "        element.innerHTML = '';\n",
              "        dataTable['output_type'] = 'display_data';\n",
              "        await google.colab.output.renderOutput(dataTable, element);\n",
              "        const docLink = document.createElement('div');\n",
              "        docLink.innerHTML = docLinkHtml;\n",
              "        element.appendChild(docLink);\n",
              "      }\n",
              "    </script>\n",
              "  </div>\n",
              "\n",
              "\n",
              "<div id=\"df-c3dc1203-bf15-425a-93f9-f39f2c6d2f86\">\n",
              "  <button class=\"colab-df-quickchart\" onclick=\"quickchart('df-c3dc1203-bf15-425a-93f9-f39f2c6d2f86')\"\n",
              "            title=\"Suggest charts\"\n",
              "            style=\"display:none;\">\n",
              "\n",
              "<svg xmlns=\"http://www.w3.org/2000/svg\" height=\"24px\"viewBox=\"0 0 24 24\"\n",
              "     width=\"24px\">\n",
              "    <g>\n",
              "        <path d=\"M19 3H5c-1.1 0-2 .9-2 2v14c0 1.1.9 2 2 2h14c1.1 0 2-.9 2-2V5c0-1.1-.9-2-2-2zM9 17H7v-7h2v7zm4 0h-2V7h2v10zm4 0h-2v-4h2v4z\"/>\n",
              "    </g>\n",
              "</svg>\n",
              "  </button>\n",
              "\n",
              "<style>\n",
              "  .colab-df-quickchart {\n",
              "      --bg-color: #E8F0FE;\n",
              "      --fill-color: #1967D2;\n",
              "      --hover-bg-color: #E2EBFA;\n",
              "      --hover-fill-color: #174EA6;\n",
              "      --disabled-fill-color: #AAA;\n",
              "      --disabled-bg-color: #DDD;\n",
              "  }\n",
              "\n",
              "  [theme=dark] .colab-df-quickchart {\n",
              "      --bg-color: #3B4455;\n",
              "      --fill-color: #D2E3FC;\n",
              "      --hover-bg-color: #434B5C;\n",
              "      --hover-fill-color: #FFFFFF;\n",
              "      --disabled-bg-color: #3B4455;\n",
              "      --disabled-fill-color: #666;\n",
              "  }\n",
              "\n",
              "  .colab-df-quickchart {\n",
              "    background-color: var(--bg-color);\n",
              "    border: none;\n",
              "    border-radius: 50%;\n",
              "    cursor: pointer;\n",
              "    display: none;\n",
              "    fill: var(--fill-color);\n",
              "    height: 32px;\n",
              "    padding: 0;\n",
              "    width: 32px;\n",
              "  }\n",
              "\n",
              "  .colab-df-quickchart:hover {\n",
              "    background-color: var(--hover-bg-color);\n",
              "    box-shadow: 0 1px 2px rgba(60, 64, 67, 0.3), 0 1px 3px 1px rgba(60, 64, 67, 0.15);\n",
              "    fill: var(--button-hover-fill-color);\n",
              "  }\n",
              "\n",
              "  .colab-df-quickchart-complete:disabled,\n",
              "  .colab-df-quickchart-complete:disabled:hover {\n",
              "    background-color: var(--disabled-bg-color);\n",
              "    fill: var(--disabled-fill-color);\n",
              "    box-shadow: none;\n",
              "  }\n",
              "\n",
              "  .colab-df-spinner {\n",
              "    border: 2px solid var(--fill-color);\n",
              "    border-color: transparent;\n",
              "    border-bottom-color: var(--fill-color);\n",
              "    animation:\n",
              "      spin 1s steps(1) infinite;\n",
              "  }\n",
              "\n",
              "  @keyframes spin {\n",
              "    0% {\n",
              "      border-color: transparent;\n",
              "      border-bottom-color: var(--fill-color);\n",
              "      border-left-color: var(--fill-color);\n",
              "    }\n",
              "    20% {\n",
              "      border-color: transparent;\n",
              "      border-left-color: var(--fill-color);\n",
              "      border-top-color: var(--fill-color);\n",
              "    }\n",
              "    30% {\n",
              "      border-color: transparent;\n",
              "      border-left-color: var(--fill-color);\n",
              "      border-top-color: var(--fill-color);\n",
              "      border-right-color: var(--fill-color);\n",
              "    }\n",
              "    40% {\n",
              "      border-color: transparent;\n",
              "      border-right-color: var(--fill-color);\n",
              "      border-top-color: var(--fill-color);\n",
              "    }\n",
              "    60% {\n",
              "      border-color: transparent;\n",
              "      border-right-color: var(--fill-color);\n",
              "    }\n",
              "    80% {\n",
              "      border-color: transparent;\n",
              "      border-right-color: var(--fill-color);\n",
              "      border-bottom-color: var(--fill-color);\n",
              "    }\n",
              "    90% {\n",
              "      border-color: transparent;\n",
              "      border-bottom-color: var(--fill-color);\n",
              "    }\n",
              "  }\n",
              "</style>\n",
              "\n",
              "  <script>\n",
              "    async function quickchart(key) {\n",
              "      const quickchartButtonEl =\n",
              "        document.querySelector('#' + key + ' button');\n",
              "      quickchartButtonEl.disabled = true;  // To prevent multiple clicks.\n",
              "      quickchartButtonEl.classList.add('colab-df-spinner');\n",
              "      try {\n",
              "        const charts = await google.colab.kernel.invokeFunction(\n",
              "            'suggestCharts', [key], {});\n",
              "      } catch (error) {\n",
              "        console.error('Error during call to suggestCharts:', error);\n",
              "      }\n",
              "      quickchartButtonEl.classList.remove('colab-df-spinner');\n",
              "      quickchartButtonEl.classList.add('colab-df-quickchart-complete');\n",
              "    }\n",
              "    (() => {\n",
              "      let quickchartButtonEl =\n",
              "        document.querySelector('#df-c3dc1203-bf15-425a-93f9-f39f2c6d2f86 button');\n",
              "      quickchartButtonEl.style.display =\n",
              "        google.colab.kernel.accessAllowed ? 'block' : 'none';\n",
              "    })();\n",
              "  </script>\n",
              "</div>\n",
              "\n",
              "    </div>\n",
              "  </div>\n"
            ],
            "application/vnd.google.colaboratory.intrinsic+json": {
              "type": "dataframe",
              "summary": "{\n  \"name\": \"display(dataPrepared\",\n  \"rows\": 5,\n  \"fields\": [\n    {\n      \"column\": \"Unnamed: 0\",\n      \"properties\": {\n        \"dtype\": \"number\",\n        \"std\": 1,\n        \"min\": 0,\n        \"max\": 4,\n        \"num_unique_values\": 5,\n        \"samples\": [\n          1,\n          4,\n          2\n        ],\n        \"semantic_type\": \"\",\n        \"description\": \"\"\n      }\n    },\n    {\n      \"column\": \"tweet_id\",\n      \"properties\": {\n        \"dtype\": \"number\",\n        \"std\": 4464534231327270,\n        \"min\": 316669998137483264,\n        \"max\": 328524426658328576,\n        \"num_unique_values\": 5,\n        \"samples\": [\n          319090866545385472,\n          328524426658328576,\n          322030931022065664\n        ],\n        \"semantic_type\": \"\",\n        \"description\": \"\"\n      }\n    },\n    {\n      \"column\": \"text\",\n      \"properties\": {\n        \"dtype\": \"string\",\n        \"num_unique_values\": 5,\n        \"samples\": [\n          \"mcdonalds breakfast stop gym basketbalflexed_biceps\",\n          \"daily routine help prevent problem bipolar disorder\",\n          \"gynecologist cancer experience explain danger transvaginal douche fluoride toxin dioxin @ HASHTAG\"\n        ],\n        \"semantic_type\": \"\",\n        \"description\": \"\"\n      }\n    },\n    {\n      \"column\": \"science_related\",\n      \"properties\": {\n        \"dtype\": \"number\",\n        \"std\": 0,\n        \"min\": 0,\n        \"max\": 1,\n        \"num_unique_values\": 2,\n        \"samples\": [\n          1,\n          0\n        ],\n        \"semantic_type\": \"\",\n        \"description\": \"\"\n      }\n    },\n    {\n      \"column\": \"scientific_claim\",\n      \"properties\": {\n        \"dtype\": \"number\",\n        \"std\": 0.5477225575051662,\n        \"min\": 0.0,\n        \"max\": 1.0,\n        \"num_unique_values\": 2,\n        \"samples\": [\n          1.0,\n          0.0\n        ],\n        \"semantic_type\": \"\",\n        \"description\": \"\"\n      }\n    },\n    {\n      \"column\": \"scientific_reference\",\n      \"properties\": {\n        \"dtype\": \"number\",\n        \"std\": 0.0,\n        \"min\": 0.0,\n        \"max\": 0.0,\n        \"num_unique_values\": 1,\n        \"samples\": [\n          0.0\n        ],\n        \"semantic_type\": \"\",\n        \"description\": \"\"\n      }\n    },\n    {\n      \"column\": \"scientific_context\",\n      \"properties\": {\n        \"dtype\": \"number\",\n        \"std\": 0.0,\n        \"min\": 0.0,\n        \"max\": 0.0,\n        \"num_unique_values\": 1,\n        \"samples\": [\n          0.0\n        ],\n        \"semantic_type\": \"\",\n        \"description\": \"\"\n      }\n    }\n  ]\n}"
            }
          },
          "metadata": {}
        }
      ],
      "source": [
        "#Ajout de l'attribut processed_text sur chaque ligne de notre dataSet\n",
        "dataPrepared['text'] = dataPrepared['processed_text']\n",
        "#Suppression de l'attribut processed_text\n",
        "dataPrepared = dataPrepared.drop(columns=['processed_text'])\n",
        "\n",
        "# Sauvegarde des données dans un CSV\n",
        "dataPrepared.to_csv('dataSet/dataPrepared.csv', index=False)\n",
        "\n",
        "#Affichage des 5 premières lignes\n",
        "display(dataPrepared.head())\n"
      ]
    },
    {
      "cell_type": "markdown",
      "metadata": {
        "id": "gDe2QoItXvdm"
      },
      "source": [
        "## **Vectorisation via TF-IDF**"
      ]
    },
    {
      "cell_type": "markdown",
      "metadata": {
        "id": "nHWh1iOwYCtC"
      },
      "source": [
        "Dans cette partie, on souhaite continuer notre travail visant à préparer nos données pour les envoyer aux algortihme d'apprentisage automatique. Pour cela, on va effectuer une vectorisation via la méthode TF-IDF.\n",
        "\n",
        "<br>\n",
        "\n",
        "Le principe de la vectorisation est de convertir des données textuelles en une représentation numériques. Cela va permettre aux algorithmes d'apprentissage automatique de comprendre et de traiter le langage humain à partir de nos données préparées.\n",
        "\n",
        "<br>\n",
        "\n",
        "Dans notre cas, on a décidé d'utiliser les n-grammes (séquence de n mot répétées), cela va nous permettre de récupérer les relations entre les mots et ainsi détecter les mots qui pourrait potentiellement nous conduire vers une fake news ou nous indiquer les mots démontrant qu'un tweet est scientifique.\n"
      ]
    },
    {
      "cell_type": "code",
      "execution_count": 31,
      "metadata": {
        "colab": {
          "base_uri": "https://localhost:8080/",
          "height": 444
        },
        "id": "XdHKcvYfyUwr",
        "outputId": "e667887d-21e3-447a-b2db-266cec7f0da7"
      },
      "outputs": [
        {
          "output_type": "display_data",
          "data": {
            "text/plain": [
              "      abuse  account  act  action  activity    actual  address  affect  again  \\\n",
              "0       0.0      0.0  0.0     0.0       0.0  0.000000      0.0     0.0    0.0   \n",
              "1       0.0      0.0  0.0     0.0       0.0  0.000000      0.0     0.0    0.0   \n",
              "2       0.0      0.0  0.0     0.0       0.0  0.000000      0.0     0.0    0.0   \n",
              "3       0.0      0.0  0.0     0.0       0.0  0.000000      0.0     0.0    0.0   \n",
              "4       0.0      0.0  0.0     0.0       0.0  0.000000      0.0     0.0    0.0   \n",
              "...     ...      ...  ...     ...       ...       ...      ...     ...    ...   \n",
              "1134    0.0      0.0  0.0     0.0       0.0  0.565774      0.0     0.0    0.0   \n",
              "1135    0.0      0.0  0.0     0.0       0.0  0.000000      0.0     0.0    0.0   \n",
              "1136    0.0      0.0  0.0     0.0       0.0  0.000000      1.0     0.0    0.0   \n",
              "1137    0.0      0.0  0.0     0.0       0.0  0.000000      0.0     0.0    0.0   \n",
              "1138    0.0      0.0  0.0     0.0       0.0  0.000000      0.0     0.0    0.0   \n",
              "\n",
              "      age  ...  world  would  write  wrong  year  yes  yet  york  you  \\\n",
              "0     0.0  ...    0.0    0.0    0.0    0.0   0.0  0.0  0.0   0.0  0.0   \n",
              "1     0.0  ...    0.0    0.0    0.0    0.0   0.0  0.0  0.0   0.0  0.0   \n",
              "2     0.0  ...    0.0    0.0    0.0    0.0   0.0  0.0  0.0   0.0  0.0   \n",
              "3     0.0  ...    0.0    0.0    0.0    0.0   0.0  0.0  0.0   0.0  0.0   \n",
              "4     0.0  ...    0.0    0.0    0.0    0.0   0.0  0.0  0.0   0.0  0.0   \n",
              "...   ...  ...    ...    ...    ...    ...   ...  ...  ...   ...  ...   \n",
              "1134  0.0  ...    0.0    0.0    0.0    0.0   0.0  0.0  0.0   0.0  0.0   \n",
              "1135  0.0  ...    0.0    0.0    0.0    0.0   0.0  0.0  0.0   0.0  0.0   \n",
              "1136  0.0  ...    0.0    0.0    0.0    0.0   0.0  0.0  0.0   0.0  0.0   \n",
              "1137  0.0  ...    0.0    0.0    0.0    0.0   0.0  0.0  0.0   0.0  0.0   \n",
              "1138  0.0  ...    0.0    0.0    0.0    0.0   0.0  0.0  0.0   0.0  0.0   \n",
              "\n",
              "          yous  \n",
              "0     0.000000  \n",
              "1     0.000000  \n",
              "2     0.000000  \n",
              "3     0.000000  \n",
              "4     0.000000  \n",
              "...        ...  \n",
              "1134  0.460315  \n",
              "1135  0.000000  \n",
              "1136  0.000000  \n",
              "1137  0.000000  \n",
              "1138  0.000000  \n",
              "\n",
              "[1139 rows x 607 columns]"
            ],
            "text/html": [
              "\n",
              "  <div id=\"df-266e6851-41db-42bc-aca2-6d847a50676a\" class=\"colab-df-container\">\n",
              "    <div>\n",
              "<style scoped>\n",
              "    .dataframe tbody tr th:only-of-type {\n",
              "        vertical-align: middle;\n",
              "    }\n",
              "\n",
              "    .dataframe tbody tr th {\n",
              "        vertical-align: top;\n",
              "    }\n",
              "\n",
              "    .dataframe thead th {\n",
              "        text-align: right;\n",
              "    }\n",
              "</style>\n",
              "<table border=\"1\" class=\"dataframe\">\n",
              "  <thead>\n",
              "    <tr style=\"text-align: right;\">\n",
              "      <th></th>\n",
              "      <th>abuse</th>\n",
              "      <th>account</th>\n",
              "      <th>act</th>\n",
              "      <th>action</th>\n",
              "      <th>activity</th>\n",
              "      <th>actual</th>\n",
              "      <th>address</th>\n",
              "      <th>affect</th>\n",
              "      <th>again</th>\n",
              "      <th>age</th>\n",
              "      <th>...</th>\n",
              "      <th>world</th>\n",
              "      <th>would</th>\n",
              "      <th>write</th>\n",
              "      <th>wrong</th>\n",
              "      <th>year</th>\n",
              "      <th>yes</th>\n",
              "      <th>yet</th>\n",
              "      <th>york</th>\n",
              "      <th>you</th>\n",
              "      <th>yous</th>\n",
              "    </tr>\n",
              "  </thead>\n",
              "  <tbody>\n",
              "    <tr>\n",
              "      <th>0</th>\n",
              "      <td>0.0</td>\n",
              "      <td>0.0</td>\n",
              "      <td>0.0</td>\n",
              "      <td>0.0</td>\n",
              "      <td>0.0</td>\n",
              "      <td>0.000000</td>\n",
              "      <td>0.0</td>\n",
              "      <td>0.0</td>\n",
              "      <td>0.0</td>\n",
              "      <td>0.0</td>\n",
              "      <td>...</td>\n",
              "      <td>0.0</td>\n",
              "      <td>0.0</td>\n",
              "      <td>0.0</td>\n",
              "      <td>0.0</td>\n",
              "      <td>0.0</td>\n",
              "      <td>0.0</td>\n",
              "      <td>0.0</td>\n",
              "      <td>0.0</td>\n",
              "      <td>0.0</td>\n",
              "      <td>0.000000</td>\n",
              "    </tr>\n",
              "    <tr>\n",
              "      <th>1</th>\n",
              "      <td>0.0</td>\n",
              "      <td>0.0</td>\n",
              "      <td>0.0</td>\n",
              "      <td>0.0</td>\n",
              "      <td>0.0</td>\n",
              "      <td>0.000000</td>\n",
              "      <td>0.0</td>\n",
              "      <td>0.0</td>\n",
              "      <td>0.0</td>\n",
              "      <td>0.0</td>\n",
              "      <td>...</td>\n",
              "      <td>0.0</td>\n",
              "      <td>0.0</td>\n",
              "      <td>0.0</td>\n",
              "      <td>0.0</td>\n",
              "      <td>0.0</td>\n",
              "      <td>0.0</td>\n",
              "      <td>0.0</td>\n",
              "      <td>0.0</td>\n",
              "      <td>0.0</td>\n",
              "      <td>0.000000</td>\n",
              "    </tr>\n",
              "    <tr>\n",
              "      <th>2</th>\n",
              "      <td>0.0</td>\n",
              "      <td>0.0</td>\n",
              "      <td>0.0</td>\n",
              "      <td>0.0</td>\n",
              "      <td>0.0</td>\n",
              "      <td>0.000000</td>\n",
              "      <td>0.0</td>\n",
              "      <td>0.0</td>\n",
              "      <td>0.0</td>\n",
              "      <td>0.0</td>\n",
              "      <td>...</td>\n",
              "      <td>0.0</td>\n",
              "      <td>0.0</td>\n",
              "      <td>0.0</td>\n",
              "      <td>0.0</td>\n",
              "      <td>0.0</td>\n",
              "      <td>0.0</td>\n",
              "      <td>0.0</td>\n",
              "      <td>0.0</td>\n",
              "      <td>0.0</td>\n",
              "      <td>0.000000</td>\n",
              "    </tr>\n",
              "    <tr>\n",
              "      <th>3</th>\n",
              "      <td>0.0</td>\n",
              "      <td>0.0</td>\n",
              "      <td>0.0</td>\n",
              "      <td>0.0</td>\n",
              "      <td>0.0</td>\n",
              "      <td>0.000000</td>\n",
              "      <td>0.0</td>\n",
              "      <td>0.0</td>\n",
              "      <td>0.0</td>\n",
              "      <td>0.0</td>\n",
              "      <td>...</td>\n",
              "      <td>0.0</td>\n",
              "      <td>0.0</td>\n",
              "      <td>0.0</td>\n",
              "      <td>0.0</td>\n",
              "      <td>0.0</td>\n",
              "      <td>0.0</td>\n",
              "      <td>0.0</td>\n",
              "      <td>0.0</td>\n",
              "      <td>0.0</td>\n",
              "      <td>0.000000</td>\n",
              "    </tr>\n",
              "    <tr>\n",
              "      <th>4</th>\n",
              "      <td>0.0</td>\n",
              "      <td>0.0</td>\n",
              "      <td>0.0</td>\n",
              "      <td>0.0</td>\n",
              "      <td>0.0</td>\n",
              "      <td>0.000000</td>\n",
              "      <td>0.0</td>\n",
              "      <td>0.0</td>\n",
              "      <td>0.0</td>\n",
              "      <td>0.0</td>\n",
              "      <td>...</td>\n",
              "      <td>0.0</td>\n",
              "      <td>0.0</td>\n",
              "      <td>0.0</td>\n",
              "      <td>0.0</td>\n",
              "      <td>0.0</td>\n",
              "      <td>0.0</td>\n",
              "      <td>0.0</td>\n",
              "      <td>0.0</td>\n",
              "      <td>0.0</td>\n",
              "      <td>0.000000</td>\n",
              "    </tr>\n",
              "    <tr>\n",
              "      <th>...</th>\n",
              "      <td>...</td>\n",
              "      <td>...</td>\n",
              "      <td>...</td>\n",
              "      <td>...</td>\n",
              "      <td>...</td>\n",
              "      <td>...</td>\n",
              "      <td>...</td>\n",
              "      <td>...</td>\n",
              "      <td>...</td>\n",
              "      <td>...</td>\n",
              "      <td>...</td>\n",
              "      <td>...</td>\n",
              "      <td>...</td>\n",
              "      <td>...</td>\n",
              "      <td>...</td>\n",
              "      <td>...</td>\n",
              "      <td>...</td>\n",
              "      <td>...</td>\n",
              "      <td>...</td>\n",
              "      <td>...</td>\n",
              "      <td>...</td>\n",
              "    </tr>\n",
              "    <tr>\n",
              "      <th>1134</th>\n",
              "      <td>0.0</td>\n",
              "      <td>0.0</td>\n",
              "      <td>0.0</td>\n",
              "      <td>0.0</td>\n",
              "      <td>0.0</td>\n",
              "      <td>0.565774</td>\n",
              "      <td>0.0</td>\n",
              "      <td>0.0</td>\n",
              "      <td>0.0</td>\n",
              "      <td>0.0</td>\n",
              "      <td>...</td>\n",
              "      <td>0.0</td>\n",
              "      <td>0.0</td>\n",
              "      <td>0.0</td>\n",
              "      <td>0.0</td>\n",
              "      <td>0.0</td>\n",
              "      <td>0.0</td>\n",
              "      <td>0.0</td>\n",
              "      <td>0.0</td>\n",
              "      <td>0.0</td>\n",
              "      <td>0.460315</td>\n",
              "    </tr>\n",
              "    <tr>\n",
              "      <th>1135</th>\n",
              "      <td>0.0</td>\n",
              "      <td>0.0</td>\n",
              "      <td>0.0</td>\n",
              "      <td>0.0</td>\n",
              "      <td>0.0</td>\n",
              "      <td>0.000000</td>\n",
              "      <td>0.0</td>\n",
              "      <td>0.0</td>\n",
              "      <td>0.0</td>\n",
              "      <td>0.0</td>\n",
              "      <td>...</td>\n",
              "      <td>0.0</td>\n",
              "      <td>0.0</td>\n",
              "      <td>0.0</td>\n",
              "      <td>0.0</td>\n",
              "      <td>0.0</td>\n",
              "      <td>0.0</td>\n",
              "      <td>0.0</td>\n",
              "      <td>0.0</td>\n",
              "      <td>0.0</td>\n",
              "      <td>0.000000</td>\n",
              "    </tr>\n",
              "    <tr>\n",
              "      <th>1136</th>\n",
              "      <td>0.0</td>\n",
              "      <td>0.0</td>\n",
              "      <td>0.0</td>\n",
              "      <td>0.0</td>\n",
              "      <td>0.0</td>\n",
              "      <td>0.000000</td>\n",
              "      <td>1.0</td>\n",
              "      <td>0.0</td>\n",
              "      <td>0.0</td>\n",
              "      <td>0.0</td>\n",
              "      <td>...</td>\n",
              "      <td>0.0</td>\n",
              "      <td>0.0</td>\n",
              "      <td>0.0</td>\n",
              "      <td>0.0</td>\n",
              "      <td>0.0</td>\n",
              "      <td>0.0</td>\n",
              "      <td>0.0</td>\n",
              "      <td>0.0</td>\n",
              "      <td>0.0</td>\n",
              "      <td>0.000000</td>\n",
              "    </tr>\n",
              "    <tr>\n",
              "      <th>1137</th>\n",
              "      <td>0.0</td>\n",
              "      <td>0.0</td>\n",
              "      <td>0.0</td>\n",
              "      <td>0.0</td>\n",
              "      <td>0.0</td>\n",
              "      <td>0.000000</td>\n",
              "      <td>0.0</td>\n",
              "      <td>0.0</td>\n",
              "      <td>0.0</td>\n",
              "      <td>0.0</td>\n",
              "      <td>...</td>\n",
              "      <td>0.0</td>\n",
              "      <td>0.0</td>\n",
              "      <td>0.0</td>\n",
              "      <td>0.0</td>\n",
              "      <td>0.0</td>\n",
              "      <td>0.0</td>\n",
              "      <td>0.0</td>\n",
              "      <td>0.0</td>\n",
              "      <td>0.0</td>\n",
              "      <td>0.000000</td>\n",
              "    </tr>\n",
              "    <tr>\n",
              "      <th>1138</th>\n",
              "      <td>0.0</td>\n",
              "      <td>0.0</td>\n",
              "      <td>0.0</td>\n",
              "      <td>0.0</td>\n",
              "      <td>0.0</td>\n",
              "      <td>0.000000</td>\n",
              "      <td>0.0</td>\n",
              "      <td>0.0</td>\n",
              "      <td>0.0</td>\n",
              "      <td>0.0</td>\n",
              "      <td>...</td>\n",
              "      <td>0.0</td>\n",
              "      <td>0.0</td>\n",
              "      <td>0.0</td>\n",
              "      <td>0.0</td>\n",
              "      <td>0.0</td>\n",
              "      <td>0.0</td>\n",
              "      <td>0.0</td>\n",
              "      <td>0.0</td>\n",
              "      <td>0.0</td>\n",
              "      <td>0.000000</td>\n",
              "    </tr>\n",
              "  </tbody>\n",
              "</table>\n",
              "<p>1139 rows × 607 columns</p>\n",
              "</div>\n",
              "    <div class=\"colab-df-buttons\">\n",
              "\n",
              "  <div class=\"colab-df-container\">\n",
              "    <button class=\"colab-df-convert\" onclick=\"convertToInteractive('df-266e6851-41db-42bc-aca2-6d847a50676a')\"\n",
              "            title=\"Convert this dataframe to an interactive table.\"\n",
              "            style=\"display:none;\">\n",
              "\n",
              "  <svg xmlns=\"http://www.w3.org/2000/svg\" height=\"24px\" viewBox=\"0 -960 960 960\">\n",
              "    <path d=\"M120-120v-720h720v720H120Zm60-500h600v-160H180v160Zm220 220h160v-160H400v160Zm0 220h160v-160H400v160ZM180-400h160v-160H180v160Zm440 0h160v-160H620v160ZM180-180h160v-160H180v160Zm440 0h160v-160H620v160Z\"/>\n",
              "  </svg>\n",
              "    </button>\n",
              "\n",
              "  <style>\n",
              "    .colab-df-container {\n",
              "      display:flex;\n",
              "      gap: 12px;\n",
              "    }\n",
              "\n",
              "    .colab-df-convert {\n",
              "      background-color: #E8F0FE;\n",
              "      border: none;\n",
              "      border-radius: 50%;\n",
              "      cursor: pointer;\n",
              "      display: none;\n",
              "      fill: #1967D2;\n",
              "      height: 32px;\n",
              "      padding: 0 0 0 0;\n",
              "      width: 32px;\n",
              "    }\n",
              "\n",
              "    .colab-df-convert:hover {\n",
              "      background-color: #E2EBFA;\n",
              "      box-shadow: 0px 1px 2px rgba(60, 64, 67, 0.3), 0px 1px 3px 1px rgba(60, 64, 67, 0.15);\n",
              "      fill: #174EA6;\n",
              "    }\n",
              "\n",
              "    .colab-df-buttons div {\n",
              "      margin-bottom: 4px;\n",
              "    }\n",
              "\n",
              "    [theme=dark] .colab-df-convert {\n",
              "      background-color: #3B4455;\n",
              "      fill: #D2E3FC;\n",
              "    }\n",
              "\n",
              "    [theme=dark] .colab-df-convert:hover {\n",
              "      background-color: #434B5C;\n",
              "      box-shadow: 0px 1px 3px 1px rgba(0, 0, 0, 0.15);\n",
              "      filter: drop-shadow(0px 1px 2px rgba(0, 0, 0, 0.3));\n",
              "      fill: #FFFFFF;\n",
              "    }\n",
              "  </style>\n",
              "\n",
              "    <script>\n",
              "      const buttonEl =\n",
              "        document.querySelector('#df-266e6851-41db-42bc-aca2-6d847a50676a button.colab-df-convert');\n",
              "      buttonEl.style.display =\n",
              "        google.colab.kernel.accessAllowed ? 'block' : 'none';\n",
              "\n",
              "      async function convertToInteractive(key) {\n",
              "        const element = document.querySelector('#df-266e6851-41db-42bc-aca2-6d847a50676a');\n",
              "        const dataTable =\n",
              "          await google.colab.kernel.invokeFunction('convertToInteractive',\n",
              "                                                    [key], {});\n",
              "        if (!dataTable) return;\n",
              "\n",
              "        const docLinkHtml = 'Like what you see? Visit the ' +\n",
              "          '<a target=\"_blank\" href=https://colab.research.google.com/notebooks/data_table.ipynb>data table notebook</a>'\n",
              "          + ' to learn more about interactive tables.';\n",
              "        element.innerHTML = '';\n",
              "        dataTable['output_type'] = 'display_data';\n",
              "        await google.colab.output.renderOutput(dataTable, element);\n",
              "        const docLink = document.createElement('div');\n",
              "        docLink.innerHTML = docLinkHtml;\n",
              "        element.appendChild(docLink);\n",
              "      }\n",
              "    </script>\n",
              "  </div>\n",
              "\n",
              "\n",
              "<div id=\"df-51af7216-cbda-4889-b21f-4735078716a6\">\n",
              "  <button class=\"colab-df-quickchart\" onclick=\"quickchart('df-51af7216-cbda-4889-b21f-4735078716a6')\"\n",
              "            title=\"Suggest charts\"\n",
              "            style=\"display:none;\">\n",
              "\n",
              "<svg xmlns=\"http://www.w3.org/2000/svg\" height=\"24px\"viewBox=\"0 0 24 24\"\n",
              "     width=\"24px\">\n",
              "    <g>\n",
              "        <path d=\"M19 3H5c-1.1 0-2 .9-2 2v14c0 1.1.9 2 2 2h14c1.1 0 2-.9 2-2V5c0-1.1-.9-2-2-2zM9 17H7v-7h2v7zm4 0h-2V7h2v10zm4 0h-2v-4h2v4z\"/>\n",
              "    </g>\n",
              "</svg>\n",
              "  </button>\n",
              "\n",
              "<style>\n",
              "  .colab-df-quickchart {\n",
              "      --bg-color: #E8F0FE;\n",
              "      --fill-color: #1967D2;\n",
              "      --hover-bg-color: #E2EBFA;\n",
              "      --hover-fill-color: #174EA6;\n",
              "      --disabled-fill-color: #AAA;\n",
              "      --disabled-bg-color: #DDD;\n",
              "  }\n",
              "\n",
              "  [theme=dark] .colab-df-quickchart {\n",
              "      --bg-color: #3B4455;\n",
              "      --fill-color: #D2E3FC;\n",
              "      --hover-bg-color: #434B5C;\n",
              "      --hover-fill-color: #FFFFFF;\n",
              "      --disabled-bg-color: #3B4455;\n",
              "      --disabled-fill-color: #666;\n",
              "  }\n",
              "\n",
              "  .colab-df-quickchart {\n",
              "    background-color: var(--bg-color);\n",
              "    border: none;\n",
              "    border-radius: 50%;\n",
              "    cursor: pointer;\n",
              "    display: none;\n",
              "    fill: var(--fill-color);\n",
              "    height: 32px;\n",
              "    padding: 0;\n",
              "    width: 32px;\n",
              "  }\n",
              "\n",
              "  .colab-df-quickchart:hover {\n",
              "    background-color: var(--hover-bg-color);\n",
              "    box-shadow: 0 1px 2px rgba(60, 64, 67, 0.3), 0 1px 3px 1px rgba(60, 64, 67, 0.15);\n",
              "    fill: var(--button-hover-fill-color);\n",
              "  }\n",
              "\n",
              "  .colab-df-quickchart-complete:disabled,\n",
              "  .colab-df-quickchart-complete:disabled:hover {\n",
              "    background-color: var(--disabled-bg-color);\n",
              "    fill: var(--disabled-fill-color);\n",
              "    box-shadow: none;\n",
              "  }\n",
              "\n",
              "  .colab-df-spinner {\n",
              "    border: 2px solid var(--fill-color);\n",
              "    border-color: transparent;\n",
              "    border-bottom-color: var(--fill-color);\n",
              "    animation:\n",
              "      spin 1s steps(1) infinite;\n",
              "  }\n",
              "\n",
              "  @keyframes spin {\n",
              "    0% {\n",
              "      border-color: transparent;\n",
              "      border-bottom-color: var(--fill-color);\n",
              "      border-left-color: var(--fill-color);\n",
              "    }\n",
              "    20% {\n",
              "      border-color: transparent;\n",
              "      border-left-color: var(--fill-color);\n",
              "      border-top-color: var(--fill-color);\n",
              "    }\n",
              "    30% {\n",
              "      border-color: transparent;\n",
              "      border-left-color: var(--fill-color);\n",
              "      border-top-color: var(--fill-color);\n",
              "      border-right-color: var(--fill-color);\n",
              "    }\n",
              "    40% {\n",
              "      border-color: transparent;\n",
              "      border-right-color: var(--fill-color);\n",
              "      border-top-color: var(--fill-color);\n",
              "    }\n",
              "    60% {\n",
              "      border-color: transparent;\n",
              "      border-right-color: var(--fill-color);\n",
              "    }\n",
              "    80% {\n",
              "      border-color: transparent;\n",
              "      border-right-color: var(--fill-color);\n",
              "      border-bottom-color: var(--fill-color);\n",
              "    }\n",
              "    90% {\n",
              "      border-color: transparent;\n",
              "      border-bottom-color: var(--fill-color);\n",
              "    }\n",
              "  }\n",
              "</style>\n",
              "\n",
              "  <script>\n",
              "    async function quickchart(key) {\n",
              "      const quickchartButtonEl =\n",
              "        document.querySelector('#' + key + ' button');\n",
              "      quickchartButtonEl.disabled = true;  // To prevent multiple clicks.\n",
              "      quickchartButtonEl.classList.add('colab-df-spinner');\n",
              "      try {\n",
              "        const charts = await google.colab.kernel.invokeFunction(\n",
              "            'suggestCharts', [key], {});\n",
              "      } catch (error) {\n",
              "        console.error('Error during call to suggestCharts:', error);\n",
              "      }\n",
              "      quickchartButtonEl.classList.remove('colab-df-spinner');\n",
              "      quickchartButtonEl.classList.add('colab-df-quickchart-complete');\n",
              "    }\n",
              "    (() => {\n",
              "      let quickchartButtonEl =\n",
              "        document.querySelector('#df-51af7216-cbda-4889-b21f-4735078716a6 button');\n",
              "      quickchartButtonEl.style.display =\n",
              "        google.colab.kernel.accessAllowed ? 'block' : 'none';\n",
              "    })();\n",
              "  </script>\n",
              "</div>\n",
              "\n",
              "  <div id=\"id_3434960d-a8a0-4211-be4d-6d0b74fa2a3d\">\n",
              "    <style>\n",
              "      .colab-df-generate {\n",
              "        background-color: #E8F0FE;\n",
              "        border: none;\n",
              "        border-radius: 50%;\n",
              "        cursor: pointer;\n",
              "        display: none;\n",
              "        fill: #1967D2;\n",
              "        height: 32px;\n",
              "        padding: 0 0 0 0;\n",
              "        width: 32px;\n",
              "      }\n",
              "\n",
              "      .colab-df-generate:hover {\n",
              "        background-color: #E2EBFA;\n",
              "        box-shadow: 0px 1px 2px rgba(60, 64, 67, 0.3), 0px 1px 3px 1px rgba(60, 64, 67, 0.15);\n",
              "        fill: #174EA6;\n",
              "      }\n",
              "\n",
              "      [theme=dark] .colab-df-generate {\n",
              "        background-color: #3B4455;\n",
              "        fill: #D2E3FC;\n",
              "      }\n",
              "\n",
              "      [theme=dark] .colab-df-generate:hover {\n",
              "        background-color: #434B5C;\n",
              "        box-shadow: 0px 1px 3px 1px rgba(0, 0, 0, 0.15);\n",
              "        filter: drop-shadow(0px 1px 2px rgba(0, 0, 0, 0.3));\n",
              "        fill: #FFFFFF;\n",
              "      }\n",
              "    </style>\n",
              "    <button class=\"colab-df-generate\" onclick=\"generateWithVariable('vectorized_df')\"\n",
              "            title=\"Generate code using this dataframe.\"\n",
              "            style=\"display:none;\">\n",
              "\n",
              "  <svg xmlns=\"http://www.w3.org/2000/svg\" height=\"24px\"viewBox=\"0 0 24 24\"\n",
              "       width=\"24px\">\n",
              "    <path d=\"M7,19H8.4L18.45,9,17,7.55,7,17.6ZM5,21V16.75L18.45,3.32a2,2,0,0,1,2.83,0l1.4,1.43a1.91,1.91,0,0,1,.58,1.4,1.91,1.91,0,0,1-.58,1.4L9.25,21ZM18.45,9,17,7.55Zm-12,3A5.31,5.31,0,0,0,4.9,8.1,5.31,5.31,0,0,0,1,6.5,5.31,5.31,0,0,0,4.9,4.9,5.31,5.31,0,0,0,6.5,1,5.31,5.31,0,0,0,8.1,4.9,5.31,5.31,0,0,0,12,6.5,5.46,5.46,0,0,0,6.5,12Z\"/>\n",
              "  </svg>\n",
              "    </button>\n",
              "    <script>\n",
              "      (() => {\n",
              "      const buttonEl =\n",
              "        document.querySelector('#id_3434960d-a8a0-4211-be4d-6d0b74fa2a3d button.colab-df-generate');\n",
              "      buttonEl.style.display =\n",
              "        google.colab.kernel.accessAllowed ? 'block' : 'none';\n",
              "\n",
              "      buttonEl.onclick = () => {\n",
              "        google.colab.notebook.generateWithVariable('vectorized_df');\n",
              "      }\n",
              "      })();\n",
              "    </script>\n",
              "  </div>\n",
              "\n",
              "    </div>\n",
              "  </div>\n"
            ],
            "application/vnd.google.colaboratory.intrinsic+json": {
              "type": "dataframe",
              "variable_name": "vectorized_df"
            }
          },
          "metadata": {}
        }
      ],
      "source": [
        "#recuperation des data préparés\n",
        "dataPrepared = pd.read_csv('dataSet/dataPrepared.csv')\n",
        "\n",
        "# Configuration du vecteur TF-IDF avec des n-grammes\n",
        "vectorizer = TfidfVectorizer(ngram_range=(1, 2), min_df=5, max_df=0.9)\n",
        "\n",
        "# Ajustement TF-IDF\n",
        "vectorizedText = vectorizer.fit_transform(dataPrepared['text'])\n",
        "\n",
        "#\n",
        "scaler = MaxAbsScaler()\n",
        "scaled = scaler.fit_transform(vectorizedText)\n",
        "\n",
        "# Conversion en un DataFrame\n",
        "vectorized_df = pd.DataFrame(data=scaled.toarray(), columns=vectorizer.get_feature_names_out())\n",
        "\n",
        "# Display sample\n",
        "display(vectorized_df)\n",
        "\n"
      ]
    },
    {
      "cell_type": "markdown",
      "metadata": {
        "id": "q4ggR6p163g9"
      },
      "source": [
        "##**Topic Modelling via LDA**\n",
        "\n",
        "<br>\n",
        "\n",
        "Une fois nos données vectorisées et compréhensives pour la machine, nous allons appliquer le principe de *Topic Modelling*.\n",
        "\n",
        "<br>\n",
        "\n",
        "\n",
        "Le topic modelling est une technique d'apprentissage automatique non supervisée qui identifie et extrait des thèmes ou des sujets latents à partir d'un ensemble de documents textuels (dans notre cas notre ensemble de tweet). Le but de cette étape est d'aider notre futur modèle à labelliser ses donénes tout en identifiant les sujets principaux.\n",
        "\n",
        "<br>\n",
        "\n",
        "Dans notre cas, nous utilisons LDA (Latent Dirichlet Allocation), cette technique cherche à découvrir des thématiques cachées (topics) dans un ensemble de documents. On va appliquer le LDA affin d'identifier les topics de chaque tweets et les insérers dans un attributs nommé 'Topic'.\n",
        "\n",
        "<br>\n",
        "\n",
        "Afin d'obtenir des topics pertinent, il faut faire attention à la répartition de ces derniers, si nous avons un topic trop dominant (ex:30%), cela va écraser la représentation des autres topics. On va alors jouer sur le nombre de topics à représenter afin d'obtenir une réparition plus partagées. De plus nous devons faire attention que chaque topic ai du sens. Le but de cette étape est purement statistique."
      ]
    },
    {
      "cell_type": "code",
      "execution_count": 32,
      "metadata": {
        "colab": {
          "base_uri": "https://localhost:8080/",
          "height": 1000
        },
        "id": "Jd8HfqiF8nW1",
        "outputId": "06b3187c-9d7b-4deb-c606-f8701f86ee78"
      },
      "outputs": [
        {
          "output_type": "display_data",
          "data": {
            "text/plain": [
              "'Visualisation des recurrences et de la répartition des topics :'"
            ],
            "application/vnd.google.colaboratory.intrinsic+json": {
              "type": "string"
            }
          },
          "metadata": {}
        },
        {
          "output_type": "display_data",
          "data": {
            "text/plain": [
              "       Représentation (%)  Occurence\n",
              "Topic                               \n",
              "3                0.256365        292\n",
              "0                0.166813        190\n",
              "1                0.150132        171\n",
              "4                0.136084        155\n",
              "2                0.129061        147\n",
              "5                0.082529         94\n",
              "6                0.079017         90"
            ],
            "text/html": [
              "\n",
              "  <div id=\"df-ceda92c3-b530-4a73-ac91-4b012269932c\" class=\"colab-df-container\">\n",
              "    <div>\n",
              "<style scoped>\n",
              "    .dataframe tbody tr th:only-of-type {\n",
              "        vertical-align: middle;\n",
              "    }\n",
              "\n",
              "    .dataframe tbody tr th {\n",
              "        vertical-align: top;\n",
              "    }\n",
              "\n",
              "    .dataframe thead th {\n",
              "        text-align: right;\n",
              "    }\n",
              "</style>\n",
              "<table border=\"1\" class=\"dataframe\">\n",
              "  <thead>\n",
              "    <tr style=\"text-align: right;\">\n",
              "      <th></th>\n",
              "      <th>Représentation (%)</th>\n",
              "      <th>Occurence</th>\n",
              "    </tr>\n",
              "    <tr>\n",
              "      <th>Topic</th>\n",
              "      <th></th>\n",
              "      <th></th>\n",
              "    </tr>\n",
              "  </thead>\n",
              "  <tbody>\n",
              "    <tr>\n",
              "      <th>3</th>\n",
              "      <td>0.256365</td>\n",
              "      <td>292</td>\n",
              "    </tr>\n",
              "    <tr>\n",
              "      <th>0</th>\n",
              "      <td>0.166813</td>\n",
              "      <td>190</td>\n",
              "    </tr>\n",
              "    <tr>\n",
              "      <th>1</th>\n",
              "      <td>0.150132</td>\n",
              "      <td>171</td>\n",
              "    </tr>\n",
              "    <tr>\n",
              "      <th>4</th>\n",
              "      <td>0.136084</td>\n",
              "      <td>155</td>\n",
              "    </tr>\n",
              "    <tr>\n",
              "      <th>2</th>\n",
              "      <td>0.129061</td>\n",
              "      <td>147</td>\n",
              "    </tr>\n",
              "    <tr>\n",
              "      <th>5</th>\n",
              "      <td>0.082529</td>\n",
              "      <td>94</td>\n",
              "    </tr>\n",
              "    <tr>\n",
              "      <th>6</th>\n",
              "      <td>0.079017</td>\n",
              "      <td>90</td>\n",
              "    </tr>\n",
              "  </tbody>\n",
              "</table>\n",
              "</div>\n",
              "    <div class=\"colab-df-buttons\">\n",
              "\n",
              "  <div class=\"colab-df-container\">\n",
              "    <button class=\"colab-df-convert\" onclick=\"convertToInteractive('df-ceda92c3-b530-4a73-ac91-4b012269932c')\"\n",
              "            title=\"Convert this dataframe to an interactive table.\"\n",
              "            style=\"display:none;\">\n",
              "\n",
              "  <svg xmlns=\"http://www.w3.org/2000/svg\" height=\"24px\" viewBox=\"0 -960 960 960\">\n",
              "    <path d=\"M120-120v-720h720v720H120Zm60-500h600v-160H180v160Zm220 220h160v-160H400v160Zm0 220h160v-160H400v160ZM180-400h160v-160H180v160Zm440 0h160v-160H620v160ZM180-180h160v-160H180v160Zm440 0h160v-160H620v160Z\"/>\n",
              "  </svg>\n",
              "    </button>\n",
              "\n",
              "  <style>\n",
              "    .colab-df-container {\n",
              "      display:flex;\n",
              "      gap: 12px;\n",
              "    }\n",
              "\n",
              "    .colab-df-convert {\n",
              "      background-color: #E8F0FE;\n",
              "      border: none;\n",
              "      border-radius: 50%;\n",
              "      cursor: pointer;\n",
              "      display: none;\n",
              "      fill: #1967D2;\n",
              "      height: 32px;\n",
              "      padding: 0 0 0 0;\n",
              "      width: 32px;\n",
              "    }\n",
              "\n",
              "    .colab-df-convert:hover {\n",
              "      background-color: #E2EBFA;\n",
              "      box-shadow: 0px 1px 2px rgba(60, 64, 67, 0.3), 0px 1px 3px 1px rgba(60, 64, 67, 0.15);\n",
              "      fill: #174EA6;\n",
              "    }\n",
              "\n",
              "    .colab-df-buttons div {\n",
              "      margin-bottom: 4px;\n",
              "    }\n",
              "\n",
              "    [theme=dark] .colab-df-convert {\n",
              "      background-color: #3B4455;\n",
              "      fill: #D2E3FC;\n",
              "    }\n",
              "\n",
              "    [theme=dark] .colab-df-convert:hover {\n",
              "      background-color: #434B5C;\n",
              "      box-shadow: 0px 1px 3px 1px rgba(0, 0, 0, 0.15);\n",
              "      filter: drop-shadow(0px 1px 2px rgba(0, 0, 0, 0.3));\n",
              "      fill: #FFFFFF;\n",
              "    }\n",
              "  </style>\n",
              "\n",
              "    <script>\n",
              "      const buttonEl =\n",
              "        document.querySelector('#df-ceda92c3-b530-4a73-ac91-4b012269932c button.colab-df-convert');\n",
              "      buttonEl.style.display =\n",
              "        google.colab.kernel.accessAllowed ? 'block' : 'none';\n",
              "\n",
              "      async function convertToInteractive(key) {\n",
              "        const element = document.querySelector('#df-ceda92c3-b530-4a73-ac91-4b012269932c');\n",
              "        const dataTable =\n",
              "          await google.colab.kernel.invokeFunction('convertToInteractive',\n",
              "                                                    [key], {});\n",
              "        if (!dataTable) return;\n",
              "\n",
              "        const docLinkHtml = 'Like what you see? Visit the ' +\n",
              "          '<a target=\"_blank\" href=https://colab.research.google.com/notebooks/data_table.ipynb>data table notebook</a>'\n",
              "          + ' to learn more about interactive tables.';\n",
              "        element.innerHTML = '';\n",
              "        dataTable['output_type'] = 'display_data';\n",
              "        await google.colab.output.renderOutput(dataTable, element);\n",
              "        const docLink = document.createElement('div');\n",
              "        docLink.innerHTML = docLinkHtml;\n",
              "        element.appendChild(docLink);\n",
              "      }\n",
              "    </script>\n",
              "  </div>\n",
              "\n",
              "\n",
              "<div id=\"df-8307575a-4a5a-4a3f-8790-78b85fe19402\">\n",
              "  <button class=\"colab-df-quickchart\" onclick=\"quickchart('df-8307575a-4a5a-4a3f-8790-78b85fe19402')\"\n",
              "            title=\"Suggest charts\"\n",
              "            style=\"display:none;\">\n",
              "\n",
              "<svg xmlns=\"http://www.w3.org/2000/svg\" height=\"24px\"viewBox=\"0 0 24 24\"\n",
              "     width=\"24px\">\n",
              "    <g>\n",
              "        <path d=\"M19 3H5c-1.1 0-2 .9-2 2v14c0 1.1.9 2 2 2h14c1.1 0 2-.9 2-2V5c0-1.1-.9-2-2-2zM9 17H7v-7h2v7zm4 0h-2V7h2v10zm4 0h-2v-4h2v4z\"/>\n",
              "    </g>\n",
              "</svg>\n",
              "  </button>\n",
              "\n",
              "<style>\n",
              "  .colab-df-quickchart {\n",
              "      --bg-color: #E8F0FE;\n",
              "      --fill-color: #1967D2;\n",
              "      --hover-bg-color: #E2EBFA;\n",
              "      --hover-fill-color: #174EA6;\n",
              "      --disabled-fill-color: #AAA;\n",
              "      --disabled-bg-color: #DDD;\n",
              "  }\n",
              "\n",
              "  [theme=dark] .colab-df-quickchart {\n",
              "      --bg-color: #3B4455;\n",
              "      --fill-color: #D2E3FC;\n",
              "      --hover-bg-color: #434B5C;\n",
              "      --hover-fill-color: #FFFFFF;\n",
              "      --disabled-bg-color: #3B4455;\n",
              "      --disabled-fill-color: #666;\n",
              "  }\n",
              "\n",
              "  .colab-df-quickchart {\n",
              "    background-color: var(--bg-color);\n",
              "    border: none;\n",
              "    border-radius: 50%;\n",
              "    cursor: pointer;\n",
              "    display: none;\n",
              "    fill: var(--fill-color);\n",
              "    height: 32px;\n",
              "    padding: 0;\n",
              "    width: 32px;\n",
              "  }\n",
              "\n",
              "  .colab-df-quickchart:hover {\n",
              "    background-color: var(--hover-bg-color);\n",
              "    box-shadow: 0 1px 2px rgba(60, 64, 67, 0.3), 0 1px 3px 1px rgba(60, 64, 67, 0.15);\n",
              "    fill: var(--button-hover-fill-color);\n",
              "  }\n",
              "\n",
              "  .colab-df-quickchart-complete:disabled,\n",
              "  .colab-df-quickchart-complete:disabled:hover {\n",
              "    background-color: var(--disabled-bg-color);\n",
              "    fill: var(--disabled-fill-color);\n",
              "    box-shadow: none;\n",
              "  }\n",
              "\n",
              "  .colab-df-spinner {\n",
              "    border: 2px solid var(--fill-color);\n",
              "    border-color: transparent;\n",
              "    border-bottom-color: var(--fill-color);\n",
              "    animation:\n",
              "      spin 1s steps(1) infinite;\n",
              "  }\n",
              "\n",
              "  @keyframes spin {\n",
              "    0% {\n",
              "      border-color: transparent;\n",
              "      border-bottom-color: var(--fill-color);\n",
              "      border-left-color: var(--fill-color);\n",
              "    }\n",
              "    20% {\n",
              "      border-color: transparent;\n",
              "      border-left-color: var(--fill-color);\n",
              "      border-top-color: var(--fill-color);\n",
              "    }\n",
              "    30% {\n",
              "      border-color: transparent;\n",
              "      border-left-color: var(--fill-color);\n",
              "      border-top-color: var(--fill-color);\n",
              "      border-right-color: var(--fill-color);\n",
              "    }\n",
              "    40% {\n",
              "      border-color: transparent;\n",
              "      border-right-color: var(--fill-color);\n",
              "      border-top-color: var(--fill-color);\n",
              "    }\n",
              "    60% {\n",
              "      border-color: transparent;\n",
              "      border-right-color: var(--fill-color);\n",
              "    }\n",
              "    80% {\n",
              "      border-color: transparent;\n",
              "      border-right-color: var(--fill-color);\n",
              "      border-bottom-color: var(--fill-color);\n",
              "    }\n",
              "    90% {\n",
              "      border-color: transparent;\n",
              "      border-bottom-color: var(--fill-color);\n",
              "    }\n",
              "  }\n",
              "</style>\n",
              "\n",
              "  <script>\n",
              "    async function quickchart(key) {\n",
              "      const quickchartButtonEl =\n",
              "        document.querySelector('#' + key + ' button');\n",
              "      quickchartButtonEl.disabled = true;  // To prevent multiple clicks.\n",
              "      quickchartButtonEl.classList.add('colab-df-spinner');\n",
              "      try {\n",
              "        const charts = await google.colab.kernel.invokeFunction(\n",
              "            'suggestCharts', [key], {});\n",
              "      } catch (error) {\n",
              "        console.error('Error during call to suggestCharts:', error);\n",
              "      }\n",
              "      quickchartButtonEl.classList.remove('colab-df-spinner');\n",
              "      quickchartButtonEl.classList.add('colab-df-quickchart-complete');\n",
              "    }\n",
              "    (() => {\n",
              "      let quickchartButtonEl =\n",
              "        document.querySelector('#df-8307575a-4a5a-4a3f-8790-78b85fe19402 button');\n",
              "      quickchartButtonEl.style.display =\n",
              "        google.colab.kernel.accessAllowed ? 'block' : 'none';\n",
              "    })();\n",
              "  </script>\n",
              "</div>\n",
              "\n",
              "  <div id=\"id_0d6d5900-0a99-4239-b09f-9d206c3a0681\">\n",
              "    <style>\n",
              "      .colab-df-generate {\n",
              "        background-color: #E8F0FE;\n",
              "        border: none;\n",
              "        border-radius: 50%;\n",
              "        cursor: pointer;\n",
              "        display: none;\n",
              "        fill: #1967D2;\n",
              "        height: 32px;\n",
              "        padding: 0 0 0 0;\n",
              "        width: 32px;\n",
              "      }\n",
              "\n",
              "      .colab-df-generate:hover {\n",
              "        background-color: #E2EBFA;\n",
              "        box-shadow: 0px 1px 2px rgba(60, 64, 67, 0.3), 0px 1px 3px 1px rgba(60, 64, 67, 0.15);\n",
              "        fill: #174EA6;\n",
              "      }\n",
              "\n",
              "      [theme=dark] .colab-df-generate {\n",
              "        background-color: #3B4455;\n",
              "        fill: #D2E3FC;\n",
              "      }\n",
              "\n",
              "      [theme=dark] .colab-df-generate:hover {\n",
              "        background-color: #434B5C;\n",
              "        box-shadow: 0px 1px 3px 1px rgba(0, 0, 0, 0.15);\n",
              "        filter: drop-shadow(0px 1px 2px rgba(0, 0, 0, 0.3));\n",
              "        fill: #FFFFFF;\n",
              "      }\n",
              "    </style>\n",
              "    <button class=\"colab-df-generate\" onclick=\"generateWithVariable('topic_stats')\"\n",
              "            title=\"Generate code using this dataframe.\"\n",
              "            style=\"display:none;\">\n",
              "\n",
              "  <svg xmlns=\"http://www.w3.org/2000/svg\" height=\"24px\"viewBox=\"0 0 24 24\"\n",
              "       width=\"24px\">\n",
              "    <path d=\"M7,19H8.4L18.45,9,17,7.55,7,17.6ZM5,21V16.75L18.45,3.32a2,2,0,0,1,2.83,0l1.4,1.43a1.91,1.91,0,0,1,.58,1.4,1.91,1.91,0,0,1-.58,1.4L9.25,21ZM18.45,9,17,7.55Zm-12,3A5.31,5.31,0,0,0,4.9,8.1,5.31,5.31,0,0,0,1,6.5,5.31,5.31,0,0,0,4.9,4.9,5.31,5.31,0,0,0,6.5,1,5.31,5.31,0,0,0,8.1,4.9,5.31,5.31,0,0,0,12,6.5,5.46,5.46,0,0,0,6.5,12Z\"/>\n",
              "  </svg>\n",
              "    </button>\n",
              "    <script>\n",
              "      (() => {\n",
              "      const buttonEl =\n",
              "        document.querySelector('#id_0d6d5900-0a99-4239-b09f-9d206c3a0681 button.colab-df-generate');\n",
              "      buttonEl.style.display =\n",
              "        google.colab.kernel.accessAllowed ? 'block' : 'none';\n",
              "\n",
              "      buttonEl.onclick = () => {\n",
              "        google.colab.notebook.generateWithVariable('topic_stats');\n",
              "      }\n",
              "      })();\n",
              "    </script>\n",
              "  </div>\n",
              "\n",
              "    </div>\n",
              "  </div>\n"
            ],
            "application/vnd.google.colaboratory.intrinsic+json": {
              "type": "dataframe",
              "variable_name": "topic_stats",
              "summary": "{\n  \"name\": \"topic_stats\",\n  \"rows\": 7,\n  \"fields\": [\n    {\n      \"column\": \"Topic\",\n      \"properties\": {\n        \"dtype\": \"number\",\n        \"std\": 2,\n        \"min\": 0,\n        \"max\": 6,\n        \"num_unique_values\": 7,\n        \"samples\": [\n          3,\n          0,\n          5\n        ],\n        \"semantic_type\": \"\",\n        \"description\": \"\"\n      }\n    },\n    {\n      \"column\": \"Repr\\u00e9sentation (%)\",\n      \"properties\": {\n        \"dtype\": \"number\",\n        \"std\": 0.05980837556164538,\n        \"min\": 0.07901668129938542,\n        \"max\": 0.25636523266022826,\n        \"num_unique_values\": 7,\n        \"samples\": [\n          0.25636523266022826,\n          0.16681299385425813,\n          0.08252853380158033\n        ],\n        \"semantic_type\": \"\",\n        \"description\": \"\"\n      }\n    },\n    {\n      \"column\": \"Occurence\",\n      \"properties\": {\n        \"dtype\": \"number\",\n        \"std\": 68,\n        \"min\": 90,\n        \"max\": 292,\n        \"num_unique_values\": 7,\n        \"samples\": [\n          292,\n          190,\n          94\n        ],\n        \"semantic_type\": \"\",\n        \"description\": \"\"\n      }\n    }\n  ]\n}"
            }
          },
          "metadata": {}
        },
        {
          "output_type": "display_data",
          "data": {
            "text/plain": [
              "'Affichage des topics principaux représenté dans nos tweets :'"
            ],
            "application/vnd.google.colaboratory.intrinsic+json": {
              "type": "string"
            }
          },
          "metadata": {}
        },
        {
          "output_type": "display_data",
          "data": {
            "text/plain": [
              "'Topic 1: stop, mention, study, science, work, get, life, well, not, mention stop'"
            ],
            "application/vnd.google.colaboratory.intrinsic+json": {
              "type": "string"
            }
          },
          "metadata": {}
        },
        {
          "output_type": "display_data",
          "data": {
            "text/plain": [
              "'Topic 2: mention, report, via, via mention, like, support, stop, hashtag, good, cause'"
            ],
            "application/vnd.google.colaboratory.intrinsic+json": {
              "type": "string"
            }
          },
          "metadata": {}
        },
        {
          "output_type": "display_data",
          "data": {
            "text/plain": [
              "'Topic 3: hashtag, people, mention, stop, support, get, go, need, say, would'"
            ],
            "application/vnd.google.colaboratory.intrinsic+json": {
              "type": "string"
            }
          },
          "metadata": {}
        },
        {
          "output_type": "display_data",
          "data": {
            "text/plain": [
              "'Topic 4: hashtag, mention, support, stop, new, mention hashtag, support hashtag, hashtag mention, not, help'"
            ],
            "application/vnd.google.colaboratory.intrinsic+json": {
              "type": "string"
            }
          },
          "metadata": {}
        },
        {
          "output_type": "display_data",
          "data": {
            "text/plain": [
              "'Topic 5: mention, lead, stop, hashtag, go, world, great, police, first, death'"
            ],
            "application/vnd.google.colaboratory.intrinsic+json": {
              "type": "string"
            }
          },
          "metadata": {}
        },
        {
          "output_type": "display_data",
          "data": {
            "text/plain": [
              "'Topic 6: and, hundred, one, hundred and, thousand, three, two, eight, one hundred, seven'"
            ],
            "application/vnd.google.colaboratory.intrinsic+json": {
              "type": "string"
            }
          },
          "metadata": {}
        },
        {
          "output_type": "display_data",
          "data": {
            "text/plain": [
              "'Topic 7: two, thousand, two thousand, and, thousand and, twenty, retwet, support, mention, hashtag'"
            ],
            "application/vnd.google.colaboratory.intrinsic+json": {
              "type": "string"
            }
          },
          "metadata": {}
        },
        {
          "output_type": "display_data",
          "data": {
            "text/plain": [
              "'Visualisation de la répartition des topics via un graph normalisé :'"
            ],
            "application/vnd.google.colaboratory.intrinsic+json": {
              "type": "string"
            }
          },
          "metadata": {}
        },
        {
          "output_type": "display_data",
          "data": {
            "text/plain": [
              "<Figure size 1000x600 with 1 Axes>"
            ],
            "image/png": "[encoded data removed]"
          },
          "metadata": {}
        }
      ],
      "source": [
        "#Fonction permettant d'afficher les mots les plus courant d'un topic en question\n",
        "def print_top_words(model, feature_names, n_top_words=10):\n",
        "    for topic_idx, topic in enumerate(model.components_):\n",
        "        top_words = [feature_names[i] for i in topic.argsort()[:-n_top_words - 1:-1]]\n",
        "        display(f\"Topic {topic_idx+1}: {', '.join(top_words)}\")\n",
        "\n",
        "\n",
        "\n",
        "# Transformer TF-IDF en une Matrice Exploitable par LDA\n",
        "count_vectorizer = CountVectorizer(ngram_range=(1, 2), min_df=5, max_df=0.9)\n",
        "count_matrix = count_vectorizer.fit_transform(dataPrepared['text'])\n",
        "\n",
        "\n",
        "\n",
        "# Configuration du modèle LDA pour l'appliquer\n",
        "n_topics = 7  # Nombre de topics à identifier ( variable à ajuster pour avoir +/- de topic majeur à identfier)\n",
        "lda_model = LatentDirichletAllocation(n_components=n_topics, random_state=42, max_iter=10)\n",
        "\n",
        "# Entraînement du modèle\n",
        "lda_topics = lda_model.fit_transform(count_matrix)\n",
        "\n",
        "\n",
        "# Obtenir les mots les plus représentatifs de chaque topic\n",
        "feature_names = count_vectorizer.get_feature_names_out()\n",
        "\n",
        "\n",
        "\n",
        "# Associer chaque tweet à son topic dominant\n",
        "topic_assignments = np.argmax(lda_topics, axis=1)\n",
        "\n",
        "# Ajouter au DataFrame\n",
        "dataPrepared['Topic'] = topic_assignments\n",
        "\n",
        "# Afficher pour chaque répartition son nombre d'itération et son occurence normalisé dans le même tableau\n",
        "topic_counts = dataPrepared['Topic'].value_counts(normalize=True)\n",
        "\n",
        "# Convertir les occurrences en pourcentage\n",
        "topic_counts_percent = dataPrepared['Topic'].value_counts()\n",
        "\n",
        "# Créer un tableau avec le nombre d'occurrences et les pourcentages\n",
        "topic_stats = pd.DataFrame({\n",
        "    'Représentation (%)': topic_counts,\n",
        "    'Occurence': topic_counts_percent\n",
        "})\n",
        "\n",
        "display(\"Visualisation des recurrences et de la répartition des topics :\")\n",
        "\n",
        "# Afficher le tableau\n",
        "display(topic_stats)\n",
        "\n",
        "\n",
        "display(\"Affichage des topics principaux représenté dans nos tweets :\")\n",
        "# Afficher les topics principaux représenté 1,3,0,2,4\n",
        "print_top_words(lda_model, feature_names, n_top_words=10)\n",
        "\n",
        "\n",
        "display(\"Visualisation de la répartition des topics via un graph normalisé :\")\n",
        "# Visualisation de la répartition des topics via un graph normalisé\n",
        "plt.figure(figsize=(10, 6))\n",
        "topic_counts.plot(kind='bar', color=colors)\n",
        "plt.title('Répartition des Topics Dominants', fontsize=16)\n",
        "plt.xlabel('Topic', fontsize=12)\n",
        "plt.ylabel('Proportion (%)', fontsize=12)\n",
        "plt.xticks(rotation=0)\n",
        "plt.show()"
      ]
    },
    {
      "cell_type": "markdown",
      "source": [
        "On observe que nous avons des topics ayant une réparition +/- équivalente, ce qui signifie que ces 7 topics sont à peu près représentés de la même manière dans nos tweets.\n"
      ],
      "metadata": {
        "id": "DqkXP-Ttwi1y"
      }
    },
    {
      "cell_type": "markdown",
      "metadata": {
        "id": "x5zzt7yn4uf9"
      },
      "source": [
        "Evaluons la cohérence de nos topics /!\\ à finir\n"
      ]
    },
    {
      "cell_type": "code",
      "execution_count": 33,
      "metadata": {
        "id": "8_7Rl0E644dq",
        "colab": {
          "base_uri": "https://localhost:8080/",
          "height": 403
        },
        "outputId": "5b9d9a3e-29d2-4098-cdff-fbe9797a2705"
      },
      "outputs": [
        {
          "output_type": "error",
          "ename": "ModuleNotFoundError",
          "evalue": "No module named 'gensim'",
          "traceback": [
            "\u001b[0;31m---------------------------------------------------------------------------\u001b[0m",
            "\u001b[0;31mModuleNotFoundError\u001b[0m                       Traceback (most recent call last)",
            "\u001b[0;32m<ipython-input-33-dcc7e18fbda9>\u001b[0m in \u001b[0;36m<cell line: 0>\u001b[0;34m()\u001b[0m\n\u001b[1;32m      1\u001b[0m \u001b[0;31m#Evaluons la cohérence de nos topics\u001b[0m\u001b[0;34m\u001b[0m\u001b[0;34m\u001b[0m\u001b[0m\n\u001b[0;32m----> 2\u001b[0;31m \u001b[0;32mfrom\u001b[0m \u001b[0mgensim\u001b[0m\u001b[0;34m.\u001b[0m\u001b[0mmodels\u001b[0m \u001b[0;32mimport\u001b[0m \u001b[0mCoherenceModel\u001b[0m\u001b[0;34m\u001b[0m\u001b[0;34m\u001b[0m\u001b[0m\n\u001b[0m\u001b[1;32m      3\u001b[0m \u001b[0mcoherence_model\u001b[0m \u001b[0;34m=\u001b[0m \u001b[0mCoherenceModel\u001b[0m\u001b[0;34m(\u001b[0m\u001b[0mmodel\u001b[0m\u001b[0;34m=\u001b[0m\u001b[0mlda_model\u001b[0m\u001b[0;34m,\u001b[0m \u001b[0mtexts\u001b[0m\u001b[0;34m=\u001b[0m\u001b[0mdataPrepared\u001b[0m\u001b[0;34m[\u001b[0m\u001b[0;34m'text'\u001b[0m\u001b[0;34m]\u001b[0m\u001b[0;34m,\u001b[0m \u001b[0mdictionary\u001b[0m\u001b[0;34m=\u001b[0m\u001b[0mcount_vectorizer\u001b[0m\u001b[0;34m.\u001b[0m\u001b[0mvocabulary_\u001b[0m\u001b[0;34m,\u001b[0m \u001b[0mcoherence\u001b[0m\u001b[0;34m=\u001b[0m\u001b[0;34m'c_v'\u001b[0m\u001b[0;34m)\u001b[0m\u001b[0;34m\u001b[0m\u001b[0;34m\u001b[0m\u001b[0m\n\u001b[1;32m      4\u001b[0m \u001b[0mcoherence_score\u001b[0m \u001b[0;34m=\u001b[0m \u001b[0mcoherence_model\u001b[0m\u001b[0;34m.\u001b[0m\u001b[0mget_coherence\u001b[0m\u001b[0;34m(\u001b[0m\u001b[0;34m)\u001b[0m\u001b[0;34m\u001b[0m\u001b[0;34m\u001b[0m\u001b[0m\n",
            "\u001b[0;31mModuleNotFoundError\u001b[0m: No module named 'gensim'",
            "",
            "\u001b[0;31m---------------------------------------------------------------------------\u001b[0;32m\nNOTE: If your import is failing due to a missing package, you can\nmanually install dependencies using either !pip or !apt.\n\nTo view examples of installing some common dependencies, click the\n\"Open Examples\" button below.\n\u001b[0;31m---------------------------------------------------------------------------\u001b[0m\n"
          ],
          "errorDetails": {
            "actions": [
              {
                "action": "open_url",
                "actionText": "Open Examples",
                "url": "/notebooks/snippets/importing_libraries.ipynb"
              }
            ]
          }
        }
      ],
      "source": [
        "#Evaluons la cohérence de nos topics\n",
        "from gensim.models import CoherenceModel\n",
        "coherence_model = CoherenceModel(model=lda_model, texts=dataPrepared['text'], dictionary=count_vectorizer.vocabulary_, coherence='c_v')\n",
        "coherence_score = coherence_model.get_coherence()"
      ]
    },
    {
      "cell_type": "markdown",
      "metadata": {
        "id": "R9z-5QOD5B3m"
      },
      "source": [
        "Visualisation du nuage des mots de chaque topics\n"
      ]
    },
    {
      "cell_type": "code",
      "execution_count": 34,
      "metadata": {
        "id": "9Ex1aUGG5Str",
        "colab": {
          "base_uri": "https://localhost:8080/",
          "height": 302
        },
        "outputId": "15d16e17-2d9f-45f4-a295-c13104d10b06"
      },
      "outputs": [
        {
          "output_type": "display_data",
          "data": {
            "text/plain": [
              "<Figure size 2000x1000 with 8 Axes>"
            ],
            "image/png": "[encoded data removed]"
          },
          "metadata": {}
        }
      ],
      "source": [
        "from wordcloud import WordCloud\n",
        "import matplotlib.pyplot as plt\n",
        "\n",
        "n_topics = len(lda_model.components_)\n",
        "\n",
        "\n",
        "n_rows = 2\n",
        "n_cols = (n_topics // n_rows) + (n_topics % n_rows > 0)\n",
        "\n",
        "\n",
        "fig, axes = plt.subplots(nrows=n_rows, ncols=n_cols, figsize=(n_cols * 5, n_rows * 5))\n",
        "axes = axes.flatten()\n",
        "# Boucle sur chaque topic pour créer le nuage de mots\n",
        "for topic_idx, topic in enumerate(lda_model.components_):\n",
        "    # Générer le nuage de mots pour chaque topic\n",
        "    wordcloud = WordCloud(width=800, height=400).generate(\" \".join([feature_names[i] for i in topic.argsort()[:-15 - 1:-1]]))\n",
        "    # Afficher le nuage de mots dans le sous-graphe approprié\n",
        "    axes[topic_idx].imshow(wordcloud, interpolation=\"bilinear\")\n",
        "    axes[topic_idx].axis(\"off\")  # Retirer les axes\n",
        "    axes[topic_idx].set_title(f\"Topic {topic_idx + 1}\")\n",
        "for i in range(n_topics, len(axes)):\n",
        "    axes[i].axis('off')\n",
        "plt.tight_layout()\n",
        "plt.show()\n"
      ]
    },
    {
      "cell_type": "markdown",
      "source": [
        "## **Classification**"
      ],
      "metadata": {
        "id": "xRzsVXbNp9zU"
      }
    },
    {
      "cell_type": "markdown",
      "source": [
        "Le but de la classification est de permettre de déterminer le contexte de nos tweets en fonction de leurs caractéristiques.\n",
        "\n",
        "<br>\n",
        "\n",
        "Pour obtenir les meuilleurs résultats possibles, nous allons pour établir 4 méthodes de classification :\n",
        "\n",
        "<br>\n",
        "\n",
        "\n",
        "-Decision Tree\n",
        "\n",
        "-Naïve Bayes\n",
        "\n",
        "-SVC (Support Vector Clustering)\n",
        "\n",
        "-KNN (k-nearest neighbors)\n",
        "\n",
        "<br>\n",
        "\n",
        "Puis nous allons les tester sur 3 taches de classification :\n",
        "\n",
        "- {SCIENTIFIQUE} vs. {NON SCIENTIFIQUE} (2 classes)\n",
        "- {CLAIM, REF} vs. {CONTEXT} (deux classes)\n",
        "-{CLAIM} vs. {REF} vs. {CONTEXT} (trois classes)\n",
        "\n",
        "Une fois ce travail réalisé, nous pourrons évaluer les performaces de chaque classifieur via plusieurs métriques différentes.\n"
      ],
      "metadata": {
        "id": "8OQftVFDkgLg"
      }
    },
    {
      "cell_type": "markdown",
      "source": [
        "Nous afficherons nos résultats via des courbes définir ci-dessous :"
      ],
      "metadata": {
        "id": "NZK-1dl7oMmu"
      }
    },
    {
      "cell_type": "code",
      "source": [
        "#Fonction d'affichage des courbes\n",
        "def plot_curves_confusion(confusion_matrix, class_names):\n",
        "    plt.figure(1, figsize=(16, 6))\n",
        "    plt.gcf().subplots_adjust(left=0.125, bottom=0.2, right=1, top=0.9, wspace=0.25, hspace=0)\n",
        "\n",
        "    # Matrice de confusion\n",
        "    plt.subplot(1, 3, 3)\n",
        "    sns.heatmap(confusion_matrix, annot=True, fmt=\"d\", cmap='Blues', xticklabels=class_names, yticklabels=class_names)\n",
        "    plt.xlabel('Predicted', fontsize=12)\n",
        "    plt.title(\"Confusion matrix\")\n",
        "    plt.ylabel('True', fontsize=12)\n",
        "    plt.show()\n",
        "\n",
        "\n",
        "def plot_curves(scores):\n",
        "    plt.figure(1, figsize=(16, 6))\n",
        "    plt.gcf().subplots_adjust(left=0.125, bottom=0.2, right=1, top=0.9, wspace=0.25, hspace=0)\n",
        "\n",
        "    # Plot loss\n",
        "    plt.subplot(121)\n",
        "    plt.title('Cross Entropy Loss')\n",
        "    plt.plot(scores, color='blue')\n",
        "    plt.ylabel('Loss')\n",
        "    plt.xlabel('Fold')\n",
        "\n",
        "    # Plot accuracy\n",
        "    plt.subplot(122)\n",
        "    plt.title('Classification Accuracy')\n",
        "    plt.plot(1 - scores, color='red')\n",
        "    plt.ylabel('Error Rate')\n",
        "    plt.xlabel('Fold')\n",
        "\n",
        "    plt.show()\n",
        "\n",
        "def plot_curves_results(naive_scores, svc_scores, decision_scores, knn_scores):\n",
        "  classifiers = ['Naive Bayes', 'SVC', 'Decision Tree', 'KNN']\n",
        "\n",
        "  fold_scores = [naive_scores, svc_scores, decision_scores, knn_scores]\n",
        "\n",
        "  # Scores moyens\n",
        "  plt.figure(figsize=(8, 5))\n",
        "  mean_scores = [score.mean() for score in fold_scores]\n",
        "  plt.bar(classifiers, mean_scores, color=['blue', 'orange', 'green', 'red'])\n",
        "  plt.title('Scores moyens des classifieurs')\n",
        "  plt.xlabel('Classifieurs')\n",
        "  plt.ylabel('Score moyen')\n",
        "  plt.show()\n"
      ],
      "metadata": {
        "id": "jYmamEIqn9v3"
      },
      "execution_count": 35,
      "outputs": []
    },
    {
      "cell_type": "markdown",
      "source": [
        "On instancie nos données d'apprentissage :"
      ],
      "metadata": {
        "id": "hzaMPCPlpGyj"
      }
    },
    {
      "cell_type": "code",
      "source": [
        "#Decoupage du jeu de données en jeu de test et jeu d'apprentissage (on prends 30% du jeu de données pour le test)\n",
        "from sklearn.model_selection import train_test_split\n",
        "X_train, X_test, y_train, y_test = train_test_split(vectorized_df, data_upsampled['science_related'], test_size=0.3, random_state=42)\n",
        "\n"
      ],
      "metadata": {
        "id": "WbXH1d5gpUu6"
      },
      "execution_count": null,
      "outputs": []
    },
    {
      "cell_type": "markdown",
      "source": [
        "**Decision TREE**"
      ],
      "metadata": {
        "id": "c49PIqtIooz3"
      }
    },
    {
      "cell_type": "code",
      "source": [
        "#Entrainement du modèle\n",
        "\n",
        "DecisionTree = DecisionTreeClassifier()\n",
        "DecisionTree\n"
      ],
      "metadata": {
        "id": "nE9qF-JikVaN"
      },
      "execution_count": null,
      "outputs": []
    },
    {
      "cell_type": "markdown",
      "metadata": {
        "id": "VgbWnlQjwjuJ"
      },
      "source": [
        "## **Upsampling** Après les premiers classifieurs\n",
        "\n",
        "<br>\n",
        "\n",
        "Après avoir effectué notre topic modelling afin d'identifier les idées principales de nos tweets, nous allons appliquer un Upsampling.\n",
        "\n",
        "<br>\n",
        "\n",
        "Dans le domaine des méthode d'apprentisage automatique, l'upsampling est utilisé afin d'équilibrer nos classes désséquilibrées en augmentant les classes qui sont sous représentés. De ce fait, nous aurons une meilleure répartion de nos classes (**science_related, scientific_claim, scientific_reference, scientific_context**). Voici un extrait de chaque classe dans notre dataset préparé avant l'upsampling :"
      ]
    },
    {
      "cell_type": "code",
      "execution_count": null,
      "metadata": {
        "id": "FvDXryah0hjf"
      },
      "outputs": [],
      "source": [
        "#affichage de chaque classe dans un graph\n",
        "fig, axes = plt.subplots(2, 2, figsize=(12, 10))  # 2 lignes, 2 colonnes pour les sous-graphiques\n",
        "\n",
        "# Afficher la répartition de chaque colonne dans un sous-graphe\n",
        "dataPrepared['science_related'].value_counts().plot(kind='bar', ax=axes[0, 0], color='skyblue')\n",
        "axes[0, 0].set_title('Répartition de science_related')\n",
        "\n",
        "dataPrepared['scientific_claim'].value_counts().plot(kind='bar', ax=axes[0, 1], color='lightgreen')\n",
        "axes[0, 1].set_title('Répartition de scientific_claim')\n",
        "\n",
        "dataPrepared['scientific_reference'].value_counts().plot(kind='bar', ax=axes[1, 0], color='lightcoral')\n",
        "axes[1, 0].set_title('Répartition de scientific_reference')\n",
        "\n",
        "dataPrepared['scientific_context'].value_counts().plot(kind='bar', ax=axes[1, 1], color='lightsalmon')\n",
        "axes[1, 1].set_title('Répartition de scientific_context')\n",
        "\n",
        "\n",
        "plt.tight_layout()\n",
        "plt.show()"
      ]
    },
    {
      "cell_type": "markdown",
      "source": [
        "Appliquons l'upsampling :"
      ],
      "metadata": {
        "id": "3_irzH2010Nq"
      }
    },
    {
      "cell_type": "code",
      "execution_count": null,
      "metadata": {
        "id": "c_-xuwUkyzMY"
      },
      "outputs": [],
      "source": [
        "import pandas as pd\n",
        "from sklearn.utils import resample\n",
        "\n",
        "# Liste des colonnes de classes à traiter\n",
        "classes = ['science_related', 'scientific_claim', 'scientific_reference', 'scientific_context']\n",
        "\n",
        "# Créer un DataFrame vide pour stocker les résultats\n",
        "results = pd.DataFrame(columns=['Class', 'Avant Upsampling (0)', 'Avant Upsampling (1)',\n",
        "                                'Après Upsampling (0)', 'Après Upsampling (1)'])\n",
        "\n",
        "# Boucle pour chaque classe\n",
        "for class_name in classes:\n",
        "    # Extraire les données de la classe\n",
        "    y = dataPrepared[class_name]\n",
        "\n",
        "    # Séparer les classes majoritaires et minoritaires\n",
        "    df_majority = dataPrepared[dataPrepared[class_name] == 0]\n",
        "    df_minority = dataPrepared[dataPrepared[class_name] == 1]\n",
        "\n",
        "    # Upsampling de la classe minoritaire\n",
        "    df_minority_upsampled = resample(df_minority,\n",
        "                                     replace=True,     # avec remplacement\n",
        "                                     n_samples=len(df_majority),    # faire correspondre la taille de la majorité\n",
        "                                     random_state=42)  # pour la reproductibilité\n",
        "\n",
        "    # Fusionner les DataFrames pour obtenir un DataFrame équilibré\n",
        "    data_upsampled = pd.concat([df_majority, df_minority_upsampled])\n",
        "\n",
        "    # Réinitialiser l'index de data_upsampled pour éviter les indices dupliqués\n",
        "    data_upsampled = data_upsampled.reset_index(drop=True)\n",
        "\n",
        "    # Remplacer la colonne dans le dataset avec les données upsamplées\n",
        "    dataPrepared[class_name] = data_upsampled[class_name]\n",
        "\n",
        "    # Calcul des valeurs de fréquence avant et après upsampling\n",
        "    counts_before = y.value_counts()\n",
        "    counts_after = data_upsampled[class_name].value_counts()\n",
        "\n",
        "    # Créer un DataFrame temporaire pour chaque classe\n",
        "    temp_results = pd.DataFrame({\n",
        "        'Class': [class_name],\n",
        "        'Avant Upsampling (0)': [counts_before.get(0, 0)],  # Valeur par défaut 0 si la classe 0 n'existe pas\n",
        "        'Avant Upsampling (1)': [counts_before.get(1, 0)],  # Valeur par défaut 0 si la classe 1 n'existe pas\n",
        "        'Après Upsampling (0)': [counts_after.get(0, 0)],\n",
        "        'Après Upsampling (1)': [counts_after.get(1, 0)]\n",
        "    })\n",
        "\n",
        "    # Ajouter les résultats au DataFrame global en utilisant pd.concat\n",
        "    results = pd.concat([results, temp_results], ignore_index=True)\n",
        "\n",
        "# Affichage du tableau comparatif\n",
        "display(results)"
      ]
    },
    {
      "cell_type": "code",
      "source": [
        "import pandas as pd\n",
        "from sklearn.utils import resample\n",
        "\n",
        "# Liste des colonnes de classes à traiter\n",
        "classes = ['science_related', 'scientific_claim', 'scientific_reference', 'scientific_context']\n",
        "\n",
        "# Calculer la taille maximale des classes minoritaires\n",
        "max_samples = int(dataPrepared[classes].sum(axis=0).max())  # Conversion en entier\n",
        "\n",
        "\n",
        "# Séparer les tweets contenant au moins un 1 et ceux ayant uniquement des 0\n",
        "df_minority = dataPrepared[dataPrepared[classes].sum(axis=1) > 0]  # Tweets avec au moins un 1\n",
        "df_majority = dataPrepared[dataPrepared[classes].sum(axis=1) == 0]  # Tweets avec uniquement des 0\n",
        "\n",
        "# Upsampling des tweets minoritaires\n",
        "df_minority_upsampled = resample(df_minority,\n",
        "                                 replace=True,\n",
        "                                 n_samples=max_samples,  # Équilibrer avec la classe majoritaire\n",
        "                                 random_state=42)\n",
        "\n",
        "# Fusionner les DataFrames\n",
        "data_upsampled = pd.concat([df_majority, df_minority_upsampled]).reset_index(drop=True)\n",
        "\n",
        "# Affichage du nombre de tweets avant et après upsampling\n",
        "print(\"Avant Upsampling :\")\n",
        "print(dataPrepared[classes].sum(axis=0))\n",
        "\n",
        "print(\"\\nAprès Upsampling :\")\n",
        "print(data_upsampled[classes].sum(axis=0))\n"
      ],
      "metadata": {
        "id": "5m5kxL4eFYhx"
      },
      "execution_count": null,
      "outputs": []
    },
    {
      "cell_type": "markdown",
      "source": [
        "On visualise bien le fait que l'upsampling à bien rééquilibrer nos classes et que désormais nous n'avons plus de classes minoritaire."
      ],
      "metadata": {
        "id": "zAVUEk5jDto5"
      }
    }
  ],
  "metadata": {
    "colab": {
      "provenance": [],
      "toc_visible": true,
      "include_colab_link": true
    },
    "kernelspec": {
      "display_name": "Python 3",
      "language": "python",
      "name": "python3"
    },
    "language_info": {
      "codemirror_mode": {
        "name": "ipython",
        "version": 3
      },
      "file_extension": ".py",
      "mimetype": "text/x-python",
      "name": "python",
      "nbconvert_exporter": "python",
      "pygments_lexer": "ipython3",
      "version": "3.6.4"
    }
  },
  "nbformat": 4,
  "nbformat_minor": 0
}